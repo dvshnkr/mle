{
 "cells": [
  {
   "cell_type": "markdown",
   "id": "73a211b8-c8ae-4b7f-9a4f-24183affeac3",
   "metadata": {},
   "source": [
    "Solving the [2023 Week 2 Homework](https://github.com/DataTalksClub/machine-learning-zoomcamp/blob/master/cohorts/2023/02-regression/homework.md)"
   ]
  },
  {
   "cell_type": "markdown",
   "id": "f6c2ef15-2dc5-46e2-803d-c8b48cd17af7",
   "metadata": {},
   "source": [
    "# Section 1\n"
   ]
  },
  {
   "cell_type": "code",
   "execution_count": 1,
   "id": "35c8a5ba-0947-44a0-b1a6-56a15954d696",
   "metadata": {},
   "outputs": [],
   "source": [
    "import numpy as np\n",
    "import pandas as pd\n",
    "import matplotlib.pyplot as plt\n",
    "import seaborn as sns\n",
    "\n",
    "%matplotlib inline"
   ]
  },
  {
   "cell_type": "code",
   "execution_count": 2,
   "id": "3d98dbe6-27d5-4a72-a2fb-965f14ad68e6",
   "metadata": {},
   "outputs": [],
   "source": [
    "from warnings import simplefilter\n",
    "simplefilter(action='ignore', category=FutureWarning)"
   ]
  },
  {
   "cell_type": "code",
   "execution_count": 3,
   "id": "b12c37be-d59d-4c6a-a5c4-8965a0add1c6",
   "metadata": {},
   "outputs": [
    {
     "data": {
      "text/html": [
       "<div>\n",
       "<style scoped>\n",
       "    .dataframe tbody tr th:only-of-type {\n",
       "        vertical-align: middle;\n",
       "    }\n",
       "\n",
       "    .dataframe tbody tr th {\n",
       "        vertical-align: top;\n",
       "    }\n",
       "\n",
       "    .dataframe thead th {\n",
       "        text-align: right;\n",
       "    }\n",
       "</style>\n",
       "<table border=\"1\" class=\"dataframe\">\n",
       "  <thead>\n",
       "    <tr style=\"text-align: right;\">\n",
       "      <th></th>\n",
       "      <th>longitude</th>\n",
       "      <th>latitude</th>\n",
       "      <th>housing_median_age</th>\n",
       "      <th>total_rooms</th>\n",
       "      <th>total_bedrooms</th>\n",
       "      <th>population</th>\n",
       "      <th>households</th>\n",
       "      <th>median_income</th>\n",
       "      <th>median_house_value</th>\n",
       "      <th>ocean_proximity</th>\n",
       "    </tr>\n",
       "  </thead>\n",
       "  <tbody>\n",
       "    <tr>\n",
       "      <th>0</th>\n",
       "      <td>-122.23</td>\n",
       "      <td>37.88</td>\n",
       "      <td>41.0</td>\n",
       "      <td>880.0</td>\n",
       "      <td>129.0</td>\n",
       "      <td>322.0</td>\n",
       "      <td>126.0</td>\n",
       "      <td>8.3252</td>\n",
       "      <td>452600.0</td>\n",
       "      <td>NEAR BAY</td>\n",
       "    </tr>\n",
       "    <tr>\n",
       "      <th>1</th>\n",
       "      <td>-122.22</td>\n",
       "      <td>37.86</td>\n",
       "      <td>21.0</td>\n",
       "      <td>7099.0</td>\n",
       "      <td>1106.0</td>\n",
       "      <td>2401.0</td>\n",
       "      <td>1138.0</td>\n",
       "      <td>8.3014</td>\n",
       "      <td>358500.0</td>\n",
       "      <td>NEAR BAY</td>\n",
       "    </tr>\n",
       "    <tr>\n",
       "      <th>2</th>\n",
       "      <td>-122.24</td>\n",
       "      <td>37.85</td>\n",
       "      <td>52.0</td>\n",
       "      <td>1467.0</td>\n",
       "      <td>190.0</td>\n",
       "      <td>496.0</td>\n",
       "      <td>177.0</td>\n",
       "      <td>7.2574</td>\n",
       "      <td>352100.0</td>\n",
       "      <td>NEAR BAY</td>\n",
       "    </tr>\n",
       "    <tr>\n",
       "      <th>3</th>\n",
       "      <td>-122.25</td>\n",
       "      <td>37.85</td>\n",
       "      <td>52.0</td>\n",
       "      <td>1274.0</td>\n",
       "      <td>235.0</td>\n",
       "      <td>558.0</td>\n",
       "      <td>219.0</td>\n",
       "      <td>5.6431</td>\n",
       "      <td>341300.0</td>\n",
       "      <td>NEAR BAY</td>\n",
       "    </tr>\n",
       "    <tr>\n",
       "      <th>4</th>\n",
       "      <td>-122.25</td>\n",
       "      <td>37.85</td>\n",
       "      <td>52.0</td>\n",
       "      <td>1627.0</td>\n",
       "      <td>280.0</td>\n",
       "      <td>565.0</td>\n",
       "      <td>259.0</td>\n",
       "      <td>3.8462</td>\n",
       "      <td>342200.0</td>\n",
       "      <td>NEAR BAY</td>\n",
       "    </tr>\n",
       "  </tbody>\n",
       "</table>\n",
       "</div>"
      ],
      "text/plain": [
       "   longitude  latitude  housing_median_age  total_rooms  total_bedrooms  \\\n",
       "0    -122.23     37.88                41.0        880.0           129.0   \n",
       "1    -122.22     37.86                21.0       7099.0          1106.0   \n",
       "2    -122.24     37.85                52.0       1467.0           190.0   \n",
       "3    -122.25     37.85                52.0       1274.0           235.0   \n",
       "4    -122.25     37.85                52.0       1627.0           280.0   \n",
       "\n",
       "   population  households  median_income  median_house_value ocean_proximity  \n",
       "0       322.0       126.0         8.3252            452600.0        NEAR BAY  \n",
       "1      2401.0      1138.0         8.3014            358500.0        NEAR BAY  \n",
       "2       496.0       177.0         7.2574            352100.0        NEAR BAY  \n",
       "3       558.0       219.0         5.6431            341300.0        NEAR BAY  \n",
       "4       565.0       259.0         3.8462            342200.0        NEAR BAY  "
      ]
     },
     "execution_count": 3,
     "metadata": {},
     "output_type": "execute_result"
    }
   ],
   "source": [
    "housing_df = pd.read_csv('data/housing.csv')\n",
    "housing_df.head()"
   ]
  },
  {
   "cell_type": "markdown",
   "id": "7b72806b-d510-48ba-bc96-a5d3e4deca32",
   "metadata": {},
   "source": [
    "## EDA\n",
    "\n",
    "* Load the data.\n",
    "* Look at the `median_house_value` variable. Does it have a long tail? "
   ]
  },
  {
   "cell_type": "code",
   "execution_count": 4,
   "id": "5035b2cc-62ef-48c3-8363-4e2ba40ed121",
   "metadata": {},
   "outputs": [
    {
     "name": "stderr",
     "output_type": "stream",
     "text": [
      "C:\\Users\\devsn\\.virtualenvs\\ML-Zoomcamp-pE8Q0XHq\\lib\\site-packages\\seaborn\\axisgrid.py:118: UserWarning: The figure layout has changed to tight\n",
      "  self._figure.tight_layout(*args, **kwargs)\n"
     ]
    },
    {
     "data": {
      "image/png": "[encoded data removed]",
      "text/plain": [
       "<Figure size 500x500 with 1 Axes>"
      ]
     },
     "metadata": {},
     "output_type": "display_data"
    }
   ],
   "source": [
    "sns.displot(data=housing_df, x='median_house_value', kde=True);"
   ]
  },
  {
   "cell_type": "markdown",
   "id": "49d4eb44-04bc-42ec-878b-7a6b66a1ea9b",
   "metadata": {},
   "source": [
    "## Preparing the dataset \n",
    "\n",
    "For this homework, we only want to use a subset of data. \n",
    "\n",
    "First, keep only the records where `ocean_proximity` is either `'<1H OCEAN'` or `'INLAND'`\n",
    "\n",
    "Next, use only the following columns:\n",
    "\n",
    "* `'latitude'`,\n",
    "* `'longitude'`,\n",
    "* `'housing_median_age'`,\n",
    "* `'total_rooms'`,\n",
    "* `'total_bedrooms'`,\n",
    "* `'population'`,\n",
    "* `'households'`,\n",
    "* `'median_income'`,\n",
    "* `'median_house_value'`"
   ]
  },
  {
   "cell_type": "code",
   "execution_count": 5,
   "id": "fa0d623e-4112-4fa0-a240-839516f9d63e",
   "metadata": {},
   "outputs": [
    {
     "data": {
      "text/plain": [
       "ocean_proximity\n",
       "<1H OCEAN     9136\n",
       "INLAND        6551\n",
       "NEAR OCEAN    2658\n",
       "NEAR BAY      2290\n",
       "ISLAND           5\n",
       "Name: count, dtype: int64"
      ]
     },
     "execution_count": 5,
     "metadata": {},
     "output_type": "execute_result"
    }
   ],
   "source": [
    "housing_df['ocean_proximity'].value_counts()"
   ]
  },
  {
   "cell_type": "code",
   "execution_count": 6,
   "id": "bbd00f9d-90fb-40b2-840a-49674428a336",
   "metadata": {},
   "outputs": [
    {
     "data": {
      "text/html": [
       "<div>\n",
       "<style scoped>\n",
       "    .dataframe tbody tr th:only-of-type {\n",
       "        vertical-align: middle;\n",
       "    }\n",
       "\n",
       "    .dataframe tbody tr th {\n",
       "        vertical-align: top;\n",
       "    }\n",
       "\n",
       "    .dataframe thead th {\n",
       "        text-align: right;\n",
       "    }\n",
       "</style>\n",
       "<table border=\"1\" class=\"dataframe\">\n",
       "  <thead>\n",
       "    <tr style=\"text-align: right;\">\n",
       "      <th></th>\n",
       "      <th>latitude</th>\n",
       "      <th>longitude</th>\n",
       "      <th>housing_median_age</th>\n",
       "      <th>total_rooms</th>\n",
       "      <th>total_bedrooms</th>\n",
       "      <th>population</th>\n",
       "      <th>households</th>\n",
       "      <th>median_income</th>\n",
       "      <th>median_house_value</th>\n",
       "    </tr>\n",
       "  </thead>\n",
       "  <tbody>\n",
       "    <tr>\n",
       "      <th>0</th>\n",
       "      <td>37.64</td>\n",
       "      <td>-121.97</td>\n",
       "      <td>32.0</td>\n",
       "      <td>1283.0</td>\n",
       "      <td>194.0</td>\n",
       "      <td>485.0</td>\n",
       "      <td>171.0</td>\n",
       "      <td>6.0574</td>\n",
       "      <td>431000.0</td>\n",
       "    </tr>\n",
       "    <tr>\n",
       "      <th>1</th>\n",
       "      <td>37.61</td>\n",
       "      <td>-121.99</td>\n",
       "      <td>9.0</td>\n",
       "      <td>3666.0</td>\n",
       "      <td>711.0</td>\n",
       "      <td>2341.0</td>\n",
       "      <td>703.0</td>\n",
       "      <td>4.6458</td>\n",
       "      <td>217000.0</td>\n",
       "    </tr>\n",
       "    <tr>\n",
       "      <th>2</th>\n",
       "      <td>37.57</td>\n",
       "      <td>-121.97</td>\n",
       "      <td>21.0</td>\n",
       "      <td>4342.0</td>\n",
       "      <td>783.0</td>\n",
       "      <td>2172.0</td>\n",
       "      <td>789.0</td>\n",
       "      <td>4.6146</td>\n",
       "      <td>247600.0</td>\n",
       "    </tr>\n",
       "    <tr>\n",
       "      <th>3</th>\n",
       "      <td>37.58</td>\n",
       "      <td>-121.96</td>\n",
       "      <td>15.0</td>\n",
       "      <td>3575.0</td>\n",
       "      <td>597.0</td>\n",
       "      <td>1777.0</td>\n",
       "      <td>559.0</td>\n",
       "      <td>5.7192</td>\n",
       "      <td>283500.0</td>\n",
       "    </tr>\n",
       "    <tr>\n",
       "      <th>4</th>\n",
       "      <td>37.58</td>\n",
       "      <td>-121.98</td>\n",
       "      <td>20.0</td>\n",
       "      <td>4126.0</td>\n",
       "      <td>1031.0</td>\n",
       "      <td>2079.0</td>\n",
       "      <td>975.0</td>\n",
       "      <td>3.6832</td>\n",
       "      <td>216900.0</td>\n",
       "    </tr>\n",
       "  </tbody>\n",
       "</table>\n",
       "</div>"
      ],
      "text/plain": [
       "   latitude  longitude  housing_median_age  total_rooms  total_bedrooms  \\\n",
       "0     37.64    -121.97                32.0       1283.0           194.0   \n",
       "1     37.61    -121.99                 9.0       3666.0           711.0   \n",
       "2     37.57    -121.97                21.0       4342.0           783.0   \n",
       "3     37.58    -121.96                15.0       3575.0           597.0   \n",
       "4     37.58    -121.98                20.0       4126.0          1031.0   \n",
       "\n",
       "   population  households  median_income  median_house_value  \n",
       "0       485.0       171.0         6.0574            431000.0  \n",
       "1      2341.0       703.0         4.6458            217000.0  \n",
       "2      2172.0       789.0         4.6146            247600.0  \n",
       "3      1777.0       559.0         5.7192            283500.0  \n",
       "4      2079.0       975.0         3.6832            216900.0  "
      ]
     },
     "execution_count": 6,
     "metadata": {},
     "output_type": "execute_result"
    }
   ],
   "source": [
    "ocean_proximity_filter = (housing_df['ocean_proximity']=='<1H OCEAN') | (housing_df['ocean_proximity']=='INLAND')\n",
    "columns = [\n",
    "    'latitude',\n",
    "    'longitude',\n",
    "    'housing_median_age',\n",
    "    'total_rooms',\n",
    "    'total_bedrooms',\n",
    "    'population',\n",
    "    'households',\n",
    "    'median_income',\n",
    "    'median_house_value'\n",
    "]\n",
    "\n",
    "data = housing_df[ocean_proximity_filter].loc[:, columns].reset_index(drop=True)\n",
    "\n",
    "data.head()"
   ]
  },
  {
   "cell_type": "markdown",
   "id": "5db3deb5-a309-4195-8a73-7e3acfa2e4ab",
   "metadata": {},
   "source": [
    "# Section 2\n"
   ]
  },
  {
   "cell_type": "markdown",
   "id": "9a71c8d9-c784-4294-8f75-5f2b61188ea6",
   "metadata": {},
   "source": [
    "## Question 1\n",
    "\n",
    "There's one feature with missing values. What is it?\n",
    "\n",
    "* `total_rooms`\n",
    "* `total_bedrooms`\n",
    "* `population`\n",
    "* `households`"
   ]
  },
  {
   "cell_type": "code",
   "execution_count": 7,
   "id": "02f9373a-0335-401a-b02f-d011170f5550",
   "metadata": {},
   "outputs": [
    {
     "name": "stdout",
     "output_type": "stream",
     "text": [
      "<class 'pandas.core.frame.DataFrame'>\n",
      "RangeIndex: 15687 entries, 0 to 15686\n",
      "Data columns (total 9 columns):\n",
      " #   Column              Non-Null Count  Dtype  \n",
      "---  ------              --------------  -----  \n",
      " 0   latitude            15687 non-null  float64\n",
      " 1   longitude           15687 non-null  float64\n",
      " 2   housing_median_age  15687 non-null  float64\n",
      " 3   total_rooms         15687 non-null  float64\n",
      " 4   total_bedrooms      15530 non-null  float64\n",
      " 5   population          15687 non-null  float64\n",
      " 6   households          15687 non-null  float64\n",
      " 7   median_income       15687 non-null  float64\n",
      " 8   median_house_value  15687 non-null  float64\n",
      "dtypes: float64(9)\n",
      "memory usage: 1.1 MB\n"
     ]
    }
   ],
   "source": [
    "data.info()"
   ]
  },
  {
   "cell_type": "markdown",
   "id": "5ec49994-cc39-40c2-9b6a-cf230f34621c",
   "metadata": {},
   "source": [
    "**Answer**: `total_bedrooms`"
   ]
  },
  {
   "cell_type": "markdown",
   "id": "cd77df47-3540-46dc-b6c6-1f1937368502",
   "metadata": {},
   "source": [
    "## Question 2\n",
    "\n",
    "What's the median (50% percentile) for variable `'population'`?\n",
    "\n",
    "- 995\n",
    "- 1095\n",
    "- 1195\n",
    "- 1295"
   ]
  },
  {
   "cell_type": "code",
   "execution_count": 8,
   "id": "f1913ef8-b74f-4e00-b93e-fa0b4e0beed8",
   "metadata": {},
   "outputs": [
    {
     "data": {
      "text/plain": [
       "1195.0"
      ]
     },
     "execution_count": 8,
     "metadata": {},
     "output_type": "execute_result"
    }
   ],
   "source": [
    "np.median(data['population'])"
   ]
  },
  {
   "cell_type": "markdown",
   "id": "e48256a1-e6be-4e0f-b145-a893a29cce3b",
   "metadata": {},
   "source": [
    "**Answer**: 1195"
   ]
  },
  {
   "cell_type": "markdown",
   "id": "ba09cefd-f202-4887-a503-3ea071a801cb",
   "metadata": {},
   "source": [
    "# Section 3"
   ]
  },
  {
   "cell_type": "markdown",
   "id": "cf72fb9b-8029-4852-b94b-5deb63425c4f",
   "metadata": {},
   "source": [
    "## Prepare and split the dataset\n",
    "\n",
    "* Shuffle the initial dataset, use seed `42`.\n",
    "* Split your data in train/val/test sets, with 60%/20%/20% distribution.\n",
    "* Apply the log transformation to the `median_house_value` variable using the `np.log1p()` function."
   ]
  },
  {
   "cell_type": "code",
   "execution_count": 9,
   "id": "081b6be8-878f-47d1-af4c-793255984fe1",
   "metadata": {},
   "outputs": [],
   "source": [
    "n = len(data)\n",
    "\n",
    "n_val = int(n * 0.2)\n",
    "n_test = int(n * 0.2)\n",
    "n_train = n - n_val - n_test"
   ]
  },
  {
   "cell_type": "code",
   "execution_count": 10,
   "id": "f9856c68-136c-4ad5-952c-76503e151b11",
   "metadata": {},
   "outputs": [
    {
     "data": {
      "text/plain": [
       "(9413, 3137, 3137, 15687)"
      ]
     },
     "execution_count": 10,
     "metadata": {},
     "output_type": "execute_result"
    }
   ],
   "source": [
    "n_train, n_val, n_test, n_train+n_val+n_test"
   ]
  },
  {
   "cell_type": "code",
   "execution_count": 11,
   "id": "c5d2432f-4fb5-407c-aedd-a40739cfe81e",
   "metadata": {},
   "outputs": [
    {
     "data": {
      "text/html": [
       "<div>\n",
       "<style scoped>\n",
       "    .dataframe tbody tr th:only-of-type {\n",
       "        vertical-align: middle;\n",
       "    }\n",
       "\n",
       "    .dataframe tbody tr th {\n",
       "        vertical-align: top;\n",
       "    }\n",
       "\n",
       "    .dataframe thead th {\n",
       "        text-align: right;\n",
       "    }\n",
       "</style>\n",
       "<table border=\"1\" class=\"dataframe\">\n",
       "  <thead>\n",
       "    <tr style=\"text-align: right;\">\n",
       "      <th></th>\n",
       "      <th>latitude</th>\n",
       "      <th>longitude</th>\n",
       "      <th>housing_median_age</th>\n",
       "      <th>total_rooms</th>\n",
       "      <th>total_bedrooms</th>\n",
       "      <th>population</th>\n",
       "      <th>households</th>\n",
       "      <th>median_income</th>\n",
       "      <th>median_house_value</th>\n",
       "    </tr>\n",
       "  </thead>\n",
       "  <tbody>\n",
       "    <tr>\n",
       "      <th>15183</th>\n",
       "      <td>36.23</td>\n",
       "      <td>-119.14</td>\n",
       "      <td>22.0</td>\n",
       "      <td>2935.0</td>\n",
       "      <td>523.0</td>\n",
       "      <td>1927.0</td>\n",
       "      <td>530.0</td>\n",
       "      <td>2.5875</td>\n",
       "      <td>70400.0</td>\n",
       "    </tr>\n",
       "    <tr>\n",
       "      <th>4469</th>\n",
       "      <td>34.12</td>\n",
       "      <td>-117.79</td>\n",
       "      <td>16.0</td>\n",
       "      <td>2426.0</td>\n",
       "      <td>426.0</td>\n",
       "      <td>1319.0</td>\n",
       "      <td>446.0</td>\n",
       "      <td>4.8125</td>\n",
       "      <td>224500.0</td>\n",
       "    </tr>\n",
       "    <tr>\n",
       "      <th>9316</th>\n",
       "      <td>33.68</td>\n",
       "      <td>-117.97</td>\n",
       "      <td>26.0</td>\n",
       "      <td>3653.0</td>\n",
       "      <td>568.0</td>\n",
       "      <td>1930.0</td>\n",
       "      <td>585.0</td>\n",
       "      <td>5.7301</td>\n",
       "      <td>260900.0</td>\n",
       "    </tr>\n",
       "    <tr>\n",
       "      <th>4983</th>\n",
       "      <td>34.10</td>\n",
       "      <td>-118.03</td>\n",
       "      <td>32.0</td>\n",
       "      <td>2668.0</td>\n",
       "      <td>609.0</td>\n",
       "      <td>1512.0</td>\n",
       "      <td>541.0</td>\n",
       "      <td>2.9422</td>\n",
       "      <td>233100.0</td>\n",
       "    </tr>\n",
       "    <tr>\n",
       "      <th>13154</th>\n",
       "      <td>37.34</td>\n",
       "      <td>-121.87</td>\n",
       "      <td>39.0</td>\n",
       "      <td>2479.0</td>\n",
       "      <td>541.0</td>\n",
       "      <td>1990.0</td>\n",
       "      <td>506.0</td>\n",
       "      <td>2.4306</td>\n",
       "      <td>289100.0</td>\n",
       "    </tr>\n",
       "  </tbody>\n",
       "</table>\n",
       "</div>"
      ],
      "text/plain": [
       "       latitude  longitude  housing_median_age  total_rooms  total_bedrooms  \\\n",
       "15183     36.23    -119.14                22.0       2935.0           523.0   \n",
       "4469      34.12    -117.79                16.0       2426.0           426.0   \n",
       "9316      33.68    -117.97                26.0       3653.0           568.0   \n",
       "4983      34.10    -118.03                32.0       2668.0           609.0   \n",
       "13154     37.34    -121.87                39.0       2479.0           541.0   \n",
       "\n",
       "       population  households  median_income  median_house_value  \n",
       "15183      1927.0       530.0         2.5875             70400.0  \n",
       "4469       1319.0       446.0         4.8125            224500.0  \n",
       "9316       1930.0       585.0         5.7301            260900.0  \n",
       "4983       1512.0       541.0         2.9422            233100.0  \n",
       "13154      1990.0       506.0         2.4306            289100.0  "
      ]
     },
     "execution_count": 11,
     "metadata": {},
     "output_type": "execute_result"
    }
   ],
   "source": [
    "idx = np.arange(n)\n",
    "\n",
    "np.random.seed(42)\n",
    "np.random.shuffle(idx)\n",
    "\n",
    "df_train = data.iloc[idx[:n_train]]\n",
    "df_val = data.iloc[idx[n_train:n_train+n_val]]\n",
    "df_test = data.iloc[idx[n_train+n_val:]]\n",
    "\n",
    "df_train.head()"
   ]
  },
  {
   "cell_type": "code",
   "execution_count": 12,
   "id": "a1e8e8c8-60fe-46b4-aaa6-67c157ebeeb6",
   "metadata": {},
   "outputs": [
    {
     "name": "stdout",
     "output_type": "stream",
     "text": [
      "<class 'pandas.core.frame.DataFrame'>\n",
      "RangeIndex: 9413 entries, 0 to 9412\n",
      "Data columns (total 9 columns):\n",
      " #   Column              Non-Null Count  Dtype  \n",
      "---  ------              --------------  -----  \n",
      " 0   latitude            9413 non-null   float64\n",
      " 1   longitude           9413 non-null   float64\n",
      " 2   housing_median_age  9413 non-null   float64\n",
      " 3   total_rooms         9413 non-null   float64\n",
      " 4   total_bedrooms      9319 non-null   float64\n",
      " 5   population          9413 non-null   float64\n",
      " 6   households          9413 non-null   float64\n",
      " 7   median_income       9413 non-null   float64\n",
      " 8   median_house_value  9413 non-null   float64\n",
      "dtypes: float64(9)\n",
      "memory usage: 662.0 KB\n"
     ]
    }
   ],
   "source": [
    "df_train = df_train.reset_index(drop=True)\n",
    "df_val = df_val.reset_index(drop=True)\n",
    "df_test = df_test.reset_index(drop=True)\n",
    "\n",
    "df_train.info()"
   ]
  },
  {
   "cell_type": "code",
   "execution_count": 13,
   "id": "68b06563-b86e-4a3e-8c26-a67811fc8100",
   "metadata": {},
   "outputs": [],
   "source": [
    "y_train = np.log1p(df_train.median_house_value.values)\n",
    "y_val = np.log1p(df_val.median_house_value.values)\n",
    "y_test = np.log1p(df_test.median_house_value.values)\n",
    "\n",
    "del df_train['median_house_value']\n",
    "del df_val['median_house_value']\n",
    "del df_test['median_house_value']\n"
   ]
  },
  {
   "cell_type": "code",
   "execution_count": 14,
   "id": "c9d91b98-09b0-4e98-8444-6d9a874b32a3",
   "metadata": {},
   "outputs": [
    {
     "data": {
      "text/plain": [
       "9413"
      ]
     },
     "execution_count": 14,
     "metadata": {},
     "output_type": "execute_result"
    }
   ],
   "source": [
    "len(y_train)"
   ]
  },
  {
   "cell_type": "code",
   "execution_count": 15,
   "id": "e8936d91-8b5f-42ab-b3dd-af278af714b2",
   "metadata": {},
   "outputs": [],
   "source": [
    "def prepend_ones(X: np.ndarray) -> np.ndarray:\n",
    "    \"\"\"\n",
    "    Returns a matrix with a column of 1's prepended to it as the first column.\n",
    "    \"\"\"\n",
    "    return np.concatenate((np.ones((X.shape[0], 1)), X), axis=1)\n"
   ]
  },
  {
   "cell_type": "code",
   "execution_count": 16,
   "id": "acc86b7e-aafd-48a1-99d8-82fbe78934f8",
   "metadata": {},
   "outputs": [],
   "source": [
    "def train_linear_regression(X: np.ndarray, \n",
    "                      y: np.ndarray, \n",
    "                      r: int=None) -> np.ndarray:\n",
    "    \"\"\"\n",
    "    Returns weights for a linear regression model trained using X and y.\n",
    "    Optional parameter r for regularization.\n",
    "    \"\"\"\n",
    "\n",
    "    # print(type(X), \"\\n\\n\", type(y))\n",
    "    # prepend column of 1 to X\n",
    "    X = prepend_ones(X)\n",
    "    \n",
    "    XTX = X.T.dot(X)\n",
    "    # print(XTX)\n",
    "    if r:\n",
    "        XTX += np.eye(XTX.shape[0]) * r\n",
    "        # print(XTX)\n",
    "    \n",
    "    XTX_inv = np.linalg.inv(XTX)\n",
    "    w = XTX_inv.dot(X.T).dot(y)\n",
    "            \n",
    "    return w\n"
   ]
  },
  {
   "cell_type": "code",
   "execution_count": 17,
   "id": "2df748c4-f77d-429b-8606-ec894379aca3",
   "metadata": {},
   "outputs": [],
   "source": [
    "def predict_linear_regression(X: np.ndarray, w: np.ndarray) -> np.ndarray:\n",
    "    \"\"\"\n",
    "    Returns predictions for a given house X, \n",
    "    using trained weights w.\n",
    "    \"\"\"\n",
    "    \n",
    "    X = prepend_ones(X)\n",
    "    \n",
    "    return X.dot(w) #.reshape(-1,)  # returns a one-dimensional array\n"
   ]
  },
  {
   "cell_type": "code",
   "execution_count": 18,
   "id": "d5b0a97f-94e7-4103-a203-26d8437391cd",
   "metadata": {},
   "outputs": [],
   "source": [
    "def rmse(y_pred: np.ndarray, y_true: np.ndarray) -> np.float64:\n",
    "    \"\"\"\n",
    "    Returns the root mean square error (rmse)\n",
    "    using predicted values of the target variable (y_pred) \n",
    "    and actual values of the target variable (y_true).\n",
    "    \"\"\"\n",
    "\n",
    "    rmse = np.sqrt((np.square(y_pred - y_true)).mean())\n",
    "    return rmse\n"
   ]
  },
  {
   "cell_type": "markdown",
   "id": "b0909426-8eb3-4e8c-84df-44ce1439776a",
   "metadata": {},
   "source": [
    "## Question 3\n",
    "\n",
    "* We need to deal with missing values for the column from Q1.\n",
    "* We have two options: fill it with 0 or with the mean of this variable.\n",
    "* Try both options. For each, train a linear regression model without regularization using the code from the lessons.\n",
    "* For computing the mean, use the training only!\n",
    "* Use the validation dataset to evaluate the models and compare the RMSE of each option.\n",
    "* Round the RMSE scores to 2 decimal digits using `round(score, 2)`\n",
    "* Which option gives better RMSE?"
   ]
  },
  {
   "cell_type": "code",
   "execution_count": 19,
   "id": "b49442ec-816a-4735-acf3-c97b663a1a1c",
   "metadata": {},
   "outputs": [
    {
     "data": {
      "text/plain": [
       "latitude               0\n",
       "longitude              0\n",
       "housing_median_age     0\n",
       "total_rooms            0\n",
       "total_bedrooms        94\n",
       "population             0\n",
       "households             0\n",
       "median_income          0\n",
       "dtype: int64"
      ]
     },
     "execution_count": 19,
     "metadata": {},
     "output_type": "execute_result"
    }
   ],
   "source": [
    "df_train.isnull().sum()"
   ]
  },
  {
   "cell_type": "code",
   "execution_count": 20,
   "id": "874e8467-d568-424d-91eb-0b5ce7d9efe1",
   "metadata": {},
   "outputs": [
    {
     "data": {
      "text/plain": [
       "0"
      ]
     },
     "execution_count": 20,
     "metadata": {},
     "output_type": "execute_result"
    }
   ],
   "source": [
    "df_fill_0 = df_train.fillna(0)\n",
    "df_fill_0.total_bedrooms.isnull().sum()"
   ]
  },
  {
   "cell_type": "code",
   "execution_count": 21,
   "id": "9925017f-6fab-4967-ae64-71265a3bf657",
   "metadata": {},
   "outputs": [
    {
     "data": {
      "text/plain": [
       "0.34"
      ]
     },
     "execution_count": 21,
     "metadata": {},
     "output_type": "execute_result"
    }
   ],
   "source": [
    "w_0 = train_linear_regression(df_fill_0.values, y_train)\n",
    "y_0 = predict_linear_regression(df_val.fillna(0), w_0)\n",
    "score_0 = round(rmse(y_0, y_val), 2)\n",
    "score_0"
   ]
  },
  {
   "cell_type": "code",
   "execution_count": 22,
   "id": "062bd505-f13e-4d31-8d65-872b69b1a796",
   "metadata": {},
   "outputs": [
    {
     "data": {
      "text/plain": [
       "542.552956325786"
      ]
     },
     "execution_count": 22,
     "metadata": {},
     "output_type": "execute_result"
    }
   ],
   "source": [
    "mean_bedrooms = df_train.total_bedrooms.mean()\n",
    "mean_bedrooms"
   ]
  },
  {
   "cell_type": "code",
   "execution_count": 23,
   "id": "7d41a97b-b8d5-4fbb-92dc-185e36800049",
   "metadata": {},
   "outputs": [
    {
     "data": {
      "text/plain": [
       "0.34"
      ]
     },
     "execution_count": 23,
     "metadata": {},
     "output_type": "execute_result"
    }
   ],
   "source": [
    "df_fill_mean = df_train.fillna(mean_bedrooms)\n",
    "\n",
    "w_mean = train_linear_regression(df_fill_mean, y_train)\n",
    "y_mean = predict_linear_regression(df_val.fillna(mean_bedrooms), w_mean)\n",
    "score_mean = round(rmse(y_mean, y_val), 2)\n",
    "score_mean"
   ]
  },
  {
   "cell_type": "markdown",
   "id": "0d2ae557-a1ea-49a9-8863-d6e4f15e2b99",
   "metadata": {},
   "source": [
    "**Answer**: Both are equally good"
   ]
  },
  {
   "cell_type": "markdown",
   "id": "05357efb-d659-48aa-9a2c-e674d6a6ea0a",
   "metadata": {},
   "source": [
    "## Question 4\n",
    "\n",
    "* Now let's train a regularized linear regression.\n",
    "* For this question, fill the NAs with 0. \n",
    "* Try different values of `r` from this list: `[0, 0.000001, 0.0001, 0.001, 0.01, 0.1, 1, 5, 10]`.\n",
    "* Use RMSE to evaluate the model on the validation dataset.\n",
    "* Round the RMSE scores to 2 decimal digits.\n",
    "* Which `r` gives the best RMSE?"
   ]
  },
  {
   "cell_type": "code",
   "execution_count": 24,
   "id": "efb4ba9f-fc25-4d81-b523-b0e2fa72aa31",
   "metadata": {},
   "outputs": [],
   "source": [
    "r_options = [0, 0.000001, 0.0001, 0.001, 0.01, 0.1, 1, 5, 10]\n",
    "scores = []\n",
    "\n",
    "for r in r_options:\n",
    "    w_ = train_linear_regression(df_train.fillna(0), y_train, r)\n",
    "    y_ = predict_linear_regression(df_val.fillna(0), w_)\n",
    "    score_ = rmse(y_, y_val)\n",
    "    scores.append(round(score_, 2))\n"
   ]
  },
  {
   "cell_type": "code",
   "execution_count": 25,
   "id": "506a9818-2a2d-4a6c-8413-f264f577f1a8",
   "metadata": {},
   "outputs": [
    {
     "data": {
      "text/plain": [
       "{0: 0.34,\n",
       " 1e-06: 0.34,\n",
       " 0.0001: 0.34,\n",
       " 0.001: 0.34,\n",
       " 0.01: 0.34,\n",
       " 0.1: 0.34,\n",
       " 1: 0.34,\n",
       " 5: 0.35,\n",
       " 10: 0.35}"
      ]
     },
     "execution_count": 25,
     "metadata": {},
     "output_type": "execute_result"
    }
   ],
   "source": [
    "dict(zip(r_options, scores))"
   ]
  },
  {
   "cell_type": "markdown",
   "id": "91ce68df-ba5f-47eb-b64c-18529985b84e",
   "metadata": {},
   "source": [
    "**Answer**: 0"
   ]
  },
  {
   "cell_type": "markdown",
   "id": "e5e32af7-af22-4ee6-b460-49ff6000024b",
   "metadata": {},
   "source": [
    "## Question 5 \n",
    "\n",
    "* We used seed 42 for splitting the data. Let's find out how selecting the seed influences our score.\n",
    "* Try different seed values: `[0, 1, 2, 3, 4, 5, 6, 7, 8, 9]`.\n",
    "* For each seed, do the train/validation/test split with 60%/20%/20% distribution.\n",
    "* Fill the missing values with 0 and train a model without regularization.\n",
    "* For each seed, evaluate the model on the validation dataset and collect the RMSE scores. \n",
    "* What's the standard deviation of all the scores? To compute the standard deviation, use `np.std`.\n",
    "* Round the result to 3 decimal digits (`round(std, 3)`)"
   ]
  },
  {
   "cell_type": "code",
   "execution_count": 26,
   "id": "078d210c-c360-4e75-a95a-919b6c9d9767",
   "metadata": {},
   "outputs": [],
   "source": [
    "def evaluation_pipeline(data: pd.core.frame.DataFrame, \n",
    "                        **kwargs) -> np.float64:\n",
    "    \"\"\"\n",
    "    Returns RMSE for the passed parameters.\n",
    "    Requires the complete dataframe as an input.\n",
    "    Accepts hyperparameters as named parameters.\n",
    "    \"\"\"\n",
    "    if kwargs:\n",
    "        seed=kwargs['seed'] if 'seed' in kwargs.keys() else 42\n",
    "        r=kwargs['r'] if 'r' in kwargs.keys() else 0\n",
    "        test=kwargs['test'] if 'test' in kwargs.keys() else False\n",
    "        \n",
    "    else:\n",
    "        seed=42; r=0; test=False\n",
    "\n",
    "    # print(f\"Training and Evaluating with seed={seed}, \" +\n",
    "    #      f\"r={r}, and test={test}.\\n\" +\n",
    "    #      f\"If test=True, training the final model.\")\n",
    "\n",
    "\n",
    "    len_data = len(data)\n",
    "    n_val = int(len_data * 0.2)\n",
    "    n_test = int(len_data * 0.2)\n",
    "    n_train = len(data) - n_val - n_test\n",
    "    \n",
    "    # creates shuffled index\n",
    "    idx = np.arange(len_data)\n",
    "    \n",
    "    np.random.seed(seed)\n",
    "    np.random.shuffle(idx)\n",
    "\n",
    "    \n",
    "    # splits df for validation / testing\n",
    "    # while testing, the model is trained on the first n_train + n_val records\n",
    "    # and validated against the remaining records\n",
    "    if test:        \n",
    "        train_df = data.iloc[idx[:n_train+n_val], :]\n",
    "        _ = data.iloc[idx[n_train: n_train+n_val], :]\n",
    "        val_df = data.iloc[idx[n_train+n_val:], :]\n",
    "\n",
    "    # while validating, the model is trained on the first n_train records\n",
    "    # and validated against the next n_val records\n",
    "    else:        \n",
    "        train_df = data.iloc[idx[:n_train], :]\n",
    "        val_df = data.iloc[idx[n_train: n_train+n_val], :]\n",
    "        _ = data.iloc[idx[n_train+n_val:], :]\n",
    "        \n",
    "    X_train = train_df.reset_index(drop=True)\n",
    "    y_train = train_df.median_house_value.values\n",
    "    del X_train['median_house_value']\n",
    "    \n",
    "    X_val = val_df.reset_index(drop=True)\n",
    "    y_val = val_df.median_house_value.values\n",
    "    del X_val['median_house_value']\n",
    "\n",
    "    \n",
    "    # transforms y\n",
    "    y_train = np.log1p(y_train)\n",
    "    y_val = np.log1p(y_val)\n",
    " \n",
    "    \n",
    "    # trains model weight\n",
    "    w = train_linear_regression(X_train.fillna(0), y_train, r=r)\n",
    "\n",
    "    \n",
    "    # predicts using trained weights\n",
    "    y = predict_linear_regression(X_val.fillna(0), w)\n",
    "\n",
    "    \n",
    "    # calculates rmse\n",
    "    score = rmse(y, y_val)\n",
    "    # print(f\"seed={seed}, r={r}, test={test}, rmse={score}\\n\")\n",
    "\n",
    "    \n",
    "    return score"
   ]
  },
  {
   "cell_type": "code",
   "execution_count": 27,
   "id": "217abcf1-5b69-4a55-87a1-606a9881647a",
   "metadata": {},
   "outputs": [
    {
     "data": {
      "text/plain": [
       "0.34"
      ]
     },
     "execution_count": 27,
     "metadata": {},
     "output_type": "execute_result"
    }
   ],
   "source": [
    "default_score = evaluation_pipeline(data)\n",
    "round(default_score, 2)"
   ]
  },
  {
   "cell_type": "code",
   "execution_count": 28,
   "id": "90d3dd82-4f10-41e2-b323-3cd100c82ac8",
   "metadata": {},
   "outputs": [],
   "source": [
    "seeds = [0, 1, 2, 3, 4, 5, 6, 7, 8, 9]\n",
    "scores = []\n",
    "\n",
    "for seed in seeds:\n",
    "    score = evaluation_pipeline(data, seed=seed)\n",
    "    scores.append(score)\n"
   ]
  },
  {
   "cell_type": "code",
   "execution_count": 29,
   "id": "cc90a60f-4423-46e0-8482-b60fea192aeb",
   "metadata": {},
   "outputs": [
    {
     "data": {
      "text/plain": [
       "{0: 0.3377387160040314,\n",
       " 1: 0.33779993536620007,\n",
       " 2: 0.33842870067641523,\n",
       " 3: 0.3320049468308779,\n",
       " 4: 0.33944518625554937,\n",
       " 5: 0.3433819705295176,\n",
       " 6: 0.3385330211766526,\n",
       " 7: 0.346874769730657,\n",
       " 8: 0.3512736865960569,\n",
       " 9: 0.33415582665199606}"
      ]
     },
     "execution_count": 29,
     "metadata": {},
     "output_type": "execute_result"
    }
   ],
   "source": [
    "dict(zip(seeds, scores))"
   ]
  },
  {
   "cell_type": "code",
   "execution_count": 30,
   "id": "cfa30323-44b9-4ec1-8cc3-42203512be13",
   "metadata": {},
   "outputs": [
    {
     "data": {
      "text/plain": [
       "0.005"
      ]
     },
     "execution_count": 30,
     "metadata": {},
     "output_type": "execute_result"
    }
   ],
   "source": [
    "round(np.std(scores), 3)"
   ]
  },
  {
   "cell_type": "markdown",
   "id": "8c4ec36d-cb93-4395-97e1-cf828f7275da",
   "metadata": {},
   "source": [
    "**Answer**: 0.005"
   ]
  },
  {
   "cell_type": "markdown",
   "id": "dc6986a2-0e41-4ea0-8fae-c0579575cfad",
   "metadata": {},
   "source": [
    "## Question 6\n",
    "\n",
    "* Split the dataset like previously, use seed 9.\n",
    "* Combine train and validation datasets.\n",
    "* Fill the missing values with 0 and train a model with `r=0.001`. \n",
    "* What's the RMSE on the test dataset?"
   ]
  },
  {
   "cell_type": "code",
   "execution_count": 31,
   "id": "e898a94a-7bac-4c7e-bdd6-3be5288f365f",
   "metadata": {},
   "outputs": [
    {
     "data": {
      "text/plain": [
       "0.33"
      ]
     },
     "execution_count": 31,
     "metadata": {},
     "output_type": "execute_result"
    }
   ],
   "source": [
    "test_score = evaluation_pipeline(data, seed=9, r=0.001, test=True)\n",
    "round(test_score, 2)"
   ]
  },
  {
   "cell_type": "markdown",
   "id": "c62fe332-e52d-412f-a2e3-6c9aa3cab850",
   "metadata": {},
   "source": [
    "**Answer**: 0.33"
   ]
  },
  {
   "cell_type": "code",
   "execution_count": null,
   "id": "bbeadebf-da05-47de-b520-e4f81f68e155",
   "metadata": {},
   "outputs": [],
   "source": []
  }
 ],
 "metadata": {
  "kernelspec": {
   "display_name": "Python 3 (ipykernel)",
   "language": "python",
   "name": "python3"
  },
  "language_info": {
   "codemirror_mode": {
    "name": "ipython",
    "version": 3
   },
   "file_extension": ".py",
   "mimetype": "text/x-python",
   "name": "python",
   "nbconvert_exporter": "python",
   "pygments_lexer": "ipython3",
   "version": "3.10.11"
  }
 },
 "nbformat": 4,
 "nbformat_minor": 5
}
