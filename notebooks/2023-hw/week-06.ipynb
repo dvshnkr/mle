{
 "cells": [
  {
   "cell_type": "markdown",
   "id": "e65d4907-ffb6-4117-b136-491372465e75",
   "metadata": {},
   "source": [
    "Solving the [2023 Week 6 Homework](https://github.com/DataTalksClub/machine-learning-zoomcamp/blob/master/cohorts/2023/06-trees/homework.md)"
   ]
  },
  {
   "cell_type": "markdown",
   "id": "a721224a-0c98-4d8e-a20f-bc2cec4cfa17",
   "metadata": {},
   "source": [
    "# Section 1"
   ]
  },
  {
   "cell_type": "code",
   "execution_count": 1,
   "id": "10e382e2-d448-4790-9afe-aa7b8ad99c12",
   "metadata": {},
   "outputs": [],
   "source": [
    "%matplotlib inline\n",
    "\n",
    "import numpy as np\n",
    "import pandas as pd\n",
    "import matplotlib.pyplot as plt\n",
    "import seaborn as sns\n",
    "\n",
    "from sklearn.model_selection import train_test_split\n",
    "from sklearn.feature_extraction import DictVectorizer"
   ]
  },
  {
   "cell_type": "code",
   "execution_count": 2,
   "id": "b228d71e-f374-4fc7-bb9c-6fd2c82d735f",
   "metadata": {},
   "outputs": [
    {
     "data": {
      "text/html": [
       "<div>\n",
       "<style scoped>\n",
       "    .dataframe tbody tr th:only-of-type {\n",
       "        vertical-align: middle;\n",
       "    }\n",
       "\n",
       "    .dataframe tbody tr th {\n",
       "        vertical-align: top;\n",
       "    }\n",
       "\n",
       "    .dataframe thead th {\n",
       "        text-align: right;\n",
       "    }\n",
       "</style>\n",
       "<table border=\"1\" class=\"dataframe\">\n",
       "  <thead>\n",
       "    <tr style=\"text-align: right;\">\n",
       "      <th></th>\n",
       "      <th>longitude</th>\n",
       "      <th>latitude</th>\n",
       "      <th>housing_median_age</th>\n",
       "      <th>total_rooms</th>\n",
       "      <th>total_bedrooms</th>\n",
       "      <th>population</th>\n",
       "      <th>households</th>\n",
       "      <th>median_income</th>\n",
       "      <th>median_house_value</th>\n",
       "      <th>ocean_proximity</th>\n",
       "    </tr>\n",
       "  </thead>\n",
       "  <tbody>\n",
       "    <tr>\n",
       "      <th>0</th>\n",
       "      <td>-122.23</td>\n",
       "      <td>37.88</td>\n",
       "      <td>41.0</td>\n",
       "      <td>880.0</td>\n",
       "      <td>129.0</td>\n",
       "      <td>322.0</td>\n",
       "      <td>126.0</td>\n",
       "      <td>8.3252</td>\n",
       "      <td>452600.0</td>\n",
       "      <td>NEAR BAY</td>\n",
       "    </tr>\n",
       "    <tr>\n",
       "      <th>1</th>\n",
       "      <td>-122.22</td>\n",
       "      <td>37.86</td>\n",
       "      <td>21.0</td>\n",
       "      <td>7099.0</td>\n",
       "      <td>1106.0</td>\n",
       "      <td>2401.0</td>\n",
       "      <td>1138.0</td>\n",
       "      <td>8.3014</td>\n",
       "      <td>358500.0</td>\n",
       "      <td>NEAR BAY</td>\n",
       "    </tr>\n",
       "    <tr>\n",
       "      <th>2</th>\n",
       "      <td>-122.24</td>\n",
       "      <td>37.85</td>\n",
       "      <td>52.0</td>\n",
       "      <td>1467.0</td>\n",
       "      <td>190.0</td>\n",
       "      <td>496.0</td>\n",
       "      <td>177.0</td>\n",
       "      <td>7.2574</td>\n",
       "      <td>352100.0</td>\n",
       "      <td>NEAR BAY</td>\n",
       "    </tr>\n",
       "    <tr>\n",
       "      <th>3</th>\n",
       "      <td>-122.25</td>\n",
       "      <td>37.85</td>\n",
       "      <td>52.0</td>\n",
       "      <td>1274.0</td>\n",
       "      <td>235.0</td>\n",
       "      <td>558.0</td>\n",
       "      <td>219.0</td>\n",
       "      <td>5.6431</td>\n",
       "      <td>341300.0</td>\n",
       "      <td>NEAR BAY</td>\n",
       "    </tr>\n",
       "    <tr>\n",
       "      <th>4</th>\n",
       "      <td>-122.25</td>\n",
       "      <td>37.85</td>\n",
       "      <td>52.0</td>\n",
       "      <td>1627.0</td>\n",
       "      <td>280.0</td>\n",
       "      <td>565.0</td>\n",
       "      <td>259.0</td>\n",
       "      <td>3.8462</td>\n",
       "      <td>342200.0</td>\n",
       "      <td>NEAR BAY</td>\n",
       "    </tr>\n",
       "  </tbody>\n",
       "</table>\n",
       "</div>"
      ],
      "text/plain": [
       "   longitude  latitude  housing_median_age  total_rooms  total_bedrooms  \\\n",
       "0    -122.23     37.88                41.0        880.0           129.0   \n",
       "1    -122.22     37.86                21.0       7099.0          1106.0   \n",
       "2    -122.24     37.85                52.0       1467.0           190.0   \n",
       "3    -122.25     37.85                52.0       1274.0           235.0   \n",
       "4    -122.25     37.85                52.0       1627.0           280.0   \n",
       "\n",
       "   population  households  median_income  median_house_value ocean_proximity  \n",
       "0       322.0       126.0         8.3252            452600.0        NEAR BAY  \n",
       "1      2401.0      1138.0         8.3014            358500.0        NEAR BAY  \n",
       "2       496.0       177.0         7.2574            352100.0        NEAR BAY  \n",
       "3       558.0       219.0         5.6431            341300.0        NEAR BAY  \n",
       "4       565.0       259.0         3.8462            342200.0        NEAR BAY  "
      ]
     },
     "execution_count": 2,
     "metadata": {},
     "output_type": "execute_result"
    }
   ],
   "source": [
    "data = pd.read_csv('data/housing.csv')\n",
    "data.head()"
   ]
  },
  {
   "cell_type": "code",
   "execution_count": 4,
   "id": "34657471-3a2c-4b54-bd7c-53b5b7208da5",
   "metadata": {},
   "outputs": [
    {
     "data": {
      "text/html": [
       "<div>\n",
       "<style scoped>\n",
       "    .dataframe tbody tr th:only-of-type {\n",
       "        vertical-align: middle;\n",
       "    }\n",
       "\n",
       "    .dataframe tbody tr th {\n",
       "        vertical-align: top;\n",
       "    }\n",
       "\n",
       "    .dataframe thead th {\n",
       "        text-align: right;\n",
       "    }\n",
       "</style>\n",
       "<table border=\"1\" class=\"dataframe\">\n",
       "  <thead>\n",
       "    <tr style=\"text-align: right;\">\n",
       "      <th></th>\n",
       "      <th>longitude</th>\n",
       "      <th>latitude</th>\n",
       "      <th>housing_median_age</th>\n",
       "      <th>total_rooms</th>\n",
       "      <th>total_bedrooms</th>\n",
       "      <th>population</th>\n",
       "      <th>households</th>\n",
       "      <th>median_income</th>\n",
       "      <th>median_house_value</th>\n",
       "      <th>ocean_proximity</th>\n",
       "    </tr>\n",
       "  </thead>\n",
       "  <tbody>\n",
       "    <tr>\n",
       "      <th>0</th>\n",
       "      <td>-121.97</td>\n",
       "      <td>37.64</td>\n",
       "      <td>32.0</td>\n",
       "      <td>1283.0</td>\n",
       "      <td>194.0</td>\n",
       "      <td>485.0</td>\n",
       "      <td>171.0</td>\n",
       "      <td>6.0574</td>\n",
       "      <td>431000.0</td>\n",
       "      <td>&lt;1H OCEAN</td>\n",
       "    </tr>\n",
       "    <tr>\n",
       "      <th>1</th>\n",
       "      <td>-121.99</td>\n",
       "      <td>37.61</td>\n",
       "      <td>9.0</td>\n",
       "      <td>3666.0</td>\n",
       "      <td>711.0</td>\n",
       "      <td>2341.0</td>\n",
       "      <td>703.0</td>\n",
       "      <td>4.6458</td>\n",
       "      <td>217000.0</td>\n",
       "      <td>&lt;1H OCEAN</td>\n",
       "    </tr>\n",
       "    <tr>\n",
       "      <th>2</th>\n",
       "      <td>-121.97</td>\n",
       "      <td>37.57</td>\n",
       "      <td>21.0</td>\n",
       "      <td>4342.0</td>\n",
       "      <td>783.0</td>\n",
       "      <td>2172.0</td>\n",
       "      <td>789.0</td>\n",
       "      <td>4.6146</td>\n",
       "      <td>247600.0</td>\n",
       "      <td>&lt;1H OCEAN</td>\n",
       "    </tr>\n",
       "    <tr>\n",
       "      <th>3</th>\n",
       "      <td>-121.96</td>\n",
       "      <td>37.58</td>\n",
       "      <td>15.0</td>\n",
       "      <td>3575.0</td>\n",
       "      <td>597.0</td>\n",
       "      <td>1777.0</td>\n",
       "      <td>559.0</td>\n",
       "      <td>5.7192</td>\n",
       "      <td>283500.0</td>\n",
       "      <td>&lt;1H OCEAN</td>\n",
       "    </tr>\n",
       "    <tr>\n",
       "      <th>4</th>\n",
       "      <td>-121.98</td>\n",
       "      <td>37.58</td>\n",
       "      <td>20.0</td>\n",
       "      <td>4126.0</td>\n",
       "      <td>1031.0</td>\n",
       "      <td>2079.0</td>\n",
       "      <td>975.0</td>\n",
       "      <td>3.6832</td>\n",
       "      <td>216900.0</td>\n",
       "      <td>&lt;1H OCEAN</td>\n",
       "    </tr>\n",
       "  </tbody>\n",
       "</table>\n",
       "</div>"
      ],
      "text/plain": [
       "   longitude  latitude  housing_median_age  total_rooms  total_bedrooms  \\\n",
       "0    -121.97     37.64                32.0       1283.0           194.0   \n",
       "1    -121.99     37.61                 9.0       3666.0           711.0   \n",
       "2    -121.97     37.57                21.0       4342.0           783.0   \n",
       "3    -121.96     37.58                15.0       3575.0           597.0   \n",
       "4    -121.98     37.58                20.0       4126.0          1031.0   \n",
       "\n",
       "   population  households  median_income  median_house_value ocean_proximity  \n",
       "0       485.0       171.0         6.0574            431000.0       <1H OCEAN  \n",
       "1      2341.0       703.0         4.6458            217000.0       <1H OCEAN  \n",
       "2      2172.0       789.0         4.6146            247600.0       <1H OCEAN  \n",
       "3      1777.0       559.0         5.7192            283500.0       <1H OCEAN  \n",
       "4      2079.0       975.0         3.6832            216900.0       <1H OCEAN  "
      ]
     },
     "execution_count": 4,
     "metadata": {},
     "output_type": "execute_result"
    }
   ],
   "source": [
    "ocean_proximity_filter = (data['ocean_proximity']=='<1H OCEAN') | (data['ocean_proximity']=='INLAND')\n",
    "\n",
    "housing_df = data[ocean_proximity_filter].reset_index(drop=True)\n",
    "\n",
    "housing_df.head()"
   ]
  },
  {
   "cell_type": "code",
   "execution_count": 5,
   "id": "86114bd3-f0ce-4232-afa4-5acda7e24546",
   "metadata": {},
   "outputs": [
    {
     "name": "stdout",
     "output_type": "stream",
     "text": [
      "<class 'pandas.core.frame.DataFrame'>\n",
      "RangeIndex: 15687 entries, 0 to 15686\n",
      "Data columns (total 10 columns):\n",
      " #   Column              Non-Null Count  Dtype  \n",
      "---  ------              --------------  -----  \n",
      " 0   longitude           15687 non-null  float64\n",
      " 1   latitude            15687 non-null  float64\n",
      " 2   housing_median_age  15687 non-null  float64\n",
      " 3   total_rooms         15687 non-null  float64\n",
      " 4   total_bedrooms      15530 non-null  float64\n",
      " 5   population          15687 non-null  float64\n",
      " 6   households          15687 non-null  float64\n",
      " 7   median_income       15687 non-null  float64\n",
      " 8   median_house_value  15687 non-null  float64\n",
      " 9   ocean_proximity     15687 non-null  object \n",
      "dtypes: float64(9), object(1)\n",
      "memory usage: 1.2+ MB\n"
     ]
    }
   ],
   "source": [
    "housing_df.info()"
   ]
  },
  {
   "cell_type": "code",
   "execution_count": 6,
   "id": "978599ae-6d3d-4101-8c24-f5041e7a28ad",
   "metadata": {},
   "outputs": [
    {
     "data": {
      "text/html": [
       "<div>\n",
       "<style scoped>\n",
       "    .dataframe tbody tr th:only-of-type {\n",
       "        vertical-align: middle;\n",
       "    }\n",
       "\n",
       "    .dataframe tbody tr th {\n",
       "        vertical-align: top;\n",
       "    }\n",
       "\n",
       "    .dataframe thead th {\n",
       "        text-align: right;\n",
       "    }\n",
       "</style>\n",
       "<table border=\"1\" class=\"dataframe\">\n",
       "  <thead>\n",
       "    <tr style=\"text-align: right;\">\n",
       "      <th></th>\n",
       "      <th>longitude</th>\n",
       "      <th>latitude</th>\n",
       "      <th>housing_median_age</th>\n",
       "      <th>total_rooms</th>\n",
       "      <th>total_bedrooms</th>\n",
       "      <th>population</th>\n",
       "      <th>households</th>\n",
       "      <th>median_income</th>\n",
       "      <th>median_house_value</th>\n",
       "      <th>ocean_proximity</th>\n",
       "    </tr>\n",
       "  </thead>\n",
       "  <tbody>\n",
       "    <tr>\n",
       "      <th>0</th>\n",
       "      <td>-121.97</td>\n",
       "      <td>37.64</td>\n",
       "      <td>32.0</td>\n",
       "      <td>1283.0</td>\n",
       "      <td>194.0</td>\n",
       "      <td>485.0</td>\n",
       "      <td>171.0</td>\n",
       "      <td>6.0574</td>\n",
       "      <td>431000.0</td>\n",
       "      <td>&lt;1H OCEAN</td>\n",
       "    </tr>\n",
       "    <tr>\n",
       "      <th>1</th>\n",
       "      <td>-121.99</td>\n",
       "      <td>37.61</td>\n",
       "      <td>9.0</td>\n",
       "      <td>3666.0</td>\n",
       "      <td>711.0</td>\n",
       "      <td>2341.0</td>\n",
       "      <td>703.0</td>\n",
       "      <td>4.6458</td>\n",
       "      <td>217000.0</td>\n",
       "      <td>&lt;1H OCEAN</td>\n",
       "    </tr>\n",
       "    <tr>\n",
       "      <th>2</th>\n",
       "      <td>-121.97</td>\n",
       "      <td>37.57</td>\n",
       "      <td>21.0</td>\n",
       "      <td>4342.0</td>\n",
       "      <td>783.0</td>\n",
       "      <td>2172.0</td>\n",
       "      <td>789.0</td>\n",
       "      <td>4.6146</td>\n",
       "      <td>247600.0</td>\n",
       "      <td>&lt;1H OCEAN</td>\n",
       "    </tr>\n",
       "    <tr>\n",
       "      <th>3</th>\n",
       "      <td>-121.96</td>\n",
       "      <td>37.58</td>\n",
       "      <td>15.0</td>\n",
       "      <td>3575.0</td>\n",
       "      <td>597.0</td>\n",
       "      <td>1777.0</td>\n",
       "      <td>559.0</td>\n",
       "      <td>5.7192</td>\n",
       "      <td>283500.0</td>\n",
       "      <td>&lt;1H OCEAN</td>\n",
       "    </tr>\n",
       "    <tr>\n",
       "      <th>4</th>\n",
       "      <td>-121.98</td>\n",
       "      <td>37.58</td>\n",
       "      <td>20.0</td>\n",
       "      <td>4126.0</td>\n",
       "      <td>1031.0</td>\n",
       "      <td>2079.0</td>\n",
       "      <td>975.0</td>\n",
       "      <td>3.6832</td>\n",
       "      <td>216900.0</td>\n",
       "      <td>&lt;1H OCEAN</td>\n",
       "    </tr>\n",
       "  </tbody>\n",
       "</table>\n",
       "</div>"
      ],
      "text/plain": [
       "   longitude  latitude  housing_median_age  total_rooms  total_bedrooms  \\\n",
       "0    -121.97     37.64                32.0       1283.0           194.0   \n",
       "1    -121.99     37.61                 9.0       3666.0           711.0   \n",
       "2    -121.97     37.57                21.0       4342.0           783.0   \n",
       "3    -121.96     37.58                15.0       3575.0           597.0   \n",
       "4    -121.98     37.58                20.0       4126.0          1031.0   \n",
       "\n",
       "   population  households  median_income  median_house_value ocean_proximity  \n",
       "0       485.0       171.0         6.0574            431000.0       <1H OCEAN  \n",
       "1      2341.0       703.0         4.6458            217000.0       <1H OCEAN  \n",
       "2      2172.0       789.0         4.6146            247600.0       <1H OCEAN  \n",
       "3      1777.0       559.0         5.7192            283500.0       <1H OCEAN  \n",
       "4      2079.0       975.0         3.6832            216900.0       <1H OCEAN  "
      ]
     },
     "execution_count": 6,
     "metadata": {},
     "output_type": "execute_result"
    }
   ],
   "source": [
    "housing_df.fillna(0, inplace=True)  # replace null values with 0's\n",
    "housing_df.head()"
   ]
  },
  {
   "cell_type": "code",
   "execution_count": 7,
   "id": "4ee716f1-77c6-4992-a668-bff53173f43c",
   "metadata": {},
   "outputs": [
    {
     "data": {
      "text/html": [
       "<div>\n",
       "<style scoped>\n",
       "    .dataframe tbody tr th:only-of-type {\n",
       "        vertical-align: middle;\n",
       "    }\n",
       "\n",
       "    .dataframe tbody tr th {\n",
       "        vertical-align: top;\n",
       "    }\n",
       "\n",
       "    .dataframe thead th {\n",
       "        text-align: right;\n",
       "    }\n",
       "</style>\n",
       "<table border=\"1\" class=\"dataframe\">\n",
       "  <thead>\n",
       "    <tr style=\"text-align: right;\">\n",
       "      <th></th>\n",
       "      <th>longitude</th>\n",
       "      <th>latitude</th>\n",
       "      <th>housing_median_age</th>\n",
       "      <th>total_rooms</th>\n",
       "      <th>total_bedrooms</th>\n",
       "      <th>population</th>\n",
       "      <th>households</th>\n",
       "      <th>median_income</th>\n",
       "      <th>median_house_value</th>\n",
       "      <th>ocean_proximity</th>\n",
       "    </tr>\n",
       "  </thead>\n",
       "  <tbody>\n",
       "    <tr>\n",
       "      <th>0</th>\n",
       "      <td>-121.97</td>\n",
       "      <td>37.64</td>\n",
       "      <td>32.0</td>\n",
       "      <td>1283.0</td>\n",
       "      <td>194.0</td>\n",
       "      <td>485.0</td>\n",
       "      <td>171.0</td>\n",
       "      <td>6.0574</td>\n",
       "      <td>12.973866</td>\n",
       "      <td>&lt;1H OCEAN</td>\n",
       "    </tr>\n",
       "    <tr>\n",
       "      <th>1</th>\n",
       "      <td>-121.99</td>\n",
       "      <td>37.61</td>\n",
       "      <td>9.0</td>\n",
       "      <td>3666.0</td>\n",
       "      <td>711.0</td>\n",
       "      <td>2341.0</td>\n",
       "      <td>703.0</td>\n",
       "      <td>4.6458</td>\n",
       "      <td>12.287657</td>\n",
       "      <td>&lt;1H OCEAN</td>\n",
       "    </tr>\n",
       "    <tr>\n",
       "      <th>2</th>\n",
       "      <td>-121.97</td>\n",
       "      <td>37.57</td>\n",
       "      <td>21.0</td>\n",
       "      <td>4342.0</td>\n",
       "      <td>783.0</td>\n",
       "      <td>2172.0</td>\n",
       "      <td>789.0</td>\n",
       "      <td>4.6146</td>\n",
       "      <td>12.419574</td>\n",
       "      <td>&lt;1H OCEAN</td>\n",
       "    </tr>\n",
       "    <tr>\n",
       "      <th>3</th>\n",
       "      <td>-121.96</td>\n",
       "      <td>37.58</td>\n",
       "      <td>15.0</td>\n",
       "      <td>3575.0</td>\n",
       "      <td>597.0</td>\n",
       "      <td>1777.0</td>\n",
       "      <td>559.0</td>\n",
       "      <td>5.7192</td>\n",
       "      <td>12.554971</td>\n",
       "      <td>&lt;1H OCEAN</td>\n",
       "    </tr>\n",
       "    <tr>\n",
       "      <th>4</th>\n",
       "      <td>-121.98</td>\n",
       "      <td>37.58</td>\n",
       "      <td>20.0</td>\n",
       "      <td>4126.0</td>\n",
       "      <td>1031.0</td>\n",
       "      <td>2079.0</td>\n",
       "      <td>975.0</td>\n",
       "      <td>3.6832</td>\n",
       "      <td>12.287196</td>\n",
       "      <td>&lt;1H OCEAN</td>\n",
       "    </tr>\n",
       "  </tbody>\n",
       "</table>\n",
       "</div>"
      ],
      "text/plain": [
       "   longitude  latitude  housing_median_age  total_rooms  total_bedrooms  \\\n",
       "0    -121.97     37.64                32.0       1283.0           194.0   \n",
       "1    -121.99     37.61                 9.0       3666.0           711.0   \n",
       "2    -121.97     37.57                21.0       4342.0           783.0   \n",
       "3    -121.96     37.58                15.0       3575.0           597.0   \n",
       "4    -121.98     37.58                20.0       4126.0          1031.0   \n",
       "\n",
       "   population  households  median_income  median_house_value ocean_proximity  \n",
       "0       485.0       171.0         6.0574           12.973866       <1H OCEAN  \n",
       "1      2341.0       703.0         4.6458           12.287657       <1H OCEAN  \n",
       "2      2172.0       789.0         4.6146           12.419574       <1H OCEAN  \n",
       "3      1777.0       559.0         5.7192           12.554971       <1H OCEAN  \n",
       "4      2079.0       975.0         3.6832           12.287196       <1H OCEAN  "
      ]
     },
     "execution_count": 7,
     "metadata": {},
     "output_type": "execute_result"
    }
   ],
   "source": [
    "housing_df['median_house_value'] = np.log1p(housing_df.median_house_value)  # applies log transformation to the target variable\n",
    "housing_df.head()"
   ]
  },
  {
   "cell_type": "code",
   "execution_count": 8,
   "id": "64b8ed3d-6fa8-4b80-91c8-9aeb3cbbf2c1",
   "metadata": {},
   "outputs": [
    {
     "data": {
      "text/plain": [
       "(numpy.ndarray, numpy.ndarray, 9411, 9411)"
      ]
     },
     "execution_count": 8,
     "metadata": {},
     "output_type": "execute_result"
    }
   ],
   "source": [
    "# train, val, test split\n",
    "fulltrain_df, test_df = train_test_split(housing_df, test_size=0.2, random_state=1)\n",
    "train_df, val_df = train_test_split(fulltrain_df, test_size=0.25, random_state=1)\n",
    "\n",
    "X_train = train_df.copy()\n",
    "y_train = X_train.pop('median_house_value').values\n",
    "\n",
    "dv = DictVectorizer(sparse=False)  # initialises Dict Vectorizer\n",
    "\n",
    "# converts DataFrame to dictionary and fits Dict Vectorizer\n",
    "X_train = dv.fit_transform(X_train.to_dict(orient='records'))\n",
    "\n",
    "type(X_train), type(y_train), len(y_train), len(train_df)"
   ]
  },
  {
   "cell_type": "markdown",
   "id": "f2bab9b8-0de2-48bd-ab41-f167a3a8166f",
   "metadata": {},
   "source": [
    "# Section 2"
   ]
  },
  {
   "cell_type": "code",
   "execution_count": 9,
   "id": "952aa1b0-c49c-4555-ad3f-44e6ade69ff3",
   "metadata": {},
   "outputs": [],
   "source": [
    "from tqdm import tqdm\n",
    "\n",
    "from sklearn.tree import DecisionTreeRegressor, export_text\n",
    "from sklearn.ensemble import RandomForestRegressor\n",
    "from sklearn.metrics import mean_squared_error"
   ]
  },
  {
   "cell_type": "markdown",
   "id": "cccd1763-6a4e-4fc8-a0c4-c4eb1b4da3f5",
   "metadata": {},
   "source": [
    "## Question 1\n",
    "\n",
    "Let's train a decision tree regressor to predict the `median_house_value` variable. \n",
    "* Train a model with `max_depth=1`.\n",
    "\n",
    "Which feature is used for splitting the data?"
   ]
  },
  {
   "cell_type": "code",
   "execution_count": 10,
   "id": "505076c3-9948-4098-bb8d-87bd55675974",
   "metadata": {},
   "outputs": [
    {
     "data": {
      "text/html": [
       "<style>#sk-container-id-1 {color: black;}#sk-container-id-1 pre{padding: 0;}#sk-container-id-1 div.sk-toggleable {background-color: white;}#sk-container-id-1 label.sk-toggleable__label {cursor: pointer;display: block;width: 100%;margin-bottom: 0;padding: 0.3em;box-sizing: border-box;text-align: center;}#sk-container-id-1 label.sk-toggleable__label-arrow:before {content: \"▸\";float: left;margin-right: 0.25em;color: #696969;}#sk-container-id-1 label.sk-toggleable__label-arrow:hover:before {color: black;}#sk-container-id-1 div.sk-estimator:hover label.sk-toggleable__label-arrow:before {color: black;}#sk-container-id-1 div.sk-toggleable__content {max-height: 0;max-width: 0;overflow: hidden;text-align: left;background-color: #f0f8ff;}#sk-container-id-1 div.sk-toggleable__content pre {margin: 0.2em;color: black;border-radius: 0.25em;background-color: #f0f8ff;}#sk-container-id-1 input.sk-toggleable__control:checked~div.sk-toggleable__content {max-height: 200px;max-width: 100%;overflow: auto;}#sk-container-id-1 input.sk-toggleable__control:checked~label.sk-toggleable__label-arrow:before {content: \"▾\";}#sk-container-id-1 div.sk-estimator input.sk-toggleable__control:checked~label.sk-toggleable__label {background-color: #d4ebff;}#sk-container-id-1 div.sk-label input.sk-toggleable__control:checked~label.sk-toggleable__label {background-color: #d4ebff;}#sk-container-id-1 input.sk-hidden--visually {border: 0;clip: rect(1px 1px 1px 1px);clip: rect(1px, 1px, 1px, 1px);height: 1px;margin: -1px;overflow: hidden;padding: 0;position: absolute;width: 1px;}#sk-container-id-1 div.sk-estimator {font-family: monospace;background-color: #f0f8ff;border: 1px dotted black;border-radius: 0.25em;box-sizing: border-box;margin-bottom: 0.5em;}#sk-container-id-1 div.sk-estimator:hover {background-color: #d4ebff;}#sk-container-id-1 div.sk-parallel-item::after {content: \"\";width: 100%;border-bottom: 1px solid gray;flex-grow: 1;}#sk-container-id-1 div.sk-label:hover label.sk-toggleable__label {background-color: #d4ebff;}#sk-container-id-1 div.sk-serial::before {content: \"\";position: absolute;border-left: 1px solid gray;box-sizing: border-box;top: 0;bottom: 0;left: 50%;z-index: 0;}#sk-container-id-1 div.sk-serial {display: flex;flex-direction: column;align-items: center;background-color: white;padding-right: 0.2em;padding-left: 0.2em;position: relative;}#sk-container-id-1 div.sk-item {position: relative;z-index: 1;}#sk-container-id-1 div.sk-parallel {display: flex;align-items: stretch;justify-content: center;background-color: white;position: relative;}#sk-container-id-1 div.sk-item::before, #sk-container-id-1 div.sk-parallel-item::before {content: \"\";position: absolute;border-left: 1px solid gray;box-sizing: border-box;top: 0;bottom: 0;left: 50%;z-index: -1;}#sk-container-id-1 div.sk-parallel-item {display: flex;flex-direction: column;z-index: 1;position: relative;background-color: white;}#sk-container-id-1 div.sk-parallel-item:first-child::after {align-self: flex-end;width: 50%;}#sk-container-id-1 div.sk-parallel-item:last-child::after {align-self: flex-start;width: 50%;}#sk-container-id-1 div.sk-parallel-item:only-child::after {width: 0;}#sk-container-id-1 div.sk-dashed-wrapped {border: 1px dashed gray;margin: 0 0.4em 0.5em 0.4em;box-sizing: border-box;padding-bottom: 0.4em;background-color: white;}#sk-container-id-1 div.sk-label label {font-family: monospace;font-weight: bold;display: inline-block;line-height: 1.2em;}#sk-container-id-1 div.sk-label-container {text-align: center;}#sk-container-id-1 div.sk-container {/* jupyter's `normalize.less` sets `[hidden] { display: none; }` but bootstrap.min.css set `[hidden] { display: none !important; }` so we also need the `!important` here to be able to override the default hidden behavior on the sphinx rendered scikit-learn.org. See: https://github.com/scikit-learn/scikit-learn/issues/21755 */display: inline-block !important;position: relative;}#sk-container-id-1 div.sk-text-repr-fallback {display: none;}</style><div id=\"sk-container-id-1\" class=\"sk-top-container\"><div class=\"sk-text-repr-fallback\"><pre>DecisionTreeRegressor(max_depth=1)</pre><b>In a Jupyter environment, please rerun this cell to show the HTML representation or trust the notebook. <br />On GitHub, the HTML representation is unable to render, please try loading this page with nbviewer.org.</b></div><div class=\"sk-container\" hidden><div class=\"sk-item\"><div class=\"sk-estimator sk-toggleable\"><input class=\"sk-toggleable__control sk-hidden--visually\" id=\"sk-estimator-id-1\" type=\"checkbox\" checked><label for=\"sk-estimator-id-1\" class=\"sk-toggleable__label sk-toggleable__label-arrow\">DecisionTreeRegressor</label><div class=\"sk-toggleable__content\"><pre>DecisionTreeRegressor(max_depth=1)</pre></div></div></div></div></div>"
      ],
      "text/plain": [
       "DecisionTreeRegressor(max_depth=1)"
      ]
     },
     "execution_count": 10,
     "metadata": {},
     "output_type": "execute_result"
    }
   ],
   "source": [
    "dtr = DecisionTreeRegressor(max_depth=1)  # initialises a Decision Tree with only one node\n",
    "dtr.fit(X_train, y_train)  # fits the Decision Tree to training data\n",
    "\n",
    "dtr"
   ]
  },
  {
   "cell_type": "code",
   "execution_count": 11,
   "id": "5e290708-7d33-4c15-88ef-82a5e95b5426",
   "metadata": {},
   "outputs": [
    {
     "name": "stdout",
     "output_type": "stream",
     "text": [
      "|--- ocean_proximity=<1H OCEAN <= 0.50\n",
      "|   |--- value: [11.61]\n",
      "|--- ocean_proximity=<1H OCEAN >  0.50\n",
      "|   |--- value: [12.30]\n",
      "\n"
     ]
    }
   ],
   "source": [
    "print(export_text(dtr, feature_names=dv.feature_names_))"
   ]
  },
  {
   "cell_type": "markdown",
   "id": "89147526-0bc4-4164-a838-4ec7949d35fa",
   "metadata": {},
   "source": [
    "**Answer**: `ocean_proximity`"
   ]
  },
  {
   "cell_type": "markdown",
   "id": "0ef3e6a3-2989-4774-ad9a-a5109c5b486d",
   "metadata": {},
   "source": [
    "## Question 2\n",
    "\n",
    "Train a random forest model with these parameters:\n",
    "\n",
    "* `n_estimators=10`\n",
    "* `random_state=1`\n",
    "* `n_jobs=-1` (optional - to make training faster)\n",
    "\n",
    "\n",
    "What's the RMSE of this model on validation?"
   ]
  },
  {
   "cell_type": "code",
   "execution_count": 12,
   "id": "2963aa5f-73e5-4e5b-90c8-c5a7ffa23de9",
   "metadata": {},
   "outputs": [
    {
     "data": {
      "text/html": [
       "<style>#sk-container-id-2 {color: black;}#sk-container-id-2 pre{padding: 0;}#sk-container-id-2 div.sk-toggleable {background-color: white;}#sk-container-id-2 label.sk-toggleable__label {cursor: pointer;display: block;width: 100%;margin-bottom: 0;padding: 0.3em;box-sizing: border-box;text-align: center;}#sk-container-id-2 label.sk-toggleable__label-arrow:before {content: \"▸\";float: left;margin-right: 0.25em;color: #696969;}#sk-container-id-2 label.sk-toggleable__label-arrow:hover:before {color: black;}#sk-container-id-2 div.sk-estimator:hover label.sk-toggleable__label-arrow:before {color: black;}#sk-container-id-2 div.sk-toggleable__content {max-height: 0;max-width: 0;overflow: hidden;text-align: left;background-color: #f0f8ff;}#sk-container-id-2 div.sk-toggleable__content pre {margin: 0.2em;color: black;border-radius: 0.25em;background-color: #f0f8ff;}#sk-container-id-2 input.sk-toggleable__control:checked~div.sk-toggleable__content {max-height: 200px;max-width: 100%;overflow: auto;}#sk-container-id-2 input.sk-toggleable__control:checked~label.sk-toggleable__label-arrow:before {content: \"▾\";}#sk-container-id-2 div.sk-estimator input.sk-toggleable__control:checked~label.sk-toggleable__label {background-color: #d4ebff;}#sk-container-id-2 div.sk-label input.sk-toggleable__control:checked~label.sk-toggleable__label {background-color: #d4ebff;}#sk-container-id-2 input.sk-hidden--visually {border: 0;clip: rect(1px 1px 1px 1px);clip: rect(1px, 1px, 1px, 1px);height: 1px;margin: -1px;overflow: hidden;padding: 0;position: absolute;width: 1px;}#sk-container-id-2 div.sk-estimator {font-family: monospace;background-color: #f0f8ff;border: 1px dotted black;border-radius: 0.25em;box-sizing: border-box;margin-bottom: 0.5em;}#sk-container-id-2 div.sk-estimator:hover {background-color: #d4ebff;}#sk-container-id-2 div.sk-parallel-item::after {content: \"\";width: 100%;border-bottom: 1px solid gray;flex-grow: 1;}#sk-container-id-2 div.sk-label:hover label.sk-toggleable__label {background-color: #d4ebff;}#sk-container-id-2 div.sk-serial::before {content: \"\";position: absolute;border-left: 1px solid gray;box-sizing: border-box;top: 0;bottom: 0;left: 50%;z-index: 0;}#sk-container-id-2 div.sk-serial {display: flex;flex-direction: column;align-items: center;background-color: white;padding-right: 0.2em;padding-left: 0.2em;position: relative;}#sk-container-id-2 div.sk-item {position: relative;z-index: 1;}#sk-container-id-2 div.sk-parallel {display: flex;align-items: stretch;justify-content: center;background-color: white;position: relative;}#sk-container-id-2 div.sk-item::before, #sk-container-id-2 div.sk-parallel-item::before {content: \"\";position: absolute;border-left: 1px solid gray;box-sizing: border-box;top: 0;bottom: 0;left: 50%;z-index: -1;}#sk-container-id-2 div.sk-parallel-item {display: flex;flex-direction: column;z-index: 1;position: relative;background-color: white;}#sk-container-id-2 div.sk-parallel-item:first-child::after {align-self: flex-end;width: 50%;}#sk-container-id-2 div.sk-parallel-item:last-child::after {align-self: flex-start;width: 50%;}#sk-container-id-2 div.sk-parallel-item:only-child::after {width: 0;}#sk-container-id-2 div.sk-dashed-wrapped {border: 1px dashed gray;margin: 0 0.4em 0.5em 0.4em;box-sizing: border-box;padding-bottom: 0.4em;background-color: white;}#sk-container-id-2 div.sk-label label {font-family: monospace;font-weight: bold;display: inline-block;line-height: 1.2em;}#sk-container-id-2 div.sk-label-container {text-align: center;}#sk-container-id-2 div.sk-container {/* jupyter's `normalize.less` sets `[hidden] { display: none; }` but bootstrap.min.css set `[hidden] { display: none !important; }` so we also need the `!important` here to be able to override the default hidden behavior on the sphinx rendered scikit-learn.org. See: https://github.com/scikit-learn/scikit-learn/issues/21755 */display: inline-block !important;position: relative;}#sk-container-id-2 div.sk-text-repr-fallback {display: none;}</style><div id=\"sk-container-id-2\" class=\"sk-top-container\"><div class=\"sk-text-repr-fallback\"><pre>RandomForestRegressor(n_estimators=10, n_jobs=-1, random_state=1)</pre><b>In a Jupyter environment, please rerun this cell to show the HTML representation or trust the notebook. <br />On GitHub, the HTML representation is unable to render, please try loading this page with nbviewer.org.</b></div><div class=\"sk-container\" hidden><div class=\"sk-item\"><div class=\"sk-estimator sk-toggleable\"><input class=\"sk-toggleable__control sk-hidden--visually\" id=\"sk-estimator-id-2\" type=\"checkbox\" checked><label for=\"sk-estimator-id-2\" class=\"sk-toggleable__label sk-toggleable__label-arrow\">RandomForestRegressor</label><div class=\"sk-toggleable__content\"><pre>RandomForestRegressor(n_estimators=10, n_jobs=-1, random_state=1)</pre></div></div></div></div></div>"
      ],
      "text/plain": [
       "RandomForestRegressor(n_estimators=10, n_jobs=-1, random_state=1)"
      ]
     },
     "execution_count": 12,
     "metadata": {},
     "output_type": "execute_result"
    }
   ],
   "source": [
    "rfr = RandomForestRegressor(  # initialises random forest with 10 trees\n",
    "    n_estimators=10,\n",
    "    random_state=1,\n",
    "    n_jobs=-1\n",
    ")\n",
    "\n",
    "rfr.fit(X_train, y_train)  # fits random forest model to training data\n",
    "\n",
    "rfr"
   ]
  },
  {
   "cell_type": "code",
   "execution_count": 13,
   "id": "a7345f97-2190-4f04-973c-c0e118bdc500",
   "metadata": {},
   "outputs": [
    {
     "data": {
      "text/plain": [
       "(3138, 3138, numpy.ndarray)"
      ]
     },
     "execution_count": 13,
     "metadata": {},
     "output_type": "execute_result"
    }
   ],
   "source": [
    "# prepares validation data\n",
    "\n",
    "X_val = val_df.copy()\n",
    "y_val = X_val.pop('median_house_value').values\n",
    "X_val = dv.transform(X_val.to_dict(orient='records'))\n",
    "\n",
    "len(X_val), len(val_df), type(X_val)"
   ]
  },
  {
   "cell_type": "code",
   "execution_count": 14,
   "id": "799ecd83-a54b-4349-8e6e-420b316b4810",
   "metadata": {},
   "outputs": [
    {
     "data": {
      "text/plain": [
       "0.24459962783255348"
      ]
     },
     "execution_count": 14,
     "metadata": {},
     "output_type": "execute_result"
    }
   ],
   "source": [
    "y_pred = rfr.predict(X_val)  # makes predictions with trained random forest model\n",
    "rmse = mean_squared_error(y_val, y_pred, squared=False)  # computes RMSE based on true and predicted y values\n",
    "\n",
    "rmse"
   ]
  },
  {
   "cell_type": "markdown",
   "id": "8f800fbf-92fa-4019-aac2-3f3bb7e54970",
   "metadata": {},
   "source": [
    "**Answer**: 0.245"
   ]
  },
  {
   "cell_type": "markdown",
   "id": "ad9dd1aa-a152-458a-a3ca-f882558a1868",
   "metadata": {},
   "source": [
    "## Question 3\n",
    "\n",
    "Now let's experiment with the `n_estimators` parameter\n",
    "\n",
    "* Try different values of this parameter from 10 to 200 with step 10.\n",
    "* Set `random_state` to `1`.\n",
    "* Evaluate the model on the validation dataset.\n",
    "\n",
    "After which value of `n_estimators` does RMSE stop improving?<br>\n",
    "Consider 3 decimal places for retrieving the answer."
   ]
  },
  {
   "cell_type": "code",
   "execution_count": 15,
   "id": "8140ed7c-4562-47e6-95d9-8d0a8a89c48b",
   "metadata": {},
   "outputs": [
    {
     "name": "stderr",
     "output_type": "stream",
     "text": [
      "100%|███████████████████████████████████████████████████████████████████████████████████████████████| 20/20 [00:29<00:00,  1.50s/it]\n"
     ]
    }
   ],
   "source": [
    "n_estim = np.arange(10, 201, 10)\n",
    "rmse_scores = []\n",
    "\n",
    "for n in tqdm(n_estim):\n",
    "    rfr_ = RandomForestRegressor(\n",
    "        n_estimators=n,\n",
    "        random_state=1,\n",
    "        n_jobs=-1\n",
    "    )\n",
    "    \n",
    "    rfr_.fit(X_train, y_train)\n",
    "\n",
    "    y_pred_ = rfr_.predict(X_val)\n",
    "\n",
    "    rmse_ = mean_squared_error(y_val, y_pred_, squared=False)\n",
    "    rmse_scores.append(rmse_)\n",
    "\n"
   ]
  },
  {
   "cell_type": "code",
   "execution_count": 16,
   "id": "22cb5915-03dc-4712-8625-acc09e25206c",
   "metadata": {},
   "outputs": [
    {
     "data": {
      "image/png": "[encoded data removed]",
      "text/plain": [
       "<Figure size 600x400 with 1 Axes>"
      ]
     },
     "metadata": {},
     "output_type": "display_data"
    }
   ],
   "source": [
    "fig, ax = plt.subplots(figsize=(6, 4))\n",
    "\n",
    "ax.plot(n_estim, rmse_scores)  # plots response in RMSE to change in # of estimators\n",
    "\n",
    "ax.set_xlim(0, 210)\n",
    "ax.set_xlabel('# of estimators in Random Forest Model')\n",
    "ax.set_ylabel('Prediction Error (RMSE)')\n",
    "plt.show()"
   ]
  },
  {
   "cell_type": "markdown",
   "id": "1cb631d9-2b55-4739-aa3e-0acfe497175f",
   "metadata": {},
   "source": [
    "**Answer**: 50"
   ]
  },
  {
   "cell_type": "markdown",
   "id": "072d2b9a-7b3b-4922-87ea-6840b4dbf2d4",
   "metadata": {},
   "source": [
    "## Question 4\n",
    "\n",
    "Let's select the best `max_depth`:\n",
    "\n",
    "* Try different values of `max_depth`: `[10, 15, 20, 25]`\n",
    "* For each of these values,\n",
    "  * try different values of `n_estimators` from 10 till 200 (with step 10)\n",
    "  * calculate the mean RMSE \n",
    "* Fix the random seed: `random_state=1`\n",
    "\n",
    "\n",
    "What's the best `max_depth`, using the mean RMSE?"
   ]
  },
  {
   "cell_type": "code",
   "execution_count": 17,
   "id": "bff47146-a0d1-4683-b7ee-4fe2b1a02236",
   "metadata": {},
   "outputs": [
    {
     "name": "stderr",
     "output_type": "stream",
     "text": [
      "100%|█████████████████████████████████████████████████████████████████████████████████████████████████| 4/4 [01:40<00:00, 25.15s/it]\n"
     ]
    }
   ],
   "source": [
    "n_estim = np.arange(10, 201, 10)\n",
    "depths = [10, 15, 20, 25]\n",
    "rmse_scores = []\n",
    "\n",
    "for d in tqdm(depths):\n",
    "    for n in n_estim:\n",
    "        rfr_ = RandomForestRegressor(  # initialises random forest\n",
    "            max_depth=d,\n",
    "            n_estimators=n,\n",
    "            random_state=1,\n",
    "            n_jobs=-1\n",
    "        )\n",
    "        \n",
    "        rfr_.fit(X_train, y_train)\n",
    "    \n",
    "        y_pred_ = rfr_.predict(X_val)\n",
    "        rmse_ = mean_squared_error(y_val, y_pred_, squared=False)\n",
    "        \n",
    "        rmse_scores.append(dict(  # appends a dictionary to track relevant information\n",
    "            depth = rfr_.max_depth,\n",
    "            n_est = rfr_.n_estimators,\n",
    "            rmse = rmse_\n",
    "        ))\n",
    "\n"
   ]
  },
  {
   "cell_type": "code",
   "execution_count": 18,
   "id": "16cc4866-3a43-4e3f-9493-eb56b0a73faa",
   "metadata": {},
   "outputs": [
    {
     "data": {
      "text/html": [
       "<div>\n",
       "<style scoped>\n",
       "    .dataframe tbody tr th:only-of-type {\n",
       "        vertical-align: middle;\n",
       "    }\n",
       "\n",
       "    .dataframe tbody tr th {\n",
       "        vertical-align: top;\n",
       "    }\n",
       "\n",
       "    .dataframe thead th {\n",
       "        text-align: right;\n",
       "    }\n",
       "</style>\n",
       "<table border=\"1\" class=\"dataframe\">\n",
       "  <thead>\n",
       "    <tr style=\"text-align: right;\">\n",
       "      <th></th>\n",
       "      <th>depth</th>\n",
       "      <th>n_est</th>\n",
       "      <th>rmse</th>\n",
       "    </tr>\n",
       "  </thead>\n",
       "  <tbody>\n",
       "    <tr>\n",
       "      <th>76</th>\n",
       "      <td>25</td>\n",
       "      <td>170</td>\n",
       "      <td>0.233400</td>\n",
       "    </tr>\n",
       "    <tr>\n",
       "      <th>75</th>\n",
       "      <td>25</td>\n",
       "      <td>160</td>\n",
       "      <td>0.233410</td>\n",
       "    </tr>\n",
       "    <tr>\n",
       "      <th>74</th>\n",
       "      <td>25</td>\n",
       "      <td>150</td>\n",
       "      <td>0.233472</td>\n",
       "    </tr>\n",
       "    <tr>\n",
       "      <th>73</th>\n",
       "      <td>25</td>\n",
       "      <td>140</td>\n",
       "      <td>0.233573</td>\n",
       "    </tr>\n",
       "    <tr>\n",
       "      <th>77</th>\n",
       "      <td>25</td>\n",
       "      <td>180</td>\n",
       "      <td>0.233590</td>\n",
       "    </tr>\n",
       "  </tbody>\n",
       "</table>\n",
       "</div>"
      ],
      "text/plain": [
       "    depth  n_est      rmse\n",
       "76     25    170  0.233400\n",
       "75     25    160  0.233410\n",
       "74     25    150  0.233472\n",
       "73     25    140  0.233573\n",
       "77     25    180  0.233590"
      ]
     },
     "execution_count": 18,
     "metadata": {},
     "output_type": "execute_result"
    }
   ],
   "source": [
    "rmse_df = pd.DataFrame(rmse_scores)\n",
    "rmse_df.sort_values('rmse').head()"
   ]
  },
  {
   "cell_type": "code",
   "execution_count": 20,
   "id": "29e39779-819d-44da-a216-e2c60618de50",
   "metadata": {},
   "outputs": [
    {
     "data": {
      "image/png": "[encoded data removed]",
      "text/plain": [
       "<Figure size 640x480 with 1 Axes>"
      ]
     },
     "metadata": {},
     "output_type": "display_data"
    }
   ],
   "source": [
    "for d in [10, 15, 20, 25]:\n",
    "    df_subset = rmse_df[rmse_df.depth == d]\n",
    "    plt.plot(df_subset.n_est, df_subset.rmse, label=d)\n",
    "\n",
    "plt.legend()\n",
    "plt.show()"
   ]
  },
  {
   "cell_type": "markdown",
   "id": "23d09ea5-95b6-42e9-8af8-81f1c227feb5",
   "metadata": {},
   "source": [
    "**Answer**: 25"
   ]
  },
  {
   "cell_type": "markdown",
   "id": "de0e6550-10fe-44ca-91aa-8b952616970e",
   "metadata": {},
   "source": [
    "## Question 5\n",
    "\n",
    "We can extract feature importance information from tree-based models. \n",
    "\n",
    "At each step of the decision tree learning algorithm, it finds the best split. \n",
    "When doing it, we can calculate \"gain\" - the reduction in impurity before and after the split. \n",
    "This gain is quite useful in understanding what are the important features for tree-based models.\n",
    "\n",
    "In Scikit-Learn, tree-based models contain this information in the\n",
    "[`feature_importances_`](https://scikit-learn.org/stable/modules/generated/sklearn.ensemble.RandomForestRegressor.html#sklearn.ensemble.RandomForestRegressor.feature_importances_)\n",
    "field. \n",
    "\n",
    "For this homework question, we'll find the most important feature:\n",
    "\n",
    "* Train the model with these parameters:\n",
    "  * `n_estimators=10`,\n",
    "  * `max_depth=20`,\n",
    "  * `random_state=1`,\n",
    "  * `n_jobs=-1` (optional)\n",
    "* Get the feature importance information from this model\n",
    "\n",
    "\n",
    "What's the most important feature (among these 4)? \n",
    "\n",
    "* `total_rooms`\n",
    "* `median_income`\n",
    "* `total_bedrooms`\n",
    "* `longitude`"
   ]
  },
  {
   "cell_type": "code",
   "execution_count": 21,
   "id": "a5a825ba-42a6-42c4-b26b-962966ac7ed5",
   "metadata": {},
   "outputs": [
    {
     "data": {
      "text/plain": [
       "'median_income'"
      ]
     },
     "execution_count": 21,
     "metadata": {},
     "output_type": "execute_result"
    }
   ],
   "source": [
    "rfr = RandomForestRegressor(\n",
    "    n_estimators=10,\n",
    "    max_depth=20,\n",
    "    random_state=1,\n",
    "    n_jobs=-1,\n",
    ")\n",
    "\n",
    "rfr.fit(X_train, y_train)\n",
    "\n",
    "# identifies the most important feature by finding the position where \n",
    "# the random forest model's feature_importances_ attribute is maximum\n",
    "dv.feature_names_[np.argmax(rfr.feature_importances_)]\n",
    "\n"
   ]
  },
  {
   "cell_type": "markdown",
   "id": "65cd6a3f-105a-437d-8188-ade3d12ff076",
   "metadata": {},
   "source": [
    "**Answer**: `median_income`"
   ]
  },
  {
   "cell_type": "markdown",
   "id": "18dea453-6996-480d-b38e-62695d29e0bb",
   "metadata": {},
   "source": [
    "# Section 3"
   ]
  },
  {
   "cell_type": "code",
   "execution_count": 23,
   "id": "3ce79199-20bb-4e81-96b7-7ea843c2be13",
   "metadata": {},
   "outputs": [],
   "source": [
    "import xgboost as xgb"
   ]
  },
  {
   "cell_type": "markdown",
   "id": "2510279d-de7b-4261-a6b2-8759a518153d",
   "metadata": {},
   "source": [
    "## Question 6\n",
    "\n",
    "Now let's train an XGBoost model! For this question, we'll tune the `eta` parameter:\n",
    "\n",
    "* Install XGBoost\n",
    "* Create DMatrix for train and validation\n",
    "* Create a watchlist\n",
    "* Train a model with these parameters for 100 rounds:\n",
    "\n",
    "```\n",
    "xgb_params = {\n",
    "    'eta': 0.3, \n",
    "    'max_depth': 6,\n",
    "    'min_child_weight': 1,\n",
    "    \n",
    "    'objective': 'reg:squarederror',\n",
    "    'nthread': 8,\n",
    "    \n",
    "    'seed': 1,\n",
    "    'verbosity': 1,\n",
    "}\n",
    "```\n",
    "\n",
    "Now change `eta` from `0.3` to `0.1`.\n",
    "\n",
    "Which eta leads to the best RMSE score on the validation dataset?\n",
    "\n",
    "* 0.3\n",
    "* 0.1\n",
    "* Both give equal value"
   ]
  },
  {
   "cell_type": "code",
   "execution_count": 24,
   "id": "ca1e43db-eae6-4d6a-b02f-6c08e62cd688",
   "metadata": {
    "scrolled": true
   },
   "outputs": [
    {
     "name": "stdout",
     "output_type": "stream",
     "text": [
      "[0]\ttrain-rmse:8.07362\teval-rmse:8.07348\n",
      "[1]\ttrain-rmse:5.65832\teval-rmse:5.65617\n",
      "[2]\ttrain-rmse:3.96917\teval-rmse:3.96541\n",
      "[3]\ttrain-rmse:2.78836\teval-rmse:2.78530\n",
      "[4]\ttrain-rmse:1.96409\teval-rmse:1.96088\n",
      "[5]\ttrain-rmse:1.38983\teval-rmse:1.38852\n",
      "[6]\ttrain-rmse:0.99273\teval-rmse:0.99253\n",
      "[7]\ttrain-rmse:0.71854\teval-rmse:0.72138\n",
      "[8]\ttrain-rmse:0.53440\teval-rmse:0.54054\n",
      "[9]\ttrain-rmse:0.41016\teval-rmse:0.42108\n",
      "[10]\ttrain-rmse:0.33195\teval-rmse:0.34802\n",
      "[11]\ttrain-rmse:0.28413\teval-rmse:0.30539\n",
      "[12]\ttrain-rmse:0.25487\teval-rmse:0.28044\n",
      "[13]\ttrain-rmse:0.23748\teval-rmse:0.26681\n",
      "[14]\ttrain-rmse:0.22789\teval-rmse:0.25955\n",
      "[15]\ttrain-rmse:0.22197\teval-rmse:0.25614\n",
      "[16]\ttrain-rmse:0.21543\teval-rmse:0.25268\n",
      "[17]\ttrain-rmse:0.21034\teval-rmse:0.24871\n",
      "[18]\ttrain-rmse:0.20688\teval-rmse:0.24786\n",
      "[19]\ttrain-rmse:0.20341\teval-rmse:0.24612\n",
      "[20]\ttrain-rmse:0.20036\teval-rmse:0.24508\n",
      "[21]\ttrain-rmse:0.19827\teval-rmse:0.24376\n",
      "[22]\ttrain-rmse:0.19644\teval-rmse:0.24257\n",
      "[23]\ttrain-rmse:0.19320\teval-rmse:0.24095\n",
      "[24]\ttrain-rmse:0.19203\teval-rmse:0.24066\n",
      "[25]\ttrain-rmse:0.18991\teval-rmse:0.24021\n",
      "[26]\ttrain-rmse:0.18715\teval-rmse:0.23921\n",
      "[27]\ttrain-rmse:0.18592\teval-rmse:0.23917\n",
      "[28]\ttrain-rmse:0.18539\teval-rmse:0.23906\n",
      "[29]\ttrain-rmse:0.18394\teval-rmse:0.23830\n",
      "[30]\ttrain-rmse:0.18204\teval-rmse:0.23833\n",
      "[31]\ttrain-rmse:0.18014\teval-rmse:0.23764\n",
      "[32]\ttrain-rmse:0.17785\teval-rmse:0.23717\n",
      "[33]\ttrain-rmse:0.17441\teval-rmse:0.23620\n",
      "[34]\ttrain-rmse:0.17311\teval-rmse:0.23603\n",
      "[35]\ttrain-rmse:0.17091\teval-rmse:0.23452\n",
      "[36]\ttrain-rmse:0.16973\teval-rmse:0.23439\n",
      "[37]\ttrain-rmse:0.16827\teval-rmse:0.23419\n",
      "[38]\ttrain-rmse:0.16728\teval-rmse:0.23403\n",
      "[39]\ttrain-rmse:0.16621\teval-rmse:0.23389\n",
      "[40]\ttrain-rmse:0.16422\teval-rmse:0.23379\n",
      "[41]\ttrain-rmse:0.16272\teval-rmse:0.23398\n",
      "[42]\ttrain-rmse:0.16186\teval-rmse:0.23384\n",
      "[43]\ttrain-rmse:0.15985\teval-rmse:0.23320\n",
      "[44]\ttrain-rmse:0.15905\teval-rmse:0.23307\n",
      "[45]\ttrain-rmse:0.15756\teval-rmse:0.23302\n",
      "[46]\ttrain-rmse:0.15677\teval-rmse:0.23323\n",
      "[47]\ttrain-rmse:0.15588\teval-rmse:0.23335\n",
      "[48]\ttrain-rmse:0.15467\teval-rmse:0.23302\n",
      "[49]\ttrain-rmse:0.15364\teval-rmse:0.23319\n",
      "[50]\ttrain-rmse:0.15210\teval-rmse:0.23262\n",
      "[51]\ttrain-rmse:0.15110\teval-rmse:0.23268\n",
      "[52]\ttrain-rmse:0.14992\teval-rmse:0.23254\n",
      "[53]\ttrain-rmse:0.14890\teval-rmse:0.23234\n",
      "[54]\ttrain-rmse:0.14729\teval-rmse:0.23212\n",
      "[55]\ttrain-rmse:0.14633\teval-rmse:0.23167\n",
      "[56]\ttrain-rmse:0.14531\teval-rmse:0.23168\n",
      "[57]\ttrain-rmse:0.14476\teval-rmse:0.23183\n",
      "[58]\ttrain-rmse:0.14398\teval-rmse:0.23178\n",
      "[59]\ttrain-rmse:0.14309\teval-rmse:0.23177\n",
      "[60]\ttrain-rmse:0.14218\teval-rmse:0.23160\n",
      "[61]\ttrain-rmse:0.14194\teval-rmse:0.23150\n",
      "[62]\ttrain-rmse:0.14141\teval-rmse:0.23169\n",
      "[63]\ttrain-rmse:0.14087\teval-rmse:0.23180\n",
      "[64]\ttrain-rmse:0.14022\teval-rmse:0.23175\n",
      "[65]\ttrain-rmse:0.13898\teval-rmse:0.23169\n",
      "[66]\ttrain-rmse:0.13823\teval-rmse:0.23179\n",
      "[67]\ttrain-rmse:0.13696\teval-rmse:0.23140\n",
      "[68]\ttrain-rmse:0.13665\teval-rmse:0.23148\n",
      "[69]\ttrain-rmse:0.13565\teval-rmse:0.23115\n",
      "[70]\ttrain-rmse:0.13471\teval-rmse:0.23108\n",
      "[71]\ttrain-rmse:0.13392\teval-rmse:0.23081\n",
      "[72]\ttrain-rmse:0.13290\teval-rmse:0.23044\n",
      "[73]\ttrain-rmse:0.13249\teval-rmse:0.23043\n",
      "[74]\ttrain-rmse:0.13143\teval-rmse:0.23026\n",
      "[75]\ttrain-rmse:0.13072\teval-rmse:0.23036\n",
      "[76]\ttrain-rmse:0.13034\teval-rmse:0.23027\n",
      "[77]\ttrain-rmse:0.12963\teval-rmse:0.23029\n",
      "[78]\ttrain-rmse:0.12914\teval-rmse:0.23029\n",
      "[79]\ttrain-rmse:0.12872\teval-rmse:0.23028\n",
      "[80]\ttrain-rmse:0.12835\teval-rmse:0.23045\n",
      "[81]\ttrain-rmse:0.12754\teval-rmse:0.23025\n",
      "[82]\ttrain-rmse:0.12727\teval-rmse:0.23015\n",
      "[83]\ttrain-rmse:0.12666\teval-rmse:0.23024\n",
      "[84]\ttrain-rmse:0.12630\teval-rmse:0.23028\n",
      "[85]\ttrain-rmse:0.12534\teval-rmse:0.23010\n",
      "[86]\ttrain-rmse:0.12495\teval-rmse:0.23009\n",
      "[87]\ttrain-rmse:0.12455\teval-rmse:0.23004\n",
      "[88]\ttrain-rmse:0.12330\teval-rmse:0.22953\n",
      "[89]\ttrain-rmse:0.12260\teval-rmse:0.22949\n",
      "[90]\ttrain-rmse:0.12174\teval-rmse:0.22957\n",
      "[91]\ttrain-rmse:0.12118\teval-rmse:0.22940\n",
      "[92]\ttrain-rmse:0.12037\teval-rmse:0.22914\n",
      "[93]\ttrain-rmse:0.11983\teval-rmse:0.22921\n",
      "[94]\ttrain-rmse:0.11949\teval-rmse:0.22909\n",
      "[95]\ttrain-rmse:0.11894\teval-rmse:0.22906\n",
      "[96]\ttrain-rmse:0.11840\teval-rmse:0.22906\n",
      "[97]\ttrain-rmse:0.11791\teval-rmse:0.22898\n",
      "[98]\ttrain-rmse:0.11672\teval-rmse:0.22891\n",
      "[99]\ttrain-rmse:0.11656\teval-rmse:0.22897\n"
     ]
    }
   ],
   "source": [
    "Dtrain = xgb.DMatrix(X_train, y_train)\n",
    "Dval = xgb.DMatrix(X_val, y_val)\n",
    "\n",
    "evallist = [(Dtrain, 'train'), (Dval, 'eval')]  # specifies evaluation sets to watch performance\n",
    "\n",
    "xgb_params = {\n",
    "    'eta': 0.3,  # learning rate\n",
    "    'max_depth': 6,\n",
    "    'min_child_weight': 1,\n",
    "    \n",
    "    'objective': 'reg:squarederror',  # for regression, uses RMSE\n",
    "    'nthread': 8,\n",
    "    \n",
    "    'seed': 1,\n",
    "    'verbosity': 1,\n",
    "}\n",
    "\n",
    "num_round = 100\n",
    "bst = xgb.train(xgb_params, Dtrain, num_round, evals=evallist)"
   ]
  },
  {
   "cell_type": "code",
   "execution_count": 25,
   "id": "7064f33c-a851-4e44-97a4-5dbf7a976e81",
   "metadata": {},
   "outputs": [
    {
     "data": {
      "text/plain": [
       "{'eta': 0.1,\n",
       " 'max_depth': 6,\n",
       " 'min_child_weight': 1,\n",
       " 'objective': 'reg:squarederror',\n",
       " 'nthread': 8,\n",
       " 'seed': 1,\n",
       " 'verbosity': 1}"
      ]
     },
     "execution_count": 25,
     "metadata": {},
     "output_type": "execute_result"
    }
   ],
   "source": [
    "xgb_params['eta'] = 0.1\n",
    "\n",
    "xgb_params"
   ]
  },
  {
   "cell_type": "code",
   "execution_count": 26,
   "id": "7b41b6ee-d4b0-40db-b3cc-520e814af8d1",
   "metadata": {
    "scrolled": true
   },
   "outputs": [
    {
     "name": "stdout",
     "output_type": "stream",
     "text": [
      "[0]\ttrain-rmse:10.37456\teval-rmse:10.37545\n",
      "[1]\ttrain-rmse:9.33895\teval-rmse:9.33910\n",
      "[2]\ttrain-rmse:8.40699\teval-rmse:8.40694\n",
      "[3]\ttrain-rmse:7.56827\teval-rmse:7.56760\n",
      "[4]\ttrain-rmse:6.81351\teval-rmse:6.81222\n",
      "[5]\ttrain-rmse:6.13433\teval-rmse:6.13236\n",
      "[6]\ttrain-rmse:5.52318\teval-rmse:5.52066\n",
      "[7]\ttrain-rmse:4.97329\teval-rmse:4.97019\n",
      "[8]\ttrain-rmse:4.47854\teval-rmse:4.47532\n",
      "[9]\ttrain-rmse:4.03346\teval-rmse:4.03005\n",
      "[10]\ttrain-rmse:3.63299\teval-rmse:3.62939\n",
      "[11]\ttrain-rmse:3.27269\teval-rmse:3.26930\n",
      "[12]\ttrain-rmse:2.94855\teval-rmse:2.94514\n",
      "[13]\ttrain-rmse:2.65703\teval-rmse:2.65359\n",
      "[14]\ttrain-rmse:2.39479\teval-rmse:2.39150\n",
      "[15]\ttrain-rmse:2.15901\teval-rmse:2.15616\n",
      "[16]\ttrain-rmse:1.94714\teval-rmse:1.94442\n",
      "[17]\ttrain-rmse:1.75677\teval-rmse:1.75478\n",
      "[18]\ttrain-rmse:1.58567\teval-rmse:1.58404\n",
      "[19]\ttrain-rmse:1.43206\teval-rmse:1.43081\n",
      "[20]\ttrain-rmse:1.29412\teval-rmse:1.29329\n",
      "[21]\ttrain-rmse:1.17023\teval-rmse:1.17013\n",
      "[22]\ttrain-rmse:1.05934\teval-rmse:1.05983\n",
      "[23]\ttrain-rmse:0.95998\teval-rmse:0.96117\n",
      "[24]\ttrain-rmse:0.87015\teval-rmse:0.87245\n",
      "[25]\ttrain-rmse:0.78993\teval-rmse:0.79342\n",
      "[26]\ttrain-rmse:0.71854\teval-rmse:0.72317\n",
      "[27]\ttrain-rmse:0.65509\teval-rmse:0.66070\n",
      "[28]\ttrain-rmse:0.59798\teval-rmse:0.60472\n",
      "[29]\ttrain-rmse:0.54753\teval-rmse:0.55556\n",
      "[30]\ttrain-rmse:0.50217\teval-rmse:0.51149\n",
      "[31]\ttrain-rmse:0.46264\teval-rmse:0.47334\n",
      "[32]\ttrain-rmse:0.42764\teval-rmse:0.44027\n",
      "[33]\ttrain-rmse:0.39638\teval-rmse:0.41081\n",
      "[34]\ttrain-rmse:0.36934\teval-rmse:0.38547\n",
      "[35]\ttrain-rmse:0.34590\teval-rmse:0.36371\n",
      "[36]\ttrain-rmse:0.32525\teval-rmse:0.34493\n",
      "[37]\ttrain-rmse:0.30757\teval-rmse:0.32888\n",
      "[38]\ttrain-rmse:0.29236\teval-rmse:0.31534\n",
      "[39]\ttrain-rmse:0.27876\teval-rmse:0.30333\n",
      "[40]\ttrain-rmse:0.26743\teval-rmse:0.29345\n",
      "[41]\ttrain-rmse:0.25766\teval-rmse:0.28530\n",
      "[42]\ttrain-rmse:0.24866\teval-rmse:0.27785\n",
      "[43]\ttrain-rmse:0.24160\teval-rmse:0.27211\n",
      "[44]\ttrain-rmse:0.23504\teval-rmse:0.26702\n",
      "[45]\ttrain-rmse:0.23014\teval-rmse:0.26315\n",
      "[46]\ttrain-rmse:0.22465\teval-rmse:0.25892\n",
      "[47]\ttrain-rmse:0.22086\teval-rmse:0.25593\n",
      "[48]\ttrain-rmse:0.21776\teval-rmse:0.25353\n",
      "[49]\ttrain-rmse:0.21459\teval-rmse:0.25146\n",
      "[50]\ttrain-rmse:0.21112\teval-rmse:0.24907\n",
      "[51]\ttrain-rmse:0.20919\teval-rmse:0.24776\n",
      "[52]\ttrain-rmse:0.20751\teval-rmse:0.24671\n",
      "[53]\ttrain-rmse:0.20576\teval-rmse:0.24575\n",
      "[54]\ttrain-rmse:0.20434\teval-rmse:0.24485\n",
      "[55]\ttrain-rmse:0.20315\teval-rmse:0.24427\n",
      "[56]\ttrain-rmse:0.20155\teval-rmse:0.24317\n",
      "[57]\ttrain-rmse:0.20032\teval-rmse:0.24263\n",
      "[58]\ttrain-rmse:0.19953\teval-rmse:0.24210\n",
      "[59]\ttrain-rmse:0.19820\teval-rmse:0.24144\n",
      "[60]\ttrain-rmse:0.19724\teval-rmse:0.24107\n",
      "[61]\ttrain-rmse:0.19641\teval-rmse:0.24095\n",
      "[62]\ttrain-rmse:0.19543\teval-rmse:0.24063\n",
      "[63]\ttrain-rmse:0.19420\teval-rmse:0.23990\n",
      "[64]\ttrain-rmse:0.19329\teval-rmse:0.23953\n",
      "[65]\ttrain-rmse:0.19264\teval-rmse:0.23932\n",
      "[66]\ttrain-rmse:0.19168\teval-rmse:0.23909\n",
      "[67]\ttrain-rmse:0.19096\teval-rmse:0.23884\n",
      "[68]\ttrain-rmse:0.19050\teval-rmse:0.23878\n",
      "[69]\ttrain-rmse:0.19009\teval-rmse:0.23867\n",
      "[70]\ttrain-rmse:0.18911\teval-rmse:0.23824\n",
      "[71]\ttrain-rmse:0.18801\teval-rmse:0.23804\n",
      "[72]\ttrain-rmse:0.18750\teval-rmse:0.23790\n",
      "[73]\ttrain-rmse:0.18708\teval-rmse:0.23774\n",
      "[74]\ttrain-rmse:0.18594\teval-rmse:0.23732\n",
      "[75]\ttrain-rmse:0.18503\teval-rmse:0.23731\n",
      "[76]\ttrain-rmse:0.18439\teval-rmse:0.23703\n",
      "[77]\ttrain-rmse:0.18358\teval-rmse:0.23669\n",
      "[78]\ttrain-rmse:0.18285\teval-rmse:0.23652\n",
      "[79]\ttrain-rmse:0.18226\teval-rmse:0.23628\n",
      "[80]\ttrain-rmse:0.18145\teval-rmse:0.23594\n",
      "[81]\ttrain-rmse:0.18110\teval-rmse:0.23586\n",
      "[82]\ttrain-rmse:0.18036\teval-rmse:0.23567\n",
      "[83]\ttrain-rmse:0.17949\teval-rmse:0.23527\n",
      "[84]\ttrain-rmse:0.17910\teval-rmse:0.23516\n",
      "[85]\ttrain-rmse:0.17807\teval-rmse:0.23475\n",
      "[86]\ttrain-rmse:0.17739\teval-rmse:0.23449\n",
      "[87]\ttrain-rmse:0.17664\teval-rmse:0.23412\n",
      "[88]\ttrain-rmse:0.17601\teval-rmse:0.23395\n",
      "[89]\ttrain-rmse:0.17510\teval-rmse:0.23353\n",
      "[90]\ttrain-rmse:0.17418\teval-rmse:0.23307\n",
      "[91]\ttrain-rmse:0.17374\teval-rmse:0.23291\n",
      "[92]\ttrain-rmse:0.17309\teval-rmse:0.23271\n",
      "[93]\ttrain-rmse:0.17258\teval-rmse:0.23280\n",
      "[94]\ttrain-rmse:0.17174\teval-rmse:0.23259\n",
      "[95]\ttrain-rmse:0.17149\teval-rmse:0.23258\n",
      "[96]\ttrain-rmse:0.17096\teval-rmse:0.23244\n",
      "[97]\ttrain-rmse:0.17065\teval-rmse:0.23245\n",
      "[98]\ttrain-rmse:0.17037\teval-rmse:0.23238\n",
      "[99]\ttrain-rmse:0.17000\teval-rmse:0.23234\n"
     ]
    }
   ],
   "source": [
    "num_round = 100\n",
    "bst = xgb.train(xgb_params, Dtrain, num_round, evals=evallist)"
   ]
  },
  {
   "cell_type": "markdown",
   "id": "175af089-491b-4832-a4ef-d9f5da916d14",
   "metadata": {},
   "source": [
    "**Answer**: Both give equal value"
   ]
  },
  {
   "cell_type": "code",
   "execution_count": null,
   "id": "9fb0f357-614d-4925-b35a-699ab8529743",
   "metadata": {},
   "outputs": [],
   "source": []
  }
 ],
 "metadata": {
  "kernelspec": {
   "display_name": "Python 3 (ipykernel)",
   "language": "python",
   "name": "python3"
  },
  "language_info": {
   "codemirror_mode": {
    "name": "ipython",
    "version": 3
   },
   "file_extension": ".py",
   "mimetype": "text/x-python",
   "name": "python",
   "nbconvert_exporter": "python",
   "pygments_lexer": "ipython3",
   "version": "3.10.11"
  }
 },
 "nbformat": 4,
 "nbformat_minor": 5
}
