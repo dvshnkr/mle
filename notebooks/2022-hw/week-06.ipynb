{
 "cells": [
  {
   "cell_type": "markdown",
   "id": "2cc81422-54d1-415f-a79a-d94c6d561e8a",
   "metadata": {},
   "source": [
    "Solving questions from: [2022 hw - week 6](https://github.com/DataTalksClub/machine-learning-zoomcamp/blob/master/cohorts/2022/06-trees/homework.md)"
   ]
  },
  {
   "cell_type": "markdown",
   "id": "cc41b615-53fc-4031-9be1-8e0c7c0d766a",
   "metadata": {},
   "source": [
    "# Section 1"
   ]
  },
  {
   "cell_type": "code",
   "execution_count": 1,
   "id": "a0d9ce92-b615-408f-a172-4e44830ad565",
   "metadata": {},
   "outputs": [],
   "source": [
    "import numpy as np\n",
    "import pandas as pd\n",
    "import matplotlib.pyplot as plt\n",
    "import seaborn as sns\n",
    "\n",
    "from sklearn.model_selection import train_test_split\n",
    "from sklearn.feature_extraction import DictVectorizer\n",
    "\n",
    "%matplotlib inline"
   ]
  },
  {
   "cell_type": "code",
   "execution_count": 2,
   "id": "527f1bd2-c179-4b4b-838c-ffafd57698fb",
   "metadata": {},
   "outputs": [
    {
     "data": {
      "text/html": [
       "<div>\n",
       "<style scoped>\n",
       "    .dataframe tbody tr th:only-of-type {\n",
       "        vertical-align: middle;\n",
       "    }\n",
       "\n",
       "    .dataframe tbody tr th {\n",
       "        vertical-align: top;\n",
       "    }\n",
       "\n",
       "    .dataframe thead th {\n",
       "        text-align: right;\n",
       "    }\n",
       "</style>\n",
       "<table border=\"1\" class=\"dataframe\">\n",
       "  <thead>\n",
       "    <tr style=\"text-align: right;\">\n",
       "      <th></th>\n",
       "      <th>longitude</th>\n",
       "      <th>latitude</th>\n",
       "      <th>housing_median_age</th>\n",
       "      <th>total_rooms</th>\n",
       "      <th>total_bedrooms</th>\n",
       "      <th>population</th>\n",
       "      <th>households</th>\n",
       "      <th>median_income</th>\n",
       "      <th>median_house_value</th>\n",
       "      <th>ocean_proximity</th>\n",
       "    </tr>\n",
       "  </thead>\n",
       "  <tbody>\n",
       "    <tr>\n",
       "      <th>0</th>\n",
       "      <td>-122.23</td>\n",
       "      <td>37.88</td>\n",
       "      <td>41.0</td>\n",
       "      <td>880.0</td>\n",
       "      <td>129.0</td>\n",
       "      <td>322.0</td>\n",
       "      <td>126.0</td>\n",
       "      <td>8.3252</td>\n",
       "      <td>452600.0</td>\n",
       "      <td>NEAR BAY</td>\n",
       "    </tr>\n",
       "    <tr>\n",
       "      <th>1</th>\n",
       "      <td>-122.22</td>\n",
       "      <td>37.86</td>\n",
       "      <td>21.0</td>\n",
       "      <td>7099.0</td>\n",
       "      <td>1106.0</td>\n",
       "      <td>2401.0</td>\n",
       "      <td>1138.0</td>\n",
       "      <td>8.3014</td>\n",
       "      <td>358500.0</td>\n",
       "      <td>NEAR BAY</td>\n",
       "    </tr>\n",
       "    <tr>\n",
       "      <th>2</th>\n",
       "      <td>-122.24</td>\n",
       "      <td>37.85</td>\n",
       "      <td>52.0</td>\n",
       "      <td>1467.0</td>\n",
       "      <td>190.0</td>\n",
       "      <td>496.0</td>\n",
       "      <td>177.0</td>\n",
       "      <td>7.2574</td>\n",
       "      <td>352100.0</td>\n",
       "      <td>NEAR BAY</td>\n",
       "    </tr>\n",
       "    <tr>\n",
       "      <th>3</th>\n",
       "      <td>-122.25</td>\n",
       "      <td>37.85</td>\n",
       "      <td>52.0</td>\n",
       "      <td>1274.0</td>\n",
       "      <td>235.0</td>\n",
       "      <td>558.0</td>\n",
       "      <td>219.0</td>\n",
       "      <td>5.6431</td>\n",
       "      <td>341300.0</td>\n",
       "      <td>NEAR BAY</td>\n",
       "    </tr>\n",
       "    <tr>\n",
       "      <th>4</th>\n",
       "      <td>-122.25</td>\n",
       "      <td>37.85</td>\n",
       "      <td>52.0</td>\n",
       "      <td>1627.0</td>\n",
       "      <td>280.0</td>\n",
       "      <td>565.0</td>\n",
       "      <td>259.0</td>\n",
       "      <td>3.8462</td>\n",
       "      <td>342200.0</td>\n",
       "      <td>NEAR BAY</td>\n",
       "    </tr>\n",
       "  </tbody>\n",
       "</table>\n",
       "</div>"
      ],
      "text/plain": [
       "   longitude  latitude  housing_median_age  total_rooms  total_bedrooms  \\\n",
       "0    -122.23     37.88                41.0        880.0           129.0   \n",
       "1    -122.22     37.86                21.0       7099.0          1106.0   \n",
       "2    -122.24     37.85                52.0       1467.0           190.0   \n",
       "3    -122.25     37.85                52.0       1274.0           235.0   \n",
       "4    -122.25     37.85                52.0       1627.0           280.0   \n",
       "\n",
       "   population  households  median_income  median_house_value ocean_proximity  \n",
       "0       322.0       126.0         8.3252            452600.0        NEAR BAY  \n",
       "1      2401.0      1138.0         8.3014            358500.0        NEAR BAY  \n",
       "2       496.0       177.0         7.2574            352100.0        NEAR BAY  \n",
       "3       558.0       219.0         5.6431            341300.0        NEAR BAY  \n",
       "4       565.0       259.0         3.8462            342200.0        NEAR BAY  "
      ]
     },
     "execution_count": 2,
     "metadata": {},
     "output_type": "execute_result"
    }
   ],
   "source": [
    "data = pd.read_csv('data/housing.csv')\n",
    "data.head()"
   ]
  },
  {
   "cell_type": "code",
   "execution_count": 3,
   "id": "a67ca93f-83c4-4dbc-a47d-da635efbbe1e",
   "metadata": {},
   "outputs": [
    {
     "data": {
      "image/png": "[encoded data removed]",
      "text/plain": [
       "<Figure size 600x600 with 1 Axes>"
      ]
     },
     "metadata": {},
     "output_type": "display_data"
    }
   ],
   "source": [
    "fig, ax = plt.subplots(figsize=(6, 6))\n",
    "\n",
    "sns.boxplot(data=data, x='ocean_proximity', y='median_house_value', ax=ax)\n",
    "plt.show()"
   ]
  },
  {
   "cell_type": "markdown",
   "id": "caacd514-a60d-4f13-82f0-e5bae2648ff3",
   "metadata": {},
   "source": [
    "The boxplot above can be interpreted as showing the distribution of the `median_house_value` feature (**target variable**) for the different values that `ocean_proximity` can take. The houses on islands have the highest median `median_house_value` and houses inland have the least median `median_house_value`. The other values have roughly the same median `median_house_value`."
   ]
  },
  {
   "cell_type": "code",
   "execution_count": 4,
   "id": "72727906-2a5c-4054-a1b1-04e2ee55db59",
   "metadata": {},
   "outputs": [
    {
     "name": "stdout",
     "output_type": "stream",
     "text": [
      "<class 'pandas.core.frame.DataFrame'>\n",
      "RangeIndex: 20640 entries, 0 to 20639\n",
      "Data columns (total 10 columns):\n",
      " #   Column              Non-Null Count  Dtype  \n",
      "---  ------              --------------  -----  \n",
      " 0   longitude           20640 non-null  float64\n",
      " 1   latitude            20640 non-null  float64\n",
      " 2   housing_median_age  20640 non-null  float64\n",
      " 3   total_rooms         20640 non-null  float64\n",
      " 4   total_bedrooms      20433 non-null  float64\n",
      " 5   population          20640 non-null  float64\n",
      " 6   households          20640 non-null  float64\n",
      " 7   median_income       20640 non-null  float64\n",
      " 8   median_house_value  20640 non-null  float64\n",
      " 9   ocean_proximity     20640 non-null  object \n",
      "dtypes: float64(9), object(1)\n",
      "memory usage: 1.6+ MB\n"
     ]
    }
   ],
   "source": [
    "data.info()"
   ]
  },
  {
   "cell_type": "markdown",
   "id": "be73e111-bd3a-40e5-8a34-2940791df5d3",
   "metadata": {},
   "source": [
    "There are _null_ values in the `total_bedrooms` feature, but not in other features."
   ]
  },
  {
   "cell_type": "code",
   "execution_count": 5,
   "id": "28347505-2459-4615-b20f-90a14a82b4fb",
   "metadata": {},
   "outputs": [
    {
     "data": {
      "text/html": [
       "<div>\n",
       "<style scoped>\n",
       "    .dataframe tbody tr th:only-of-type {\n",
       "        vertical-align: middle;\n",
       "    }\n",
       "\n",
       "    .dataframe tbody tr th {\n",
       "        vertical-align: top;\n",
       "    }\n",
       "\n",
       "    .dataframe thead th {\n",
       "        text-align: right;\n",
       "    }\n",
       "</style>\n",
       "<table border=\"1\" class=\"dataframe\">\n",
       "  <thead>\n",
       "    <tr style=\"text-align: right;\">\n",
       "      <th></th>\n",
       "      <th>longitude</th>\n",
       "      <th>latitude</th>\n",
       "      <th>housing_median_age</th>\n",
       "      <th>total_rooms</th>\n",
       "      <th>total_bedrooms</th>\n",
       "      <th>population</th>\n",
       "      <th>households</th>\n",
       "      <th>median_income</th>\n",
       "      <th>median_house_value</th>\n",
       "      <th>ocean_proximity</th>\n",
       "    </tr>\n",
       "  </thead>\n",
       "  <tbody>\n",
       "    <tr>\n",
       "      <th>0</th>\n",
       "      <td>-122.23</td>\n",
       "      <td>37.88</td>\n",
       "      <td>41.0</td>\n",
       "      <td>880.0</td>\n",
       "      <td>129.0</td>\n",
       "      <td>322.0</td>\n",
       "      <td>126.0</td>\n",
       "      <td>8.3252</td>\n",
       "      <td>452600.0</td>\n",
       "      <td>NEAR BAY</td>\n",
       "    </tr>\n",
       "    <tr>\n",
       "      <th>1</th>\n",
       "      <td>-122.22</td>\n",
       "      <td>37.86</td>\n",
       "      <td>21.0</td>\n",
       "      <td>7099.0</td>\n",
       "      <td>1106.0</td>\n",
       "      <td>2401.0</td>\n",
       "      <td>1138.0</td>\n",
       "      <td>8.3014</td>\n",
       "      <td>358500.0</td>\n",
       "      <td>NEAR BAY</td>\n",
       "    </tr>\n",
       "    <tr>\n",
       "      <th>2</th>\n",
       "      <td>-122.24</td>\n",
       "      <td>37.85</td>\n",
       "      <td>52.0</td>\n",
       "      <td>1467.0</td>\n",
       "      <td>190.0</td>\n",
       "      <td>496.0</td>\n",
       "      <td>177.0</td>\n",
       "      <td>7.2574</td>\n",
       "      <td>352100.0</td>\n",
       "      <td>NEAR BAY</td>\n",
       "    </tr>\n",
       "    <tr>\n",
       "      <th>3</th>\n",
       "      <td>-122.25</td>\n",
       "      <td>37.85</td>\n",
       "      <td>52.0</td>\n",
       "      <td>1274.0</td>\n",
       "      <td>235.0</td>\n",
       "      <td>558.0</td>\n",
       "      <td>219.0</td>\n",
       "      <td>5.6431</td>\n",
       "      <td>341300.0</td>\n",
       "      <td>NEAR BAY</td>\n",
       "    </tr>\n",
       "    <tr>\n",
       "      <th>4</th>\n",
       "      <td>-122.25</td>\n",
       "      <td>37.85</td>\n",
       "      <td>52.0</td>\n",
       "      <td>1627.0</td>\n",
       "      <td>280.0</td>\n",
       "      <td>565.0</td>\n",
       "      <td>259.0</td>\n",
       "      <td>3.8462</td>\n",
       "      <td>342200.0</td>\n",
       "      <td>NEAR BAY</td>\n",
       "    </tr>\n",
       "  </tbody>\n",
       "</table>\n",
       "</div>"
      ],
      "text/plain": [
       "   longitude  latitude  housing_median_age  total_rooms  total_bedrooms  \\\n",
       "0    -122.23     37.88                41.0        880.0           129.0   \n",
       "1    -122.22     37.86                21.0       7099.0          1106.0   \n",
       "2    -122.24     37.85                52.0       1467.0           190.0   \n",
       "3    -122.25     37.85                52.0       1274.0           235.0   \n",
       "4    -122.25     37.85                52.0       1627.0           280.0   \n",
       "\n",
       "   population  households  median_income  median_house_value ocean_proximity  \n",
       "0       322.0       126.0         8.3252            452600.0        NEAR BAY  \n",
       "1      2401.0      1138.0         8.3014            358500.0        NEAR BAY  \n",
       "2       496.0       177.0         7.2574            352100.0        NEAR BAY  \n",
       "3       558.0       219.0         5.6431            341300.0        NEAR BAY  \n",
       "4       565.0       259.0         3.8462            342200.0        NEAR BAY  "
      ]
     },
     "execution_count": 5,
     "metadata": {},
     "output_type": "execute_result"
    }
   ],
   "source": [
    "data.fillna(0, inplace=True)  # replace null values with 0's\n",
    "data.head()"
   ]
  },
  {
   "cell_type": "code",
   "execution_count": 6,
   "id": "fc6acef6-7408-4001-994d-cf6df956fae3",
   "metadata": {},
   "outputs": [
    {
     "name": "stdout",
     "output_type": "stream",
     "text": [
      "<class 'pandas.core.frame.DataFrame'>\n",
      "RangeIndex: 20640 entries, 0 to 20639\n",
      "Data columns (total 10 columns):\n",
      " #   Column              Non-Null Count  Dtype  \n",
      "---  ------              --------------  -----  \n",
      " 0   longitude           20640 non-null  float64\n",
      " 1   latitude            20640 non-null  float64\n",
      " 2   housing_median_age  20640 non-null  float64\n",
      " 3   total_rooms         20640 non-null  float64\n",
      " 4   total_bedrooms      20640 non-null  float64\n",
      " 5   population          20640 non-null  float64\n",
      " 6   households          20640 non-null  float64\n",
      " 7   median_income       20640 non-null  float64\n",
      " 8   median_house_value  20640 non-null  float64\n",
      " 9   ocean_proximity     20640 non-null  object \n",
      "dtypes: float64(9), object(1)\n",
      "memory usage: 1.6+ MB\n"
     ]
    }
   ],
   "source": [
    "data.info()"
   ]
  },
  {
   "cell_type": "code",
   "execution_count": 7,
   "id": "87ce880c-6331-4f85-91bf-7dcbfda7a008",
   "metadata": {},
   "outputs": [
    {
     "data": {
      "text/html": [
       "<div>\n",
       "<style scoped>\n",
       "    .dataframe tbody tr th:only-of-type {\n",
       "        vertical-align: middle;\n",
       "    }\n",
       "\n",
       "    .dataframe tbody tr th {\n",
       "        vertical-align: top;\n",
       "    }\n",
       "\n",
       "    .dataframe thead th {\n",
       "        text-align: right;\n",
       "    }\n",
       "</style>\n",
       "<table border=\"1\" class=\"dataframe\">\n",
       "  <thead>\n",
       "    <tr style=\"text-align: right;\">\n",
       "      <th></th>\n",
       "      <th>longitude</th>\n",
       "      <th>latitude</th>\n",
       "      <th>housing_median_age</th>\n",
       "      <th>total_rooms</th>\n",
       "      <th>total_bedrooms</th>\n",
       "      <th>population</th>\n",
       "      <th>households</th>\n",
       "      <th>median_income</th>\n",
       "      <th>median_house_value</th>\n",
       "      <th>ocean_proximity</th>\n",
       "    </tr>\n",
       "  </thead>\n",
       "  <tbody>\n",
       "    <tr>\n",
       "      <th>0</th>\n",
       "      <td>-122.23</td>\n",
       "      <td>37.88</td>\n",
       "      <td>41.0</td>\n",
       "      <td>880.0</td>\n",
       "      <td>129.0</td>\n",
       "      <td>322.0</td>\n",
       "      <td>126.0</td>\n",
       "      <td>8.3252</td>\n",
       "      <td>13.022766</td>\n",
       "      <td>NEAR BAY</td>\n",
       "    </tr>\n",
       "    <tr>\n",
       "      <th>1</th>\n",
       "      <td>-122.22</td>\n",
       "      <td>37.86</td>\n",
       "      <td>21.0</td>\n",
       "      <td>7099.0</td>\n",
       "      <td>1106.0</td>\n",
       "      <td>2401.0</td>\n",
       "      <td>1138.0</td>\n",
       "      <td>8.3014</td>\n",
       "      <td>12.789687</td>\n",
       "      <td>NEAR BAY</td>\n",
       "    </tr>\n",
       "    <tr>\n",
       "      <th>2</th>\n",
       "      <td>-122.24</td>\n",
       "      <td>37.85</td>\n",
       "      <td>52.0</td>\n",
       "      <td>1467.0</td>\n",
       "      <td>190.0</td>\n",
       "      <td>496.0</td>\n",
       "      <td>177.0</td>\n",
       "      <td>7.2574</td>\n",
       "      <td>12.771673</td>\n",
       "      <td>NEAR BAY</td>\n",
       "    </tr>\n",
       "    <tr>\n",
       "      <th>3</th>\n",
       "      <td>-122.25</td>\n",
       "      <td>37.85</td>\n",
       "      <td>52.0</td>\n",
       "      <td>1274.0</td>\n",
       "      <td>235.0</td>\n",
       "      <td>558.0</td>\n",
       "      <td>219.0</td>\n",
       "      <td>5.6431</td>\n",
       "      <td>12.740520</td>\n",
       "      <td>NEAR BAY</td>\n",
       "    </tr>\n",
       "    <tr>\n",
       "      <th>4</th>\n",
       "      <td>-122.25</td>\n",
       "      <td>37.85</td>\n",
       "      <td>52.0</td>\n",
       "      <td>1627.0</td>\n",
       "      <td>280.0</td>\n",
       "      <td>565.0</td>\n",
       "      <td>259.0</td>\n",
       "      <td>3.8462</td>\n",
       "      <td>12.743154</td>\n",
       "      <td>NEAR BAY</td>\n",
       "    </tr>\n",
       "  </tbody>\n",
       "</table>\n",
       "</div>"
      ],
      "text/plain": [
       "   longitude  latitude  housing_median_age  total_rooms  total_bedrooms  \\\n",
       "0    -122.23     37.88                41.0        880.0           129.0   \n",
       "1    -122.22     37.86                21.0       7099.0          1106.0   \n",
       "2    -122.24     37.85                52.0       1467.0           190.0   \n",
       "3    -122.25     37.85                52.0       1274.0           235.0   \n",
       "4    -122.25     37.85                52.0       1627.0           280.0   \n",
       "\n",
       "   population  households  median_income  median_house_value ocean_proximity  \n",
       "0       322.0       126.0         8.3252           13.022766        NEAR BAY  \n",
       "1      2401.0      1138.0         8.3014           12.789687        NEAR BAY  \n",
       "2       496.0       177.0         7.2574           12.771673        NEAR BAY  \n",
       "3       558.0       219.0         5.6431           12.740520        NEAR BAY  \n",
       "4       565.0       259.0         3.8462           12.743154        NEAR BAY  "
      ]
     },
     "execution_count": 7,
     "metadata": {},
     "output_type": "execute_result"
    }
   ],
   "source": [
    "data['median_house_value'] = np.log1p(data.median_house_value)  # applies log transformation to the target variable\n",
    "data.head()"
   ]
  },
  {
   "cell_type": "code",
   "execution_count": 8,
   "id": "9cd8d899-b807-4553-9332-fe9e107fca58",
   "metadata": {},
   "outputs": [
    {
     "data": {
      "text/plain": [
       "(numpy.ndarray, numpy.ndarray, 12384, 12384)"
      ]
     },
     "execution_count": 8,
     "metadata": {},
     "output_type": "execute_result"
    }
   ],
   "source": [
    "# train, val, test split\n",
    "fulltrain_df, test_df = train_test_split(data, test_size=0.2, random_state=1)\n",
    "train_df, val_df = train_test_split(fulltrain_df, test_size=0.25, random_state=1)\n",
    "\n",
    "X_train = train_df.copy()\n",
    "y_train = X_train.pop('median_house_value').values\n",
    "\n",
    "dv = DictVectorizer(sparse=False)  # initialises Dict Vectorizer\n",
    "\n",
    "# converts DataFrame to dictionary and fits Dict Vectorizer\n",
    "X_train = dv.fit_transform(X_train.to_dict(orient='records'))\n",
    "\n",
    "type(X_train), type(y_train), len(y_train), len(train_df)"
   ]
  },
  {
   "cell_type": "markdown",
   "id": "4c12eda4-44f3-4623-889f-2380abc114f9",
   "metadata": {},
   "source": [
    "# Section 2"
   ]
  },
  {
   "cell_type": "code",
   "execution_count": 9,
   "id": "d523e3f7-dc22-4972-8b51-9dc3e01e3007",
   "metadata": {},
   "outputs": [],
   "source": [
    "from tqdm import tqdm\n",
    "\n",
    "from sklearn.tree import DecisionTreeRegressor, export_text\n",
    "from sklearn.ensemble import RandomForestRegressor\n",
    "from sklearn.metrics import mean_squared_error"
   ]
  },
  {
   "cell_type": "markdown",
   "id": "fe97d2bf-7504-4e18-822d-40f5edce7b10",
   "metadata": {},
   "source": [
    "## Question 1\n",
    "\n",
    "Let's train a decision tree regressor to predict the `median_house_value` variable. \n",
    "\n",
    "* Train a model with `max_depth=1`.\n",
    "\n",
    "\n",
    "Which feature is used for splitting the data?"
   ]
  },
  {
   "cell_type": "code",
   "execution_count": 10,
   "id": "d89ea239-1eb5-492e-93e9-d4c6af545498",
   "metadata": {},
   "outputs": [
    {
     "data": {
      "text/html": [
       "<style>#sk-container-id-1 {color: black;}#sk-container-id-1 pre{padding: 0;}#sk-container-id-1 div.sk-toggleable {background-color: white;}#sk-container-id-1 label.sk-toggleable__label {cursor: pointer;display: block;width: 100%;margin-bottom: 0;padding: 0.3em;box-sizing: border-box;text-align: center;}#sk-container-id-1 label.sk-toggleable__label-arrow:before {content: \"▸\";float: left;margin-right: 0.25em;color: #696969;}#sk-container-id-1 label.sk-toggleable__label-arrow:hover:before {color: black;}#sk-container-id-1 div.sk-estimator:hover label.sk-toggleable__label-arrow:before {color: black;}#sk-container-id-1 div.sk-toggleable__content {max-height: 0;max-width: 0;overflow: hidden;text-align: left;background-color: #f0f8ff;}#sk-container-id-1 div.sk-toggleable__content pre {margin: 0.2em;color: black;border-radius: 0.25em;background-color: #f0f8ff;}#sk-container-id-1 input.sk-toggleable__control:checked~div.sk-toggleable__content {max-height: 200px;max-width: 100%;overflow: auto;}#sk-container-id-1 input.sk-toggleable__control:checked~label.sk-toggleable__label-arrow:before {content: \"▾\";}#sk-container-id-1 div.sk-estimator input.sk-toggleable__control:checked~label.sk-toggleable__label {background-color: #d4ebff;}#sk-container-id-1 div.sk-label input.sk-toggleable__control:checked~label.sk-toggleable__label {background-color: #d4ebff;}#sk-container-id-1 input.sk-hidden--visually {border: 0;clip: rect(1px 1px 1px 1px);clip: rect(1px, 1px, 1px, 1px);height: 1px;margin: -1px;overflow: hidden;padding: 0;position: absolute;width: 1px;}#sk-container-id-1 div.sk-estimator {font-family: monospace;background-color: #f0f8ff;border: 1px dotted black;border-radius: 0.25em;box-sizing: border-box;margin-bottom: 0.5em;}#sk-container-id-1 div.sk-estimator:hover {background-color: #d4ebff;}#sk-container-id-1 div.sk-parallel-item::after {content: \"\";width: 100%;border-bottom: 1px solid gray;flex-grow: 1;}#sk-container-id-1 div.sk-label:hover label.sk-toggleable__label {background-color: #d4ebff;}#sk-container-id-1 div.sk-serial::before {content: \"\";position: absolute;border-left: 1px solid gray;box-sizing: border-box;top: 0;bottom: 0;left: 50%;z-index: 0;}#sk-container-id-1 div.sk-serial {display: flex;flex-direction: column;align-items: center;background-color: white;padding-right: 0.2em;padding-left: 0.2em;position: relative;}#sk-container-id-1 div.sk-item {position: relative;z-index: 1;}#sk-container-id-1 div.sk-parallel {display: flex;align-items: stretch;justify-content: center;background-color: white;position: relative;}#sk-container-id-1 div.sk-item::before, #sk-container-id-1 div.sk-parallel-item::before {content: \"\";position: absolute;border-left: 1px solid gray;box-sizing: border-box;top: 0;bottom: 0;left: 50%;z-index: -1;}#sk-container-id-1 div.sk-parallel-item {display: flex;flex-direction: column;z-index: 1;position: relative;background-color: white;}#sk-container-id-1 div.sk-parallel-item:first-child::after {align-self: flex-end;width: 50%;}#sk-container-id-1 div.sk-parallel-item:last-child::after {align-self: flex-start;width: 50%;}#sk-container-id-1 div.sk-parallel-item:only-child::after {width: 0;}#sk-container-id-1 div.sk-dashed-wrapped {border: 1px dashed gray;margin: 0 0.4em 0.5em 0.4em;box-sizing: border-box;padding-bottom: 0.4em;background-color: white;}#sk-container-id-1 div.sk-label label {font-family: monospace;font-weight: bold;display: inline-block;line-height: 1.2em;}#sk-container-id-1 div.sk-label-container {text-align: center;}#sk-container-id-1 div.sk-container {/* jupyter's `normalize.less` sets `[hidden] { display: none; }` but bootstrap.min.css set `[hidden] { display: none !important; }` so we also need the `!important` here to be able to override the default hidden behavior on the sphinx rendered scikit-learn.org. See: https://github.com/scikit-learn/scikit-learn/issues/21755 */display: inline-block !important;position: relative;}#sk-container-id-1 div.sk-text-repr-fallback {display: none;}</style><div id=\"sk-container-id-1\" class=\"sk-top-container\"><div class=\"sk-text-repr-fallback\"><pre>DecisionTreeRegressor(max_depth=1)</pre><b>In a Jupyter environment, please rerun this cell to show the HTML representation or trust the notebook. <br />On GitHub, the HTML representation is unable to render, please try loading this page with nbviewer.org.</b></div><div class=\"sk-container\" hidden><div class=\"sk-item\"><div class=\"sk-estimator sk-toggleable\"><input class=\"sk-toggleable__control sk-hidden--visually\" id=\"sk-estimator-id-1\" type=\"checkbox\" checked><label for=\"sk-estimator-id-1\" class=\"sk-toggleable__label sk-toggleable__label-arrow\">DecisionTreeRegressor</label><div class=\"sk-toggleable__content\"><pre>DecisionTreeRegressor(max_depth=1)</pre></div></div></div></div></div>"
      ],
      "text/plain": [
       "DecisionTreeRegressor(max_depth=1)"
      ]
     },
     "execution_count": 10,
     "metadata": {},
     "output_type": "execute_result"
    }
   ],
   "source": [
    "dtr = DecisionTreeRegressor(max_depth=1)  # initialises a Decision Tree with only one node\n",
    "dtr.fit(X_train, y_train)  # fits the Decision Tree to training data\n",
    "\n",
    "dtr"
   ]
  },
  {
   "cell_type": "code",
   "execution_count": 11,
   "id": "c369cd2f-c0b3-4c0f-a8b9-e3187d72a821",
   "metadata": {},
   "outputs": [
    {
     "data": {
      "text/plain": [
       "[('households', 0.0),\n",
       " ('housing_median_age', 0.0),\n",
       " ('latitude', 0.0),\n",
       " ('longitude', 0.0),\n",
       " ('median_income', 0.0),\n",
       " ('ocean_proximity=<1H OCEAN', 0.0),\n",
       " ('ocean_proximity=INLAND', 1.0),\n",
       " ('ocean_proximity=ISLAND', 0.0),\n",
       " ('ocean_proximity=NEAR BAY', 0.0),\n",
       " ('ocean_proximity=NEAR OCEAN', 0.0),\n",
       " ('population', 0.0),\n",
       " ('total_bedrooms', 0.0),\n",
       " ('total_rooms', 0.0)]"
      ]
     },
     "execution_count": 11,
     "metadata": {},
     "output_type": "execute_result"
    }
   ],
   "source": [
    "[*zip(dv.feature_names_, dtr.feature_importances_)]  # identifies which feature was used to split data"
   ]
  },
  {
   "cell_type": "code",
   "execution_count": 12,
   "id": "1d7c691a-f6e6-48d6-afac-6ac2747cde1a",
   "metadata": {},
   "outputs": [
    {
     "name": "stdout",
     "output_type": "stream",
     "text": [
      "|--- ocean_proximity=INLAND <= 0.50\n",
      "|   |--- value: [12.31]\n",
      "|--- ocean_proximity=INLAND >  0.50\n",
      "|   |--- value: [11.61]\n",
      "\n"
     ]
    }
   ],
   "source": [
    "print(export_text(dtr, feature_names=dv.feature_names_))"
   ]
  },
  {
   "cell_type": "markdown",
   "id": "b3c0d0d1-dc67-474a-85b9-713db2ddacf7",
   "metadata": {},
   "source": [
    "**Answer**: `ocean_proximity=INLAND`"
   ]
  },
  {
   "cell_type": "markdown",
   "id": "19c39715-cb83-4bdb-9717-650765878ad8",
   "metadata": {},
   "source": [
    "## Question 2\n",
    "\n",
    "Train a random forest model with these parameters:\n",
    "\n",
    "* `n_estimators=10`\n",
    "* `random_state=1`\n",
    "* `n_jobs=-1`  (optional - to make training faster)\n",
    "\n",
    "\n",
    "What's the RMSE of this model on validation?"
   ]
  },
  {
   "cell_type": "code",
   "execution_count": 13,
   "id": "a582eae3-d1b9-4b98-8da1-e5ce12c22046",
   "metadata": {},
   "outputs": [
    {
     "data": {
      "text/html": [
       "<style>#sk-container-id-2 {color: black;}#sk-container-id-2 pre{padding: 0;}#sk-container-id-2 div.sk-toggleable {background-color: white;}#sk-container-id-2 label.sk-toggleable__label {cursor: pointer;display: block;width: 100%;margin-bottom: 0;padding: 0.3em;box-sizing: border-box;text-align: center;}#sk-container-id-2 label.sk-toggleable__label-arrow:before {content: \"▸\";float: left;margin-right: 0.25em;color: #696969;}#sk-container-id-2 label.sk-toggleable__label-arrow:hover:before {color: black;}#sk-container-id-2 div.sk-estimator:hover label.sk-toggleable__label-arrow:before {color: black;}#sk-container-id-2 div.sk-toggleable__content {max-height: 0;max-width: 0;overflow: hidden;text-align: left;background-color: #f0f8ff;}#sk-container-id-2 div.sk-toggleable__content pre {margin: 0.2em;color: black;border-radius: 0.25em;background-color: #f0f8ff;}#sk-container-id-2 input.sk-toggleable__control:checked~div.sk-toggleable__content {max-height: 200px;max-width: 100%;overflow: auto;}#sk-container-id-2 input.sk-toggleable__control:checked~label.sk-toggleable__label-arrow:before {content: \"▾\";}#sk-container-id-2 div.sk-estimator input.sk-toggleable__control:checked~label.sk-toggleable__label {background-color: #d4ebff;}#sk-container-id-2 div.sk-label input.sk-toggleable__control:checked~label.sk-toggleable__label {background-color: #d4ebff;}#sk-container-id-2 input.sk-hidden--visually {border: 0;clip: rect(1px 1px 1px 1px);clip: rect(1px, 1px, 1px, 1px);height: 1px;margin: -1px;overflow: hidden;padding: 0;position: absolute;width: 1px;}#sk-container-id-2 div.sk-estimator {font-family: monospace;background-color: #f0f8ff;border: 1px dotted black;border-radius: 0.25em;box-sizing: border-box;margin-bottom: 0.5em;}#sk-container-id-2 div.sk-estimator:hover {background-color: #d4ebff;}#sk-container-id-2 div.sk-parallel-item::after {content: \"\";width: 100%;border-bottom: 1px solid gray;flex-grow: 1;}#sk-container-id-2 div.sk-label:hover label.sk-toggleable__label {background-color: #d4ebff;}#sk-container-id-2 div.sk-serial::before {content: \"\";position: absolute;border-left: 1px solid gray;box-sizing: border-box;top: 0;bottom: 0;left: 50%;z-index: 0;}#sk-container-id-2 div.sk-serial {display: flex;flex-direction: column;align-items: center;background-color: white;padding-right: 0.2em;padding-left: 0.2em;position: relative;}#sk-container-id-2 div.sk-item {position: relative;z-index: 1;}#sk-container-id-2 div.sk-parallel {display: flex;align-items: stretch;justify-content: center;background-color: white;position: relative;}#sk-container-id-2 div.sk-item::before, #sk-container-id-2 div.sk-parallel-item::before {content: \"\";position: absolute;border-left: 1px solid gray;box-sizing: border-box;top: 0;bottom: 0;left: 50%;z-index: -1;}#sk-container-id-2 div.sk-parallel-item {display: flex;flex-direction: column;z-index: 1;position: relative;background-color: white;}#sk-container-id-2 div.sk-parallel-item:first-child::after {align-self: flex-end;width: 50%;}#sk-container-id-2 div.sk-parallel-item:last-child::after {align-self: flex-start;width: 50%;}#sk-container-id-2 div.sk-parallel-item:only-child::after {width: 0;}#sk-container-id-2 div.sk-dashed-wrapped {border: 1px dashed gray;margin: 0 0.4em 0.5em 0.4em;box-sizing: border-box;padding-bottom: 0.4em;background-color: white;}#sk-container-id-2 div.sk-label label {font-family: monospace;font-weight: bold;display: inline-block;line-height: 1.2em;}#sk-container-id-2 div.sk-label-container {text-align: center;}#sk-container-id-2 div.sk-container {/* jupyter's `normalize.less` sets `[hidden] { display: none; }` but bootstrap.min.css set `[hidden] { display: none !important; }` so we also need the `!important` here to be able to override the default hidden behavior on the sphinx rendered scikit-learn.org. See: https://github.com/scikit-learn/scikit-learn/issues/21755 */display: inline-block !important;position: relative;}#sk-container-id-2 div.sk-text-repr-fallback {display: none;}</style><div id=\"sk-container-id-2\" class=\"sk-top-container\"><div class=\"sk-text-repr-fallback\"><pre>RandomForestRegressor(n_estimators=10, n_jobs=-1, random_state=1)</pre><b>In a Jupyter environment, please rerun this cell to show the HTML representation or trust the notebook. <br />On GitHub, the HTML representation is unable to render, please try loading this page with nbviewer.org.</b></div><div class=\"sk-container\" hidden><div class=\"sk-item\"><div class=\"sk-estimator sk-toggleable\"><input class=\"sk-toggleable__control sk-hidden--visually\" id=\"sk-estimator-id-2\" type=\"checkbox\" checked><label for=\"sk-estimator-id-2\" class=\"sk-toggleable__label sk-toggleable__label-arrow\">RandomForestRegressor</label><div class=\"sk-toggleable__content\"><pre>RandomForestRegressor(n_estimators=10, n_jobs=-1, random_state=1)</pre></div></div></div></div></div>"
      ],
      "text/plain": [
       "RandomForestRegressor(n_estimators=10, n_jobs=-1, random_state=1)"
      ]
     },
     "execution_count": 13,
     "metadata": {},
     "output_type": "execute_result"
    }
   ],
   "source": [
    "rfr = RandomForestRegressor(  # initialises random forest with 10 trees\n",
    "    n_estimators=10,\n",
    "    random_state=1,\n",
    "    n_jobs=-1\n",
    ")\n",
    "\n",
    "rfr.fit(X_train, y_train)  # fits random forest model to training data\n",
    "\n",
    "rfr"
   ]
  },
  {
   "cell_type": "code",
   "execution_count": 14,
   "id": "b2a7bcb9-20e4-420b-bf67-572f1c2759ca",
   "metadata": {},
   "outputs": [
    {
     "data": {
      "text/plain": [
       "(4128, 4128, numpy.ndarray)"
      ]
     },
     "execution_count": 14,
     "metadata": {},
     "output_type": "execute_result"
    }
   ],
   "source": [
    "# prepares validation data\n",
    "\n",
    "X_val = val_df.copy()\n",
    "y_val = X_val.pop('median_house_value').values\n",
    "X_val = dv.transform(X_val.to_dict(orient='records'))\n",
    "\n",
    "len(X_val), len(val_df), type(X_val)"
   ]
  },
  {
   "cell_type": "code",
   "execution_count": 15,
   "id": "72b247e8-87a9-4dad-8209-8c0015b59ec9",
   "metadata": {},
   "outputs": [
    {
     "data": {
      "text/plain": [
       "0.2457383433183843"
      ]
     },
     "execution_count": 15,
     "metadata": {},
     "output_type": "execute_result"
    }
   ],
   "source": [
    "y_pred = rfr.predict(X_val)  # makes predictions with trained random forest model\n",
    "rmse = mean_squared_error(y_val, y_pred, squared=False)  # computes RMSE based on true and predicted y values\n",
    "\n",
    "rmse"
   ]
  },
  {
   "cell_type": "markdown",
   "id": "fdb6bced-0fe2-464e-a84c-bfdd0d3ea42b",
   "metadata": {},
   "source": [
    "**Answer**: 0.25"
   ]
  },
  {
   "cell_type": "markdown",
   "id": "896c0f3e-49ee-430d-b439-0fa1f656da47",
   "metadata": {},
   "source": [
    "## Question 3\n",
    "\n",
    "Now let's experiment with the `n_estimators` parameter\n",
    "\n",
    "* Try different values of this parameter from 10 to 200 with step 10.\n",
    "* Set `random_state` to `1`.\n",
    "* Evaluate the model on the validation dataset.\n",
    "\n",
    "\n",
    "After which value of `n_estimators` does RMSE stop improving?"
   ]
  },
  {
   "cell_type": "code",
   "execution_count": 16,
   "id": "0abb2850-d453-4b06-9141-78c049edd1e8",
   "metadata": {},
   "outputs": [
    {
     "name": "stderr",
     "output_type": "stream",
     "text": [
      "100%|███████████████████████████████████████████████████████████████████████████████████████████████| 20/20 [00:46<00:00,  2.32s/it]\n"
     ]
    }
   ],
   "source": [
    "n_estim = np.arange(10, 201, 10)\n",
    "rmse_scores = []\n",
    "\n",
    "for n in tqdm(n_estim):\n",
    "    rfr_ = RandomForestRegressor(\n",
    "        n_estimators=n,\n",
    "        random_state=1,\n",
    "        n_jobs=-1\n",
    "    )\n",
    "    \n",
    "    rfr_.fit(X_train, y_train)\n",
    "\n",
    "    y_pred_ = rfr_.predict(X_val)\n",
    "\n",
    "    rmse_ = mean_squared_error(y_val, y_pred_, squared=False)\n",
    "    rmse_scores.append(rmse_)\n"
   ]
  },
  {
   "cell_type": "code",
   "execution_count": 17,
   "id": "e82d5e47-3410-4cfd-8a53-d45be54a6bdb",
   "metadata": {},
   "outputs": [
    {
     "data": {
      "image/png": "[encoded data removed]",
      "text/plain": [
       "<Figure size 600x400 with 1 Axes>"
      ]
     },
     "metadata": {},
     "output_type": "display_data"
    }
   ],
   "source": [
    "fig, ax = plt.subplots(figsize=(6, 4))\n",
    "\n",
    "ax.plot(n_estim, rmse_scores)  # plots response in RMSE to change in # of estimators\n",
    "\n",
    "ax.set_xlim(0, 210)\n",
    "ax.set_xlabel('# of estimators in Random Forest Model')\n",
    "ax.set_ylabel('Prediction Error (RMSE)')\n",
    "plt.show()"
   ]
  },
  {
   "cell_type": "markdown",
   "id": "3f62c7a0-9df6-4c62-92d7-3b481829be36",
   "metadata": {},
   "source": [
    "**Answer**: 70"
   ]
  },
  {
   "cell_type": "markdown",
   "id": "3d355841-6216-4d6a-838a-61bc08c17513",
   "metadata": {},
   "source": [
    "## Question 4\n",
    "\n",
    "Let's select the best `max_depth`:\n",
    "\n",
    "* Try different values of `max_depth`: `[10, 15, 20, 25]`\n",
    "* For each of these values, try different values of `n_estimators` from 10 till 200 (with step 10)\n",
    "* Fix the random seed: `random_state=1`\n",
    "\n",
    "\n",
    "What's the best `max_depth`?"
   ]
  },
  {
   "cell_type": "code",
   "execution_count": 18,
   "id": "e8a7e8d1-7ef5-41bf-9887-a8bb3c764e31",
   "metadata": {},
   "outputs": [
    {
     "name": "stderr",
     "output_type": "stream",
     "text": [
      "100%|█████████████████████████████████████████████████████████████████████████████████████████████████| 4/4 [02:31<00:00, 37.86s/it]\n"
     ]
    }
   ],
   "source": [
    "n_estim = np.arange(10, 201, 10)\n",
    "depths = [10, 15, 20, 25]\n",
    "rmse_scores = []\n",
    "\n",
    "for d in tqdm(depths):\n",
    "    for n in n_estim:\n",
    "        rfr_ = RandomForestRegressor(  # initialises random forest\n",
    "            max_depth=d,\n",
    "            n_estimators=n,\n",
    "            random_state=1,\n",
    "            n_jobs=-1\n",
    "        )\n",
    "        \n",
    "        rfr_.fit(X_train, y_train)\n",
    "    \n",
    "        y_pred_ = rfr_.predict(X_val)\n",
    "        rmse_ = mean_squared_error(y_val, y_pred_, squared=False)\n",
    "        \n",
    "        rmse_scores.append(dict(  # appends a dictionary to track relevant information\n",
    "            depth = rfr_.max_depth,\n",
    "            n_est = rfr_.n_estimators,\n",
    "            rmse = rmse_\n",
    "        ))\n"
   ]
  },
  {
   "cell_type": "code",
   "execution_count": 19,
   "id": "13814034-9787-4ce2-93ad-9d2b4bb6d0aa",
   "metadata": {},
   "outputs": [
    {
     "data": {
      "text/html": [
       "<div>\n",
       "<style scoped>\n",
       "    .dataframe tbody tr th:only-of-type {\n",
       "        vertical-align: middle;\n",
       "    }\n",
       "\n",
       "    .dataframe tbody tr th {\n",
       "        vertical-align: top;\n",
       "    }\n",
       "\n",
       "    .dataframe thead th {\n",
       "        text-align: right;\n",
       "    }\n",
       "</style>\n",
       "<table border=\"1\" class=\"dataframe\">\n",
       "  <thead>\n",
       "    <tr style=\"text-align: right;\">\n",
       "      <th></th>\n",
       "      <th>depth</th>\n",
       "      <th>n_est</th>\n",
       "      <th>rmse</th>\n",
       "    </tr>\n",
       "  </thead>\n",
       "  <tbody>\n",
       "    <tr>\n",
       "      <th>70</th>\n",
       "      <td>25</td>\n",
       "      <td>110</td>\n",
       "      <td>0.231255</td>\n",
       "    </tr>\n",
       "    <tr>\n",
       "      <th>71</th>\n",
       "      <td>25</td>\n",
       "      <td>120</td>\n",
       "      <td>0.231297</td>\n",
       "    </tr>\n",
       "    <tr>\n",
       "      <th>76</th>\n",
       "      <td>25</td>\n",
       "      <td>170</td>\n",
       "      <td>0.231440</td>\n",
       "    </tr>\n",
       "    <tr>\n",
       "      <th>73</th>\n",
       "      <td>25</td>\n",
       "      <td>140</td>\n",
       "      <td>0.231458</td>\n",
       "    </tr>\n",
       "    <tr>\n",
       "      <th>75</th>\n",
       "      <td>25</td>\n",
       "      <td>160</td>\n",
       "      <td>0.231484</td>\n",
       "    </tr>\n",
       "  </tbody>\n",
       "</table>\n",
       "</div>"
      ],
      "text/plain": [
       "    depth  n_est      rmse\n",
       "70     25    110  0.231255\n",
       "71     25    120  0.231297\n",
       "76     25    170  0.231440\n",
       "73     25    140  0.231458\n",
       "75     25    160  0.231484"
      ]
     },
     "execution_count": 19,
     "metadata": {},
     "output_type": "execute_result"
    }
   ],
   "source": [
    "rmse_df = pd.DataFrame(rmse_scores)\n",
    "rmse_df.sort_values('rmse').head()"
   ]
  },
  {
   "cell_type": "markdown",
   "id": "b34d37b7-ea25-4600-b24e-8d1f70d6097c",
   "metadata": {},
   "source": [
    "**Answer**: 25"
   ]
  },
  {
   "cell_type": "markdown",
   "id": "f04acebf-fbcb-466b-990f-b0ad6310fd83",
   "metadata": {},
   "source": [
    "## Question 5\n",
    "\n",
    "We can extract feature importance information from tree-based models. \n",
    "\n",
    "At each step of the decision tree learning algorithm, it finds the best split. \n",
    "When doing it, we can calculate \"gain\" - the reduction in impurity before and after the split. \n",
    "This gain is quite useful in understanding what are the imporatant features \n",
    "for tree-based models.\n",
    "\n",
    "In Scikit-Learn, tree-based models contain this information in the\n",
    "[`feature_importances_`](https://scikit-learn.org/stable/modules/generated/sklearn.ensemble.RandomForestRegressor.html#sklearn.ensemble.RandomForestRegressor.feature_importances_)\n",
    "field. \n",
    "\n",
    "For this homework question, we'll find the most important feature:\n",
    "\n",
    "* Train the model with these parametes:\n",
    "    * `n_estimators=10`,\n",
    "    * `max_depth=20`,\n",
    "    * `random_state=1`,\n",
    "    * `n_jobs=-1` (optional)\n",
    "* Get the feature importance information from this model\n",
    "\n",
    "\n",
    "What's the most important feature? "
   ]
  },
  {
   "cell_type": "code",
   "execution_count": 20,
   "id": "8c2a0aa0-56fe-4e92-981d-f82677c420ee",
   "metadata": {},
   "outputs": [
    {
     "data": {
      "text/plain": [
       "'median_income'"
      ]
     },
     "execution_count": 20,
     "metadata": {},
     "output_type": "execute_result"
    }
   ],
   "source": [
    "rfr = RandomForestRegressor(\n",
    "    n_estimators=10,\n",
    "    max_depth=20,\n",
    "    random_state=1,\n",
    "    n_jobs=-1,\n",
    ")\n",
    "\n",
    "rfr.fit(X_train, y_train)\n",
    "\n",
    "# identifies the most important feature by finding the position where \n",
    "# the random forest model's feature_importances_ attribute is maximum\n",
    "dv.feature_names_[np.argmax(rfr.feature_importances_)]\n"
   ]
  },
  {
   "cell_type": "markdown",
   "id": "bc73e15b-8a60-437f-84e8-76581bebd5c0",
   "metadata": {},
   "source": [
    "**Answer**: `median_income`"
   ]
  },
  {
   "cell_type": "markdown",
   "id": "d30d9495-f596-4298-8373-8980f47162bc",
   "metadata": {},
   "source": [
    "# Section 3"
   ]
  },
  {
   "cell_type": "code",
   "execution_count": 21,
   "id": "8bd37ada-4ae3-484f-9c0b-04bab02a3118",
   "metadata": {},
   "outputs": [],
   "source": [
    "import xgboost as xgb"
   ]
  },
  {
   "cell_type": "markdown",
   "id": "18a80261-07de-42d9-aee1-f53e30dfb5f5",
   "metadata": {},
   "source": [
    "## Question 6\n",
    "\n",
    "Now let's train an XGBoost model! For this question, we'll tune the `eta` parameter:\n",
    "\n",
    "* Install XGBoost\n",
    "* Create DMatrix for train and validation\n",
    "* Create a watchlist\n",
    "* Train a model with these parameters for 100 rounds:\n",
    "\n",
    "```python\n",
    "xgb_params = {\n",
    "    'eta': 0.3, \n",
    "    'max_depth': 6,\n",
    "    'min_child_weight': 1,\n",
    "    \n",
    "    'objective': 'reg:squarederror',\n",
    "    'nthread': 8,\n",
    "    \n",
    "    'seed': 1,\n",
    "    'verbosity': 1,\n",
    "}\n",
    "```\n",
    "\n",
    "Now change `eta` from `0.3` to `0.1`.\n",
    "\n",
    "Which eta leads to the best RMSE score on the validation dataset?"
   ]
  },
  {
   "cell_type": "code",
   "execution_count": 22,
   "id": "13b69ce9-8d29-4609-9e50-defce4fc63f2",
   "metadata": {},
   "outputs": [],
   "source": [
    "Dtrain = xgb.DMatrix(X_train, y_train)\n",
    "Dval = xgb.DMatrix(X_val, y_val)\n",
    "\n",
    "evallist = [(Dtrain, 'train'), (Dval, 'eval')]  # specifies evaluation sets to watch performance\n",
    "\n",
    "xgb_params = {\n",
    "    'eta': 0.1,  # learning rate\n",
    "    'max_depth': 6,\n",
    "    'min_child_weight': 1,\n",
    "    \n",
    "    'objective': 'reg:squarederror',  # for regression, uses RMSE\n",
    "    'nthread': 8,\n",
    "    \n",
    "    'seed': 1,\n",
    "    'verbosity': 1,\n",
    "}\n"
   ]
  },
  {
   "cell_type": "code",
   "execution_count": 23,
   "id": "c24e39d9-cdfe-4275-aa2a-c89cef366311",
   "metadata": {
    "scrolled": true
   },
   "outputs": [
    {
     "name": "stdout",
     "output_type": "stream",
     "text": [
      "[0]\ttrain-rmse:10.44372\teval-rmse:10.44933\n",
      "[1]\ttrain-rmse:9.40118\teval-rmse:9.40680\n",
      "[2]\ttrain-rmse:8.46290\teval-rmse:8.46827\n",
      "[3]\ttrain-rmse:7.61859\teval-rmse:7.62387\n",
      "[4]\ttrain-rmse:6.85878\teval-rmse:6.86363\n",
      "[5]\ttrain-rmse:6.17513\teval-rmse:6.17983\n",
      "[6]\ttrain-rmse:5.55994\teval-rmse:5.56433\n",
      "[7]\ttrain-rmse:5.00643\teval-rmse:5.01057\n",
      "[8]\ttrain-rmse:4.50846\teval-rmse:4.51254\n",
      "[9]\ttrain-rmse:4.06043\teval-rmse:4.06448\n",
      "[10]\ttrain-rmse:3.65741\teval-rmse:3.66123\n",
      "[11]\ttrain-rmse:3.29493\teval-rmse:3.29883\n",
      "[12]\ttrain-rmse:2.96895\teval-rmse:2.97269\n",
      "[13]\ttrain-rmse:2.67551\teval-rmse:2.67951\n",
      "[14]\ttrain-rmse:2.41179\teval-rmse:2.41589\n",
      "[15]\ttrain-rmse:2.17479\teval-rmse:2.17906\n",
      "[16]\ttrain-rmse:1.96172\teval-rmse:1.96607\n",
      "[17]\ttrain-rmse:1.77047\teval-rmse:1.77480\n",
      "[18]\ttrain-rmse:1.59855\teval-rmse:1.60301\n",
      "[19]\ttrain-rmse:1.44410\teval-rmse:1.44871\n",
      "[20]\ttrain-rmse:1.30574\teval-rmse:1.31081\n",
      "[21]\ttrain-rmse:1.18161\teval-rmse:1.18708\n",
      "[22]\ttrain-rmse:1.06939\teval-rmse:1.07513\n",
      "[23]\ttrain-rmse:0.96920\teval-rmse:0.97506\n",
      "[24]\ttrain-rmse:0.87996\teval-rmse:0.88639\n",
      "[25]\ttrain-rmse:0.79939\teval-rmse:0.80624\n",
      "[26]\ttrain-rmse:0.72804\teval-rmse:0.73540\n",
      "[27]\ttrain-rmse:0.66460\teval-rmse:0.67243\n",
      "[28]\ttrain-rmse:0.60794\teval-rmse:0.61649\n",
      "[29]\ttrain-rmse:0.55767\teval-rmse:0.56715\n",
      "[30]\ttrain-rmse:0.51249\teval-rmse:0.52261\n",
      "[31]\ttrain-rmse:0.47337\teval-rmse:0.48419\n",
      "[32]\ttrain-rmse:0.43850\teval-rmse:0.45012\n",
      "[33]\ttrain-rmse:0.40812\teval-rmse:0.42074\n",
      "[34]\ttrain-rmse:0.38173\teval-rmse:0.39536\n",
      "[35]\ttrain-rmse:0.35885\teval-rmse:0.37335\n",
      "[36]\ttrain-rmse:0.33852\teval-rmse:0.35428\n",
      "[37]\ttrain-rmse:0.32126\teval-rmse:0.33792\n",
      "[38]\ttrain-rmse:0.30639\teval-rmse:0.32396\n",
      "[39]\ttrain-rmse:0.29320\teval-rmse:0.31200\n",
      "[40]\ttrain-rmse:0.28201\teval-rmse:0.30159\n",
      "[41]\ttrain-rmse:0.27234\teval-rmse:0.29297\n",
      "[42]\ttrain-rmse:0.26415\teval-rmse:0.28553\n",
      "[43]\ttrain-rmse:0.25605\teval-rmse:0.27826\n",
      "[44]\ttrain-rmse:0.24995\teval-rmse:0.27319\n",
      "[45]\ttrain-rmse:0.24486\teval-rmse:0.26854\n",
      "[46]\ttrain-rmse:0.23960\teval-rmse:0.26394\n",
      "[47]\ttrain-rmse:0.23550\teval-rmse:0.26067\n",
      "[48]\ttrain-rmse:0.23146\teval-rmse:0.25713\n",
      "[49]\ttrain-rmse:0.22851\teval-rmse:0.25497\n",
      "[50]\ttrain-rmse:0.22535\teval-rmse:0.25235\n",
      "[51]\ttrain-rmse:0.22291\teval-rmse:0.25050\n",
      "[52]\ttrain-rmse:0.22122\teval-rmse:0.24909\n",
      "[53]\ttrain-rmse:0.21977\teval-rmse:0.24787\n",
      "[54]\ttrain-rmse:0.21802\teval-rmse:0.24662\n",
      "[55]\ttrain-rmse:0.21664\teval-rmse:0.24551\n",
      "[56]\ttrain-rmse:0.21514\teval-rmse:0.24467\n",
      "[57]\ttrain-rmse:0.21428\teval-rmse:0.24396\n",
      "[58]\ttrain-rmse:0.21285\teval-rmse:0.24313\n",
      "[59]\ttrain-rmse:0.21140\teval-rmse:0.24231\n",
      "[60]\ttrain-rmse:0.21024\teval-rmse:0.24172\n",
      "[61]\ttrain-rmse:0.20965\teval-rmse:0.24148\n",
      "[62]\ttrain-rmse:0.20899\teval-rmse:0.24096\n",
      "[63]\ttrain-rmse:0.20744\teval-rmse:0.23992\n",
      "[64]\ttrain-rmse:0.20650\teval-rmse:0.23949\n",
      "[65]\ttrain-rmse:0.20516\teval-rmse:0.23854\n",
      "[66]\ttrain-rmse:0.20478\teval-rmse:0.23845\n",
      "[67]\ttrain-rmse:0.20423\teval-rmse:0.23825\n",
      "[68]\ttrain-rmse:0.20293\teval-rmse:0.23736\n",
      "[69]\ttrain-rmse:0.20263\teval-rmse:0.23731\n",
      "[70]\ttrain-rmse:0.20159\teval-rmse:0.23698\n",
      "[71]\ttrain-rmse:0.20045\teval-rmse:0.23614\n",
      "[72]\ttrain-rmse:0.19941\teval-rmse:0.23588\n",
      "[73]\ttrain-rmse:0.19874\teval-rmse:0.23559\n",
      "[74]\ttrain-rmse:0.19818\teval-rmse:0.23534\n",
      "[75]\ttrain-rmse:0.19740\teval-rmse:0.23525\n",
      "[76]\ttrain-rmse:0.19666\teval-rmse:0.23492\n",
      "[77]\ttrain-rmse:0.19598\teval-rmse:0.23470\n",
      "[78]\ttrain-rmse:0.19569\teval-rmse:0.23454\n",
      "[79]\ttrain-rmse:0.19535\teval-rmse:0.23456\n",
      "[80]\ttrain-rmse:0.19449\teval-rmse:0.23428\n",
      "[81]\ttrain-rmse:0.19401\teval-rmse:0.23407\n",
      "[82]\ttrain-rmse:0.19325\teval-rmse:0.23378\n",
      "[83]\ttrain-rmse:0.19298\teval-rmse:0.23361\n",
      "[84]\ttrain-rmse:0.19215\teval-rmse:0.23360\n",
      "[85]\ttrain-rmse:0.19161\teval-rmse:0.23328\n",
      "[86]\ttrain-rmse:0.19104\teval-rmse:0.23310\n",
      "[87]\ttrain-rmse:0.19053\teval-rmse:0.23291\n",
      "[88]\ttrain-rmse:0.18993\teval-rmse:0.23260\n",
      "[89]\ttrain-rmse:0.18931\teval-rmse:0.23239\n",
      "[90]\ttrain-rmse:0.18884\teval-rmse:0.23234\n",
      "[91]\ttrain-rmse:0.18813\teval-rmse:0.23207\n",
      "[92]\ttrain-rmse:0.18765\teval-rmse:0.23184\n",
      "[93]\ttrain-rmse:0.18676\teval-rmse:0.23129\n",
      "[94]\ttrain-rmse:0.18611\teval-rmse:0.23120\n",
      "[95]\ttrain-rmse:0.18570\teval-rmse:0.23091\n",
      "[96]\ttrain-rmse:0.18520\teval-rmse:0.23067\n",
      "[97]\ttrain-rmse:0.18477\teval-rmse:0.23050\n",
      "[98]\ttrain-rmse:0.18448\teval-rmse:0.23056\n",
      "[99]\ttrain-rmse:0.18367\teval-rmse:0.23027\n"
     ]
    }
   ],
   "source": [
    "num_round = 100\n",
    "bst = xgb.train(xgb_params, Dtrain, num_round, evals=evallist)"
   ]
  },
  {
   "cell_type": "markdown",
   "id": "bc047b1c-9580-445e-85e7-40fed9fd4038",
   "metadata": {},
   "source": [
    "Validation RMSE, with `eta = 0.3` = 0.23  \n",
    "Validation RMSE, with `eta = 0.1` = 0.23"
   ]
  },
  {
   "cell_type": "markdown",
   "id": "3622be29-b110-4531-aced-fa06ed046e5d",
   "metadata": {},
   "source": [
    "**Answer**: Both lead to same"
   ]
  },
  {
   "cell_type": "code",
   "execution_count": null,
   "id": "90cf7e30-801b-4bd3-82d4-f71c9fe9f686",
   "metadata": {},
   "outputs": [],
   "source": []
  }
 ],
 "metadata": {
  "kernelspec": {
   "display_name": "Python 3 (ipykernel)",
   "language": "python",
   "name": "python3"
  },
  "language_info": {
   "codemirror_mode": {
    "name": "ipython",
    "version": 3
   },
   "file_extension": ".py",
   "mimetype": "text/x-python",
   "name": "python",
   "nbconvert_exporter": "python",
   "pygments_lexer": "ipython3",
   "version": "3.10.11"
  }
 },
 "nbformat": 4,
 "nbformat_minor": 5
}
