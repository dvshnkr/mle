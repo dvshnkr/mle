{
 "cells": [
  {
   "cell_type": "markdown",
   "id": "c16b8a35-964e-49e5-b214-f2fef049d75b",
   "metadata": {},
   "source": [
    "Solving questions from: [2022 hw - week 9](https://github.com/DataTalksClub/machine-learning-zoomcamp/blob/master/cohorts/2022/09-serverless/homework.md)"
   ]
  },
  {
   "cell_type": "markdown",
   "id": "5a1399fb-c596-4e24-969e-1dc35157a3e9",
   "metadata": {},
   "source": [
    "# Section 1\n",
    "\n",
    "In this homework, we'll deploy the dino or dragon model we trained in the \n",
    "[previous homework](https://github.com/alexeygrigorev/mlbookcamp-code/blob/master/course-zoomcamp/cohorts/2022/08-deep-learning/homework.md).\n",
    "\n",
    "Download the model from here: \n",
    "\n",
    "https://github.com/SVizor42/ML_Zoomcamp/releases/download/dino-dragon-model/dino_dragon_10_0.899.h5\n"
   ]
  },
  {
   "cell_type": "code",
   "execution_count": 1,
   "id": "8e1d42dc-f073-4871-9bfb-a6fa66c9f22f",
   "metadata": {},
   "outputs": [],
   "source": [
    "! mkdir models"
   ]
  },
  {
   "cell_type": "code",
   "execution_count": 2,
   "id": "bcca7971-571e-49e9-8a28-b1ebbceda403",
   "metadata": {},
   "outputs": [],
   "source": [
    "import requests\n",
    "\n",
    "url = 'https://github.com/SVizor42/ML_Zoomcamp/releases/download/dino-dragon-model/dino_dragon_10_0.899.h5'\n",
    "response = requests.get(url)\n",
    "\n",
    "if response.status_code == 200:\n",
    "    with open('models/dino_dragon_10_0.899.h5', 'wb') as f:\n",
    "        f.write(response.content)\n"
   ]
  },
  {
   "cell_type": "markdown",
   "id": "13a09ea2-e7dc-49f7-a4b2-c0ef89a1cc50",
   "metadata": {},
   "source": [
    "# Section 2\n"
   ]
  },
  {
   "cell_type": "code",
   "execution_count": 3,
   "id": "8ab9a4b5-2e28-44a9-a337-361421bc8ac3",
   "metadata": {},
   "outputs": [],
   "source": [
    "import tensorflow as tf"
   ]
  },
  {
   "cell_type": "markdown",
   "id": "f6d262d4-b02e-41ac-93e0-9ec0ca18a762",
   "metadata": {},
   "source": [
    "## Question 1\n",
    "\n",
    "Now convert this model from Keras to TF-Lite format.\n",
    "\n",
    "What's the size of the **converted** model?"
   ]
  },
  {
   "cell_type": "code",
   "execution_count": 5,
   "id": "9be540b0-c317-49ec-8d60-6a69979f420d",
   "metadata": {},
   "outputs": [
    {
     "name": "stdout",
     "output_type": "stream",
     "text": [
      "INFO:tensorflow:Assets written to: C:\\Users\\devsn\\AppData\\Local\\Temp\\tmpydih2m_l\\assets\n"
     ]
    },
    {
     "name": "stderr",
     "output_type": "stream",
     "text": [
      "INFO:tensorflow:Assets written to: C:\\Users\\devsn\\AppData\\Local\\Temp\\tmpydih2m_l\\assets\n"
     ]
    }
   ],
   "source": [
    "# loads model\n",
    "model = tf.keras.models.load_model('models/dino_dragon_10_0.899.h5')\n",
    "\n",
    "# converts model to tflite\n",
    "converter = tf.lite.TFLiteConverter.from_keras_model(model)\n",
    "tflite_model = converter.convert()\n",
    "\n",
    "# saves model\n",
    "with open('models/dino_dragon_10_0.899.tflite', 'wb') as f:\n",
    "    f.write(tflite_model)\n"
   ]
  },
  {
   "cell_type": "code",
   "execution_count": 6,
   "id": "b6168f01-bcd7-4232-8da0-1e31b9a588e7",
   "metadata": {},
   "outputs": [
    {
     "name": "stdout",
     "output_type": "stream",
     "text": [
      " Volume in drive C is OS\n",
      " Volume Serial Number is 34C9-4CBD\n",
      "\n",
      " Directory of C:\\Users\\devsn\\Desktop\\courses\\ML-Zoomcamp\\mle\\notebooks\\2022-hw\\models\n",
      "\n",
      "15-09-2023  02:00    <DIR>          .\n",
      "15-09-2023  02:00    <DIR>          ..\n",
      "15-09-2023  01:42        89,759,168 dino_dragon_10_0.899.h5\n",
      "15-09-2023  02:00        44,866,200 dino_dragon_10_0.899.tflite\n",
      "               2 File(s)    134,625,368 bytes\n",
      "               2 Dir(s)  169,039,122,432 bytes free\n"
     ]
    }
   ],
   "source": [
    "! dir models"
   ]
  },
  {
   "cell_type": "markdown",
   "id": "7e4ede99-678d-4581-b0af-4078a6079875",
   "metadata": {},
   "source": [
    "**Answer**: 43 MB"
   ]
  },
  {
   "cell_type": "markdown",
   "id": "290caf3a-d580-44d8-b98b-ad91045e015d",
   "metadata": {},
   "source": [
    "## Question 2\n",
    "\n",
    "To be able to use this model, we need to know the index of the input and \n",
    "the index of the output. \n",
    "\n",
    "What's the output index for this model?"
   ]
  },
  {
   "cell_type": "code",
   "execution_count": 8,
   "id": "2da37ce6-6717-4d6d-845e-65564f9557a9",
   "metadata": {},
   "outputs": [
    {
     "data": {
      "text/plain": [
       "[{'name': 'StatefulPartitionedCall:0',\n",
       "  'index': 13,\n",
       "  'shape': array([1, 1]),\n",
       "  'shape_signature': array([-1,  1]),\n",
       "  'dtype': numpy.float32,\n",
       "  'quantization': (0.0, 0),\n",
       "  'quantization_parameters': {'scales': array([], dtype=float32),\n",
       "   'zero_points': array([], dtype=int32),\n",
       "   'quantized_dimension': 0},\n",
       "  'sparsity_parameters': {}}]"
      ]
     },
     "execution_count": 8,
     "metadata": {},
     "output_type": "execute_result"
    }
   ],
   "source": [
    "interpreter = tf.lite.Interpreter(model_path='models/dino_dragon_10_0.899.tflite')\n",
    "interpreter.allocate_tensors()\n",
    "\n",
    "interpreter.get_output_details()"
   ]
  },
  {
   "cell_type": "markdown",
   "id": "2a9bdf25-3db0-44f3-9e26-1dc58b48be50",
   "metadata": {},
   "source": [
    "**Answer**: 13"
   ]
  },
  {
   "cell_type": "markdown",
   "id": "f4e5b977-821a-4ab2-909f-a5969816d023",
   "metadata": {},
   "source": [
    "# Section 3\n",
    "\n",
    "Preparing the image"
   ]
  },
  {
   "cell_type": "code",
   "execution_count": 12,
   "id": "f9c73c6f-4e55-48cc-8643-e3f456ea98fa",
   "metadata": {},
   "outputs": [],
   "source": [
    "import numpy as np"
   ]
  },
  {
   "cell_type": "code",
   "execution_count": 9,
   "id": "0091e500-65fa-4c4f-a1c9-fd7782053124",
   "metadata": {},
   "outputs": [],
   "source": [
    "from io import BytesIO\n",
    "from urllib import request\n",
    "\n",
    "from PIL import Image\n",
    "\n",
    "def download_image(url):\n",
    "    with request.urlopen(url) as resp:\n",
    "        buffer = resp.read()\n",
    "    stream = BytesIO(buffer)\n",
    "    img = Image.open(stream)\n",
    "    return img\n",
    "\n",
    "\n",
    "def prepare_image(img, target_size):\n",
    "    if img.mode != 'RGB':\n",
    "        img = img.convert('RGB')\n",
    "    img = img.resize(target_size, Image.NEAREST)\n",
    "    return img"
   ]
  },
  {
   "cell_type": "markdown",
   "id": "3eac365d-33f6-4322-91c0-5ae41b168fa3",
   "metadata": {},
   "source": [
    "Let's download and resize this image: \n",
    "\n",
    "https://upload.wikimedia.org/wikipedia/commons/thumb/d/df/Smaug_par_David_Demaret.jpg/1280px-Smaug_par_David_Demaret.jpg\n",
    "\n",
    "Based on the previous homework, what should be the target size for the image?"
   ]
  },
  {
   "cell_type": "markdown",
   "id": "711dd78d-eaf7-460d-a59e-735cd44c8aa7",
   "metadata": {},
   "source": [
    "*Answer*: (150, 150)"
   ]
  },
  {
   "cell_type": "markdown",
   "id": "dcd2b87a-da2e-4c9c-b510-a6e40e6a0f1f",
   "metadata": {},
   "source": [
    "## Question 3\n",
    "\n",
    "Now we need to turn the image into numpy array and pre-process it.\n",
    "> Tip: Check the previous homework. What was the pre-processing \n",
    "> we did there?\n",
    "\n",
    "After the pre-processing, what's the value in the first pixel, the R channel?"
   ]
  },
  {
   "cell_type": "code",
   "execution_count": 11,
   "id": "bfb0705a-724a-4e37-a6fb-c2d7de7eea14",
   "metadata": {},
   "outputs": [
    {
     "data": {
      "text/plain": [
       "PIL.Image.Image"
      ]
     },
     "execution_count": 11,
     "metadata": {},
     "output_type": "execute_result"
    }
   ],
   "source": [
    "img_url = 'https://upload.wikimedia.org/wikipedia/commons/thumb/d/df/Smaug_par_David_Demaret.jpg/1280px-Smaug_par_David_Demaret.jpg'\n",
    "target_size = (150, 150)\n",
    "\n",
    "raw_img = download_image(img_url)\n",
    "prepared_img = prepare_image(raw_img, target_size)\n",
    "\n",
    "type(prepared_img)"
   ]
  },
  {
   "cell_type": "code",
   "execution_count": 15,
   "id": "3c6cf60a-fbe8-4238-9a97-1961d9efb47f",
   "metadata": {},
   "outputs": [
    {
     "data": {
      "text/plain": [
       "(150, 150, 3)"
      ]
     },
     "execution_count": 15,
     "metadata": {},
     "output_type": "execute_result"
    }
   ],
   "source": [
    "# preprocesses image by dividing by 255\n",
    "pix = np.array(prepared_img) / 255.\n",
    "\n",
    "pix.shape"
   ]
  },
  {
   "cell_type": "code",
   "execution_count": 16,
   "id": "d715f2e9-a8db-4abf-8e1b-6cea8ea1f7be",
   "metadata": {},
   "outputs": [
    {
     "data": {
      "text/plain": [
       "0.5529411764705883"
      ]
     },
     "execution_count": 16,
     "metadata": {},
     "output_type": "execute_result"
    }
   ],
   "source": [
    "# returns first element of flattened array\n",
    "np.ravel(pix)[0]"
   ]
  },
  {
   "cell_type": "markdown",
   "id": "3ad4b053-8789-4da1-9be7-7d120a51c983",
   "metadata": {},
   "source": [
    "**Answer**: 0.5529412"
   ]
  },
  {
   "cell_type": "markdown",
   "id": "9f54e66a-5860-4368-8d8d-0e736c1ff32b",
   "metadata": {},
   "source": [
    "## Question 4\n",
    "\n",
    "Now let's apply this model to this image. What's the output of the model?"
   ]
  },
  {
   "cell_type": "code",
   "execution_count": 28,
   "id": "c05139ff-6678-4e2a-8348-4b0c3042b907",
   "metadata": {},
   "outputs": [
    {
     "data": {
      "text/plain": [
       "(1, 150, 150, 3)"
      ]
     },
     "execution_count": 28,
     "metadata": {},
     "output_type": "execute_result"
    }
   ],
   "source": [
    "input_index = interpreter.get_input_details()[0]['index']\n",
    "output_index = interpreter.get_output_details()[0]['index']\n",
    "\n",
    "X = pix.astype(np.single)\n",
    "X = np.array([X])\n",
    "X.shape"
   ]
  },
  {
   "cell_type": "code",
   "execution_count": 26,
   "id": "0cb6a3ff-1fa9-463d-a495-d9e90119b8cb",
   "metadata": {},
   "outputs": [
    {
     "data": {
      "text/plain": [
       "(0, 13)"
      ]
     },
     "execution_count": 26,
     "metadata": {},
     "output_type": "execute_result"
    }
   ],
   "source": [
    "input_index, output_index"
   ]
  },
  {
   "cell_type": "code",
   "execution_count": 29,
   "id": "9b91ac1d-da1d-494b-ba6e-7c14d966989a",
   "metadata": {},
   "outputs": [
    {
     "data": {
      "text/plain": [
       "array([[0.82448506]], dtype=float32)"
      ]
     },
     "execution_count": 29,
     "metadata": {},
     "output_type": "execute_result"
    }
   ],
   "source": [
    "interpreter.set_tensor(input_index, X)\n",
    "interpreter.invoke()\n",
    "preds = interpreter.get_tensor(output_index)\n",
    "\n",
    "preds"
   ]
  },
  {
   "cell_type": "markdown",
   "id": "71308cc5-1519-4f38-a38d-933e3dba48e2",
   "metadata": {},
   "source": [
    "**Answer**: 0.82448614"
   ]
  },
  {
   "cell_type": "markdown",
   "id": "8a43ebda",
   "metadata": {},
   "source": [
    "## Question 5\n",
    "\n",
    "Download the base image `svizor42/zoomcamp-dino-dragon-lambda:v2`. You can easily make it by using [docker pull](https://docs.docker.com/engine/reference/commandline/pull/) command.\n",
    "\n",
    "So what's the size of this base image?"
   ]
  },
  {
   "cell_type": "markdown",
   "id": "63737edc",
   "metadata": {},
   "source": [
    "**Answer**: 639 MB"
   ]
  },
  {
   "cell_type": "markdown",
   "id": "0decfe29",
   "metadata": {},
   "source": [
    "## Question 6\n",
    "\n",
    "Now let's extend this docker image, install all the required libraries\n",
    "and add the code for lambda.\n",
    "\n",
    "You don't need to include the model in the image. It's already included. \n",
    "The name of the file with the model is `dino-vs-dragon-v2.tflite` and it's \n",
    "in the current workdir in the image (see the Dockerfile above for the \n",
    "reference).\n",
    "\n",
    "Now run the container locally.\n",
    "\n",
    "Score this image: https://upload.wikimedia.org/wikipedia/en/e/e9/GodzillaEncounterModel.jpg\n",
    "\n",
    "What's the output from the model?\n"
   ]
  },
  {
   "cell_type": "markdown",
   "id": "806fa96a",
   "metadata": {},
   "source": [
    "**Answer**: 0.32"
   ]
  },
  {
   "cell_type": "code",
   "execution_count": null,
   "id": "bc15f34d",
   "metadata": {},
   "outputs": [],
   "source": []
  }
 ],
 "metadata": {
  "kernelspec": {
   "display_name": "Python 3 (ipykernel)",
   "language": "python",
   "name": "python3"
  },
  "language_info": {
   "codemirror_mode": {
    "name": "ipython",
    "version": 3
   },
   "file_extension": ".py",
   "mimetype": "text/x-python",
   "name": "python",
   "nbconvert_exporter": "python",
   "pygments_lexer": "ipython3",
   "version": "3.10.11"
  }
 },
 "nbformat": 4,
 "nbformat_minor": 5
}
