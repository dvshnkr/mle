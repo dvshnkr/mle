{
 "cells": [
  {
   "cell_type": "markdown",
   "id": "d7068c7a-4096-4f7b-8a60-e2a8275e1c0f",
   "metadata": {},
   "source": [
    "Solving questions from: [2022 hw - week 2](https://github.com/DataTalksClub/machine-learning-zoomcamp/blob/master/cohorts/2022/02-regression/homework.md)"
   ]
  },
  {
   "cell_type": "markdown",
   "id": "1d6cdbcd-3fca-4426-b32d-cd901e474205",
   "metadata": {},
   "source": [
    "# Section 1"
   ]
  },
  {
   "cell_type": "code",
   "execution_count": 1,
   "id": "4e768d72-fcd7-444d-af97-6419bdc380d9",
   "metadata": {},
   "outputs": [],
   "source": [
    "import pandas as pd\n",
    "import numpy as np\n",
    "import matplotlib.pyplot as plt\n",
    "import seaborn as sns\n",
    "\n",
    "%matplotlib inline"
   ]
  },
  {
   "cell_type": "code",
   "execution_count": 2,
   "id": "d525624a-f59a-4f62-8d00-42ed7f218591",
   "metadata": {},
   "outputs": [],
   "source": [
    "data = pd.read_csv('data/housing.csv')"
   ]
  },
  {
   "cell_type": "code",
   "execution_count": 3,
   "id": "9efb7b79-dfee-4f41-b097-00982e61bf19",
   "metadata": {},
   "outputs": [
    {
     "data": {
      "text/html": [
       "<div>\n",
       "<style scoped>\n",
       "    .dataframe tbody tr th:only-of-type {\n",
       "        vertical-align: middle;\n",
       "    }\n",
       "\n",
       "    .dataframe tbody tr th {\n",
       "        vertical-align: top;\n",
       "    }\n",
       "\n",
       "    .dataframe thead th {\n",
       "        text-align: right;\n",
       "    }\n",
       "</style>\n",
       "<table border=\"1\" class=\"dataframe\">\n",
       "  <thead>\n",
       "    <tr style=\"text-align: right;\">\n",
       "      <th></th>\n",
       "      <th>longitude</th>\n",
       "      <th>latitude</th>\n",
       "      <th>housing_median_age</th>\n",
       "      <th>total_rooms</th>\n",
       "      <th>total_bedrooms</th>\n",
       "      <th>population</th>\n",
       "      <th>households</th>\n",
       "      <th>median_income</th>\n",
       "      <th>median_house_value</th>\n",
       "    </tr>\n",
       "  </thead>\n",
       "  <tbody>\n",
       "    <tr>\n",
       "      <th>0</th>\n",
       "      <td>-122.23</td>\n",
       "      <td>37.88</td>\n",
       "      <td>41.0</td>\n",
       "      <td>880.0</td>\n",
       "      <td>129.0</td>\n",
       "      <td>322.0</td>\n",
       "      <td>126.0</td>\n",
       "      <td>8.3252</td>\n",
       "      <td>452600.0</td>\n",
       "    </tr>\n",
       "    <tr>\n",
       "      <th>1</th>\n",
       "      <td>-122.22</td>\n",
       "      <td>37.86</td>\n",
       "      <td>21.0</td>\n",
       "      <td>7099.0</td>\n",
       "      <td>1106.0</td>\n",
       "      <td>2401.0</td>\n",
       "      <td>1138.0</td>\n",
       "      <td>8.3014</td>\n",
       "      <td>358500.0</td>\n",
       "    </tr>\n",
       "    <tr>\n",
       "      <th>2</th>\n",
       "      <td>-122.24</td>\n",
       "      <td>37.85</td>\n",
       "      <td>52.0</td>\n",
       "      <td>1467.0</td>\n",
       "      <td>190.0</td>\n",
       "      <td>496.0</td>\n",
       "      <td>177.0</td>\n",
       "      <td>7.2574</td>\n",
       "      <td>352100.0</td>\n",
       "    </tr>\n",
       "    <tr>\n",
       "      <th>3</th>\n",
       "      <td>-122.25</td>\n",
       "      <td>37.85</td>\n",
       "      <td>52.0</td>\n",
       "      <td>1274.0</td>\n",
       "      <td>235.0</td>\n",
       "      <td>558.0</td>\n",
       "      <td>219.0</td>\n",
       "      <td>5.6431</td>\n",
       "      <td>341300.0</td>\n",
       "    </tr>\n",
       "    <tr>\n",
       "      <th>4</th>\n",
       "      <td>-122.25</td>\n",
       "      <td>37.85</td>\n",
       "      <td>52.0</td>\n",
       "      <td>1627.0</td>\n",
       "      <td>280.0</td>\n",
       "      <td>565.0</td>\n",
       "      <td>259.0</td>\n",
       "      <td>3.8462</td>\n",
       "      <td>342200.0</td>\n",
       "    </tr>\n",
       "  </tbody>\n",
       "</table>\n",
       "</div>"
      ],
      "text/plain": [
       "   longitude  latitude  housing_median_age  total_rooms  total_bedrooms  \\\n",
       "0    -122.23     37.88                41.0        880.0           129.0   \n",
       "1    -122.22     37.86                21.0       7099.0          1106.0   \n",
       "2    -122.24     37.85                52.0       1467.0           190.0   \n",
       "3    -122.25     37.85                52.0       1274.0           235.0   \n",
       "4    -122.25     37.85                52.0       1627.0           280.0   \n",
       "\n",
       "   population  households  median_income  median_house_value  \n",
       "0       322.0       126.0         8.3252            452600.0  \n",
       "1      2401.0      1138.0         8.3014            358500.0  \n",
       "2       496.0       177.0         7.2574            352100.0  \n",
       "3       558.0       219.0         5.6431            341300.0  \n",
       "4       565.0       259.0         3.8462            342200.0  "
      ]
     },
     "execution_count": 3,
     "metadata": {},
     "output_type": "execute_result"
    }
   ],
   "source": [
    "columns = ['longitude', 'latitude', 'housing_median_age', 'total_rooms',\n",
    "           'total_bedrooms', 'population', 'households', 'median_income',\n",
    "           'median_house_value',]\n",
    "\n",
    "data = data[columns]\n",
    "data.head()"
   ]
  },
  {
   "cell_type": "code",
   "execution_count": 4,
   "id": "e90e0098-d602-4615-a194-3606fe501274",
   "metadata": {},
   "outputs": [
    {
     "data": {
      "image/png": "[encoded data removed]",
      "text/plain": [
       "<Figure size 640x480 with 1 Axes>"
      ]
     },
     "metadata": {},
     "output_type": "display_data"
    }
   ],
   "source": [
    "_ = plt.hist(data.median_house_value, bins=50, label='median_house_value')\n",
    "_ = plt.title(\"Histogram of Median House Values (50 bins)\")\n",
    "# _ = plt.legend()"
   ]
  },
  {
   "cell_type": "code",
   "execution_count": 5,
   "id": "8caf4395-6bdf-43ca-8a22-46f84f34d1a2",
   "metadata": {},
   "outputs": [
    {
     "data": {
      "text/plain": [
       "count     20640.000000\n",
       "mean     206855.816909\n",
       "std      115395.615874\n",
       "min       14999.000000\n",
       "10%       82300.000000\n",
       "50%      179700.000000\n",
       "90%      376600.000000\n",
       "95%      489810.000000\n",
       "98%      500001.000000\n",
       "99%      500001.000000\n",
       "max      500001.000000\n",
       "Name: median_house_value, dtype: float64"
      ]
     },
     "execution_count": 5,
     "metadata": {},
     "output_type": "execute_result"
    }
   ],
   "source": [
    "data.median_house_value.describe(percentiles=[0.1, 0.9, 0.95, 0.98, 0.99,])"
   ]
  },
  {
   "cell_type": "markdown",
   "id": "fdf4e9aa-6634-4208-af61-fe1d3554b324",
   "metadata": {},
   "source": [
    "# Section 2"
   ]
  },
  {
   "cell_type": "markdown",
   "id": "789b034b-5fa3-47ab-8147-a556c6aaa2e8",
   "metadata": {},
   "source": [
    "## Question 1\n",
    "Find a feature with missing values. How many missing values does it have?"
   ]
  },
  {
   "cell_type": "code",
   "execution_count": 6,
   "id": "5fe9fdf9-2cf2-4f6c-8c16-df13c4eb2329",
   "metadata": {},
   "outputs": [
    {
     "data": {
      "text/plain": [
       "longitude               0\n",
       "latitude                0\n",
       "housing_median_age      0\n",
       "total_rooms             0\n",
       "total_bedrooms        207\n",
       "population              0\n",
       "households              0\n",
       "median_income           0\n",
       "median_house_value      0\n",
       "dtype: int64"
      ]
     },
     "execution_count": 6,
     "metadata": {},
     "output_type": "execute_result"
    }
   ],
   "source": [
    "data.isnull().sum()"
   ]
  },
  {
   "cell_type": "markdown",
   "id": "690e36e4-6b2c-4722-9fa4-1f0f2336c759",
   "metadata": {},
   "source": [
    "**Answer**: 207"
   ]
  },
  {
   "cell_type": "markdown",
   "id": "c9b38970-4b97-4ff7-9a9b-33bb6f6b2488",
   "metadata": {},
   "source": [
    "## Question 2\n",
    "\n",
    "What's the median (50% percentile) for variable 'population'?"
   ]
  },
  {
   "cell_type": "code",
   "execution_count": 7,
   "id": "372e886f",
   "metadata": {},
   "outputs": [
    {
     "data": {
      "text/plain": [
       "1166.0"
      ]
     },
     "execution_count": 7,
     "metadata": {},
     "output_type": "execute_result"
    }
   ],
   "source": [
    "data.population.median()"
   ]
  },
  {
   "cell_type": "markdown",
   "id": "b99a81ef-c70a-4964-b054-1ffd27f5de1e",
   "metadata": {},
   "source": [
    "**Answer**: 1166"
   ]
  },
  {
   "cell_type": "markdown",
   "id": "f5a5296a-58b3-47db-86e5-4ebbe2ff50fc",
   "metadata": {},
   "source": [
    "# Section 3"
   ]
  },
  {
   "cell_type": "code",
   "execution_count": 8,
   "id": "ade669dd-113f-46c2-b3ae-d833a3f1a1e6",
   "metadata": {},
   "outputs": [
    {
     "data": {
      "text/plain": [
       "pandas.core.frame.DataFrame"
      ]
     },
     "execution_count": 8,
     "metadata": {},
     "output_type": "execute_result"
    }
   ],
   "source": [
    "type(data)"
   ]
  },
  {
   "cell_type": "code",
   "execution_count": 9,
   "id": "19551ae4-2c8b-4c6c-80f1-efed8da9df14",
   "metadata": {},
   "outputs": [
    {
     "data": {
      "text/plain": [
       "20640"
      ]
     },
     "execution_count": 9,
     "metadata": {},
     "output_type": "execute_result"
    }
   ],
   "source": [
    "len_data = len(data)\n",
    "len_data"
   ]
  },
  {
   "cell_type": "code",
   "execution_count": 10,
   "id": "a1ca590f-e9fa-41c2-94a5-19e545f99f39",
   "metadata": {},
   "outputs": [
    {
     "data": {
      "text/plain": [
       "(array([15387,  1659, 14480, ...,  4802,  5668,  9864]), 20640)"
      ]
     },
     "execution_count": 10,
     "metadata": {},
     "output_type": "execute_result"
    }
   ],
   "source": [
    "rng = np.random.default_rng(seed=42)  # recommended way to use the random module in numpy \n",
    "idx = np.arange(len_data)\n",
    "rng.shuffle(idx)\n",
    "\n",
    "idx, len(idx)"
   ]
  },
  {
   "cell_type": "code",
   "execution_count": 11,
   "id": "795c50cb-18f1-4066-9542-219dffa08a3f",
   "metadata": {},
   "outputs": [
    {
     "name": "stdout",
     "output_type": "stream",
     "text": [
      "12384 4128 4128\n"
     ]
    }
   ],
   "source": [
    "n_val = int(len_data * 0.2)  # use 20% of the data for validation\n",
    "n_test = int(len_data * 0.2)  # use 20% of the data for testing\n",
    "n_train = len(data) - n_val - n_test  # use 60% of the data for training\n",
    "\n",
    "print(n_train, n_val, n_test)\n"
   ]
  },
  {
   "cell_type": "code",
   "execution_count": 12,
   "id": "dec1a216-bf0e-4156-a19e-0f6cdeb3e351",
   "metadata": {},
   "outputs": [],
   "source": [
    "assert n_train+n_val+n_test == len(idx)"
   ]
  },
  {
   "cell_type": "code",
   "execution_count": 13,
   "id": "7e444ebd-04ae-4d39-a801-6053ca8b22e8",
   "metadata": {},
   "outputs": [
    {
     "data": {
      "text/plain": [
       "(12384, 4128, 4128)"
      ]
     },
     "execution_count": 13,
     "metadata": {},
     "output_type": "execute_result"
    }
   ],
   "source": [
    "# splits data into train, val, and test df, using shuffled indices \n",
    "\n",
    "train_df = data.iloc[idx[:n_train], :]\n",
    "val_df = data.iloc[idx[n_train: n_train+n_val], :]\n",
    "test_df = data.iloc[idx[n_train+n_val:], :]\n",
    "\n",
    "len(train_df), len(val_df), len(test_df)"
   ]
  },
  {
   "cell_type": "code",
   "execution_count": 14,
   "id": "bec88188-b4fe-49b9-b262-01f9b2e93776",
   "metadata": {},
   "outputs": [
    {
     "data": {
      "text/plain": [
       "(12384, 4128, pandas.core.frame.DataFrame, numpy.ndarray)"
      ]
     },
     "execution_count": 14,
     "metadata": {},
     "output_type": "execute_result"
    }
   ],
   "source": [
    "# creates X and y for train, val, test\n",
    "\n",
    "X_train = train_df.iloc[:, :-1].reset_index(drop=True)\n",
    "y_train = train_df.median_house_value.values\n",
    "\n",
    "X_val = val_df.iloc[:, :-1].reset_index(drop=True)\n",
    "y_val = val_df.median_house_value.values\n",
    "\n",
    "X_test = test_df.iloc[:, :-1].reset_index(drop=True)\n",
    "y_test = test_df.median_house_value.values\n",
    "\n",
    "\n",
    "len(y_train), len(y_val), type(X_test), type(y_test)"
   ]
  },
  {
   "cell_type": "code",
   "execution_count": 15,
   "id": "7efb7f1c-017c-41ed-a022-da290f591bc1",
   "metadata": {},
   "outputs": [
    {
     "name": "stdout",
     "output_type": "stream",
     "text": [
      "[267600. 329400. 474000. 140600. 292000.]\n"
     ]
    }
   ],
   "source": [
    "print(y_train[:5])"
   ]
  },
  {
   "cell_type": "code",
   "execution_count": 16,
   "id": "6c287036-dca6-4ca4-84e1-39ae3ce123ea",
   "metadata": {},
   "outputs": [
    {
     "name": "stdout",
     "output_type": "stream",
     "text": [
      "[200900. 500001. 156300. 271800. 339700.]\n"
     ]
    }
   ],
   "source": [
    "print(y_val[:5])"
   ]
  },
  {
   "cell_type": "code",
   "execution_count": 17,
   "id": "6ebab7b8-d4b7-4b02-92c9-55ddf34721f5",
   "metadata": {},
   "outputs": [
    {
     "name": "stdout",
     "output_type": "stream",
     "text": [
      "[145800.  38800. 253700. 275000. 425800.]\n"
     ]
    }
   ],
   "source": [
    "print(y_test[:5])"
   ]
  },
  {
   "cell_type": "code",
   "execution_count": 18,
   "id": "2913e510-078a-4069-afc0-a8534e9edec7",
   "metadata": {},
   "outputs": [
    {
     "data": {
      "text/plain": [
       "(0.0, 14999.0, 500001.0, 9.616, 13.122)"
      ]
     },
     "execution_count": 18,
     "metadata": {},
     "output_type": "execute_result"
    }
   ],
   "source": [
    "# scales y by transforming it with a log function\n",
    "\n",
    "(\n",
    "    np.log1p(0),  # adds 1 to 0, then calculates natural log \n",
    "    min(y_train),  \n",
    "    max(y_train), \n",
    "    round( np.log1p(min(y_train)), 3 ),  # calculates log1p of the min value for y\n",
    "    round(np.log1p(max(y_train)), 3 )  # calculates log1p of the max value for y\n",
    ")"
   ]
  },
  {
   "cell_type": "code",
   "execution_count": 19,
   "id": "1043f079-dc8f-4452-8fea-d54f869826bc",
   "metadata": {},
   "outputs": [
    {
     "data": {
      "text/plain": [
       "(9.615805480084347, 13.122367377396328)"
      ]
     },
     "execution_count": 19,
     "metadata": {},
     "output_type": "execute_result"
    }
   ],
   "source": [
    "y_train = np.log1p(y_train)\n",
    "y_val = np.log1p(y_val)\n",
    "y_test = np.log1p(y_test)\n",
    "\n",
    "min(y_train), max(y_train)"
   ]
  },
  {
   "cell_type": "markdown",
   "id": "64f73f3b-25c0-42a2-95c5-ae53312aea97",
   "metadata": {},
   "source": [
    "Using `np.log1p` to transform `y` rather than `np.log` to avoid running into `-infinity` while training the model.  \n",
    "Presently, we do not have any 0's in `y`, but we might later."
   ]
  },
  {
   "cell_type": "markdown",
   "id": "bca1dddf-8511-4d03-9b3f-9c56ee6299c8",
   "metadata": {},
   "source": [
    "# Section 4"
   ]
  },
  {
   "cell_type": "markdown",
   "id": "347cdfe3-aa47-428a-af44-4387301235b3",
   "metadata": {},
   "source": [
    "## Linear Regression"
   ]
  },
  {
   "cell_type": "code",
   "execution_count": 20,
   "id": "88c4ba69-e3d6-4e61-9c4d-8ca5b332626d",
   "metadata": {},
   "outputs": [
    {
     "data": {
      "text/plain": [
       "array([[1, 2],\n",
       "       [3, 1],\n",
       "       [4, 5],\n",
       "       [9, 3]])"
      ]
     },
     "execution_count": 20,
     "metadata": {},
     "output_type": "execute_result"
    }
   ],
   "source": [
    "X = np.array(\n",
    "    [[1,2,],\n",
    "     [3,1,],\n",
    "     [4,5,],\n",
    "     [9,3,]]\n",
    ")\n",
    "\n",
    "X"
   ]
  },
  {
   "cell_type": "code",
   "execution_count": 21,
   "id": "bfa7ed70-8385-40bf-86c5-063f4639d4b1",
   "metadata": {},
   "outputs": [
    {
     "data": {
      "text/plain": [
       "(4, 2)"
      ]
     },
     "execution_count": 21,
     "metadata": {},
     "output_type": "execute_result"
    }
   ],
   "source": [
    "X.shape"
   ]
  },
  {
   "cell_type": "code",
   "execution_count": 22,
   "id": "2c947c48-253d-420f-9f90-6a87a59faff5",
   "metadata": {},
   "outputs": [
    {
     "data": {
      "text/plain": [
       "array([[12],\n",
       "       [11],\n",
       "       [33],\n",
       "       [33]])"
      ]
     },
     "execution_count": 22,
     "metadata": {},
     "output_type": "execute_result"
    }
   ],
   "source": [
    "y = np.array(\n",
    "    [[12,],\n",
    "     [11,],\n",
    "     [33,],\n",
    "     [33,]]\n",
    "     \n",
    ")\n",
    " \n",
    "y"
   ]
  },
  {
   "cell_type": "code",
   "execution_count": 23,
   "id": "6d1e4d79-27dc-48d2-b14c-1defca11f612",
   "metadata": {},
   "outputs": [
    {
     "data": {
      "text/plain": [
       "(4, 1)"
      ]
     },
     "execution_count": 23,
     "metadata": {},
     "output_type": "execute_result"
    }
   ],
   "source": [
    "y.shape"
   ]
  },
  {
   "cell_type": "code",
   "execution_count": 24,
   "id": "c27923d6-84d9-47d1-ab0b-92e2d624d36b",
   "metadata": {},
   "outputs": [
    {
     "data": {
      "text/plain": [
       "array([[2.],\n",
       "       [5.]])"
      ]
     },
     "execution_count": 24,
     "metadata": {},
     "output_type": "execute_result"
    }
   ],
   "source": [
    "XTX = X.T.dot(X)\n",
    "XTX_inv = np.linalg.inv(XTX)\n",
    "w = XTX_inv.dot(X.T).dot(y)\n",
    "w"
   ]
  },
  {
   "cell_type": "code",
   "execution_count": 25,
   "id": "5b3ed8e2-b357-48e6-b93a-3cc20165f7e4",
   "metadata": {},
   "outputs": [
    {
     "name": "stdout",
     "output_type": "stream",
     "text": [
      "X.shape = (4, 2)\n",
      "y.shape = (4, 1)\n",
      "XTX.shape = (2, 2)\n",
      "inv(XTX) also has the same shape as XTX\n",
      "w.shape = (2, 1)\n"
     ]
    }
   ],
   "source": [
    "def print_shapes():\n",
    "    X = np.random.rand(4, 2)  # initialises X with the shape (4, 2)\n",
    "    y = np.random.rand(4, 1)  # initialises y with the shape (4, 1)\n",
    "    print(f\"X.shape = {X.shape}\")\n",
    "    print(f\"y.shape = {y.shape}\")\n",
    "    XTX = X.T.dot(X)\n",
    "    print(f\"XTX.shape = {XTX.shape}\")\n",
    "    print(\"inv(XTX) also has the same shape as XTX\")\n",
    "    w = XTX.dot(X.T).dot(y)\n",
    "    print(f\"w.shape = {w.shape}\")\n",
    "\n",
    "print_shapes()"
   ]
  },
  {
   "cell_type": "code",
   "execution_count": 26,
   "id": "215f6be4-8195-4f83-8d33-59e26e3f6a94",
   "metadata": {},
   "outputs": [],
   "source": [
    "def prepend_ones(X: np.ndarray) -> np.ndarray:\n",
    "    \"\"\"\n",
    "    Returns a matrix with a column of 1's prepended to it as the first column.\n",
    "    \"\"\"\n",
    "    return np.concatenate((np.ones((X.shape[0], 1)), X), axis=1)\n"
   ]
  },
  {
   "cell_type": "code",
   "execution_count": 27,
   "id": "95c898ef-0ed3-4aa1-96e1-66d10add2c21",
   "metadata": {},
   "outputs": [],
   "source": [
    "def train_linear_regression(X: np.ndarray, \n",
    "                      y: np.ndarray, \n",
    "                      r: int=None) -> np.ndarray:\n",
    "    \"\"\"\n",
    "    Returns weights for a linear regression model trained using X and y.\n",
    "    Optional parameter r for regularization.\n",
    "    \"\"\"\n",
    "\n",
    "    # print(type(X), \"\\n\\n\", type(y))\n",
    "    # prepend column of 1 to X\n",
    "    X = prepend_ones(X)\n",
    "    \n",
    "    XTX = X.T.dot(X)\n",
    "    # print(XTX)\n",
    "    if r:\n",
    "        XTX += np.eye(XTX.shape[0]) * r\n",
    "        # print(XTX)\n",
    "    \n",
    "    XTX_inv = np.linalg.inv(XTX)\n",
    "    w = XTX_inv.dot(X.T).dot(y)\n",
    "            \n",
    "    return w\n"
   ]
  },
  {
   "cell_type": "code",
   "execution_count": 28,
   "id": "3d1dcf78-0bf5-413a-8b60-ad37f635b9c6",
   "metadata": {},
   "outputs": [
    {
     "data": {
      "text/plain": [
       "array([[1.48702134e-03],\n",
       "       [2.00003176e+00],\n",
       "       [4.99941005e+00]])"
      ]
     },
     "execution_count": 28,
     "metadata": {},
     "output_type": "execute_result"
    }
   ],
   "source": [
    "w_reg = train_linear_regression(X, y, r=0.001)\n",
    "w_reg"
   ]
  },
  {
   "cell_type": "code",
   "execution_count": 29,
   "id": "813e6303-5a16-49e2-aa91-63d39eebe7bc",
   "metadata": {},
   "outputs": [],
   "source": [
    "def predict_linear_regression(X: np.ndarray, w: np.ndarray) -> np.ndarray:\n",
    "    \"\"\"\n",
    "    Returns predictions for a given house X, \n",
    "    using trained weights w.\n",
    "    \"\"\"\n",
    "    \n",
    "    X = prepend_ones(X)\n",
    "    \n",
    "    return X.dot(w) #.reshape(-1,)  # returns a one-dimensional array\n"
   ]
  },
  {
   "cell_type": "code",
   "execution_count": 30,
   "id": "47cc2214-4d4d-4d86-b4c1-c3b4d16ef9d6",
   "metadata": {},
   "outputs": [
    {
     "data": {
      "text/plain": [
       "array([[12.],\n",
       "       [11.],\n",
       "       [33.],\n",
       "       [33.]])"
      ]
     },
     "execution_count": 30,
     "metadata": {},
     "output_type": "execute_result"
    }
   ],
   "source": [
    "w_lr = train_linear_regression(X, y)\n",
    "y_pred = predict_linear_regression(X, w_lr)\n",
    "# y_pred.shape\n",
    "y_pred"
   ]
  },
  {
   "cell_type": "code",
   "execution_count": 48,
   "id": "f8e9355e-df57-4fdb-a5e6-2a6c435cff5c",
   "metadata": {},
   "outputs": [],
   "source": [
    "def rmse(y_pred: np.ndarray, y_true: np.ndarray) -> np.float64:\n",
    "    \"\"\"\n",
    "    Returns the root mean square error (rmse)\n",
    "    using predicted values of the target variable (y_pred) \n",
    "    and actual values of the target variable (y_true).\n",
    "    \"\"\"\n",
    "\n",
    "    rmse = np.sqrt((np.square(y_pred - y_true)).mean())\n",
    "    return round(rmse, 2)\n"
   ]
  },
  {
   "cell_type": "code",
   "execution_count": 49,
   "id": "d2db198a-58ab-4283-85a5-51a8a0287dd6",
   "metadata": {},
   "outputs": [
    {
     "data": {
      "text/plain": [
       "0.0"
      ]
     },
     "execution_count": 49,
     "metadata": {},
     "output_type": "execute_result"
    }
   ],
   "source": [
    "rmse(y_pred, y)"
   ]
  },
  {
   "cell_type": "markdown",
   "id": "fa29b4fb-7748-49af-b3f2-6c7573642ac2",
   "metadata": {},
   "source": [
    "## Question 3\n",
    "\n",
    "* We need to deal with missing values for the column from Q1.\n",
    "* We have two options: fill it with 0 or with the mean of this variable.\n",
    "* Try both options. For each, train a linear regression model without regularization using the code from the lessons.\n",
    "* For computing the mean, use the training only!\n",
    "* Use the validation dataset to evaluate the models and compare the RMSE of each option.\n",
    "* Round the RMSE scores to 2 decimal digits using `round(score, 2)`\n",
    "* Which option gives better RMSE?"
   ]
  },
  {
   "cell_type": "code",
   "execution_count": 50,
   "id": "915bf7c2-119f-42a8-b22a-020af2ff74f4",
   "metadata": {},
   "outputs": [
    {
     "data": {
      "text/plain": [
       "longitude               0\n",
       "latitude                0\n",
       "housing_median_age      0\n",
       "total_rooms             0\n",
       "total_bedrooms        124\n",
       "population              0\n",
       "households              0\n",
       "median_income           0\n",
       "dtype: int64"
      ]
     },
     "execution_count": 50,
     "metadata": {},
     "output_type": "execute_result"
    }
   ],
   "source": [
    "X_train.isnull().sum()"
   ]
  },
  {
   "cell_type": "code",
   "execution_count": 51,
   "id": "293a4a78-e4e4-4999-97da-9730d87e0ad2",
   "metadata": {},
   "outputs": [
    {
     "data": {
      "text/plain": [
       "0"
      ]
     },
     "execution_count": 51,
     "metadata": {},
     "output_type": "execute_result"
    }
   ],
   "source": [
    "X_fill_0 = X_train.fillna(0)\n",
    "X_fill_0.total_bedrooms.isnull().sum()"
   ]
  },
  {
   "cell_type": "code",
   "execution_count": 52,
   "id": "c4fc4daf-bb02-4283-a040-dd9fc3ea0dda",
   "metadata": {},
   "outputs": [
    {
     "data": {
      "text/plain": [
       "0.34"
      ]
     },
     "execution_count": 52,
     "metadata": {},
     "output_type": "execute_result"
    }
   ],
   "source": [
    "w_0 = train_linear_regression(X_fill_0.values, y_train)\n",
    "y_0 = predict_linear_regression(X_val.fillna(0), w_0)\n",
    "score_0 = rmse(y_0, y_val)\n",
    "score_0"
   ]
  },
  {
   "cell_type": "code",
   "execution_count": 53,
   "id": "bfdf07ac-ec5d-4687-9988-2197703d880d",
   "metadata": {},
   "outputs": [
    {
     "data": {
      "text/plain": [
       "538.3573409461663"
      ]
     },
     "execution_count": 53,
     "metadata": {},
     "output_type": "execute_result"
    }
   ],
   "source": [
    "mean_bedrooms = X_train.total_bedrooms.mean()\n",
    "mean_bedrooms"
   ]
  },
  {
   "cell_type": "code",
   "execution_count": 54,
   "id": "b4e92624-ae9e-4f16-95ad-87167fd5483e",
   "metadata": {},
   "outputs": [
    {
     "data": {
      "text/plain": [
       "0.34"
      ]
     },
     "execution_count": 54,
     "metadata": {},
     "output_type": "execute_result"
    }
   ],
   "source": [
    "X_fill_mean = X_train.fillna(mean_bedrooms)\n",
    "\n",
    "w_mean = train_linear_regression(X_fill_mean, y_train)\n",
    "y_mean = predict_linear_regression(X_val.fillna(mean_bedrooms), w_mean)\n",
    "score_mean = rmse(y_mean, y_val)\n",
    "score_mean"
   ]
  },
  {
   "cell_type": "markdown",
   "id": "947e06df-13d2-42e9-b5f6-c79603f87dc0",
   "metadata": {},
   "source": [
    "**Answer**: Both are equally good."
   ]
  },
  {
   "cell_type": "markdown",
   "id": "ff9c2910-7817-4040-a828-7ea8c8428909",
   "metadata": {},
   "source": [
    "## Question 4\n",
    "\n",
    "* Now let's train a regularized linear regression.\n",
    "* For this question, fill the NAs with 0.\n",
    "* Try different values of `r` from this list: `[0, 0.000001, 0.0001, 0.001, 0.01, 0.1, 1, 5, 10]`.\n",
    "* Use RMSE to evaluate the model on the validation dataset.\n",
    "* Round the RMSE scores to 2 decimal digits.\n",
    "* Which `r` gives the best RMSE?\n",
    "\n",
    "If there are multiple options, select the smallest `r`."
   ]
  },
  {
   "cell_type": "code",
   "execution_count": 55,
   "id": "fca07c57-81c0-40d8-b759-786dd793877b",
   "metadata": {},
   "outputs": [],
   "source": [
    "r_options = [0, 0.000001, 0.0001, 0.001, 0.01, 0.1, 1, 5, 10]\n",
    "scores = []\n",
    "\n",
    "for r in r_options:\n",
    "    w_ = train_linear_regression(X_train.fillna(0), y_train)\n",
    "    y_ = predict_linear_regression(X_val.fillna(0), w_)\n",
    "    score_ = rmse(y_, y_val)\n",
    "    scores.append(score_)\n"
   ]
  },
  {
   "cell_type": "code",
   "execution_count": 56,
   "id": "8c3f534f-2175-4c6b-b021-ed2264725044",
   "metadata": {},
   "outputs": [
    {
     "data": {
      "text/plain": [
       "{0: 0.34,\n",
       " 1e-06: 0.34,\n",
       " 0.0001: 0.34,\n",
       " 0.001: 0.34,\n",
       " 0.01: 0.34,\n",
       " 0.1: 0.34,\n",
       " 1: 0.34,\n",
       " 5: 0.34,\n",
       " 10: 0.34}"
      ]
     },
     "execution_count": 56,
     "metadata": {},
     "output_type": "execute_result"
    }
   ],
   "source": [
    "dict(zip(r_options, scores))"
   ]
  },
  {
   "cell_type": "code",
   "execution_count": 57,
   "id": "1c089995-bcc2-4779-b78c-be5a1057e23a",
   "metadata": {},
   "outputs": [
    {
     "data": {
      "text/plain": [
       "(array([12.33472474, 12.47374398, 12.39538106, 12.64840556, 12.5622205 ]),\n",
       " array([12.327673  , 12.47000485, 12.39658548, 12.6462057 , 12.55679999]),\n",
       " array([12.21056753, 13.12236738, 11.95953891, 12.51282546, 12.7358211 ]))"
      ]
     },
     "execution_count": 57,
     "metadata": {},
     "output_type": "execute_result"
    }
   ],
   "source": [
    "# checks if the model predictions are all the same\n",
    "\n",
    "y_0[:5], y_mean[:5], y_val[:5]"
   ]
  },
  {
   "cell_type": "markdown",
   "id": "80b401ae-10f2-4800-9303-673ecc4ef267",
   "metadata": {},
   "source": [
    "**Answer**: 0"
   ]
  },
  {
   "cell_type": "markdown",
   "id": "32792798-7387-4c0a-83c6-7609b9dca177",
   "metadata": {},
   "source": [
    "## Question 5\n",
    "\n",
    "* We used seed 42 for splitting the data. Let's find out how selecting the seed influences our score.\n",
    "* Try different seed values: [0, 1, 2, 3, 4, 5, 6, 7, 8, 9].\n",
    "* For each seed, do the train/validation/test split with 60%/20%/20% distribution.\n",
    "* Fill the missing values with 0 and train a model without regularization.\n",
    "* For each seed, evaluate the model on the validation dataset and collect the RMSE scores.\n",
    "* What's the standard deviation of all the scores? To compute the standard deviation, use np.std.\n",
    "* Round the result to 3 decimal digits (round(std, 3))"
   ]
  },
  {
   "cell_type": "code",
   "execution_count": 65,
   "id": "6e4c4b17-0e5e-4ed2-be32-386cabf22561",
   "metadata": {},
   "outputs": [],
   "source": [
    "def evaluation_pipeline(data: pd.core.frame.DataFrame, \n",
    "                        **kwargs) -> np.float64:\n",
    "    \"\"\"\n",
    "    Returns RMSE for the passed parameters.\n",
    "    Requires the complete dataframe as an input.\n",
    "    Accepts hyperparameters as named parameters.\n",
    "    \"\"\"\n",
    "    if kwargs:\n",
    "        seed=kwargs['seed'] if 'seed' in kwargs.keys() else 42\n",
    "        r=kwargs['r'] if 'r' in kwargs.keys() else 0\n",
    "        test=kwargs['test'] if 'test' in kwargs.keys() else False\n",
    "        \n",
    "    else:\n",
    "        seed=42; r=0; test=False\n",
    "\n",
    "    # print(f\"Training and Evaluating with seed={seed}, \" +\n",
    "    #      f\"r={r}, and test={test}.\\n\" +\n",
    "    #      f\"If test=True, training the final model.\")\n",
    "\n",
    "\n",
    "    len_data = len(data)\n",
    "    n_val = int(len_data * 0.2)\n",
    "    n_test = int(len_data * 0.2)\n",
    "    n_train = len(data) - n_val - n_test\n",
    "    \n",
    "    # creates shuffled index\n",
    "    rng = np.random.default_rng(seed=seed)\n",
    "    idx = np.arange(len_data)\n",
    "    rng.shuffle(idx)\n",
    "\n",
    "    \n",
    "    # splits df for validation / testing\n",
    "    # while testing, the model is trained on the first n_train + n_val records\n",
    "    # and validated against the remaining records\n",
    "    if test:        \n",
    "        train_df = data.iloc[idx[:n_train+n_val], :]\n",
    "        _ = data.iloc[idx[n_train: n_train+n_val], :]\n",
    "        val_df = data.iloc[idx[n_train+n_val:], :]\n",
    "\n",
    "    # while validating, the model is trained on the first n_train records\n",
    "    # and validated against the next n_val records\n",
    "    else:        \n",
    "        train_df = data.iloc[idx[:n_train], :]\n",
    "        val_df = data.iloc[idx[n_train: n_train+n_val], :]\n",
    "        _ = data.iloc[idx[n_train+n_val:], :]\n",
    "        \n",
    "    X_train = train_df.iloc[:, :-1].reset_index(drop=True)\n",
    "    y_train = train_df.median_house_value.values\n",
    "    # print(f\"Prepared training data of length {len(X_train)}\")\n",
    "    X_val = val_df.iloc[:, :-1].reset_index(drop=True)\n",
    "    y_val = val_df.median_house_value.values\n",
    "    # print(f\"Prepared validation data of length {len(X_val)}\")\n",
    "\n",
    "    \n",
    "    # transforms y\n",
    "    y_train = np.log1p(y_train)\n",
    "    y_val = np.log1p(y_val)\n",
    " \n",
    "    \n",
    "    # trains model weight\n",
    "    w = train_linear_regression(X_train.fillna(0), y_train, r=r)\n",
    "\n",
    "    \n",
    "    # predicts using trained weights\n",
    "    y = predict_linear_regression(X_val.fillna(0), w)\n",
    "\n",
    "    \n",
    "    # calculates rmse\n",
    "    score = rmse(y, y_val)\n",
    "    print(f\"seed={seed}, r={r}, test={test}, rmse={score}\\n\")\n",
    "\n",
    "    \n",
    "    return score"
   ]
  },
  {
   "cell_type": "code",
   "execution_count": 59,
   "id": "25c8ba6e-5044-4ede-b688-215b53da73a9",
   "metadata": {
    "scrolled": true
   },
   "outputs": [
    {
     "data": {
      "text/html": [
       "<div>\n",
       "<style scoped>\n",
       "    .dataframe tbody tr th:only-of-type {\n",
       "        vertical-align: middle;\n",
       "    }\n",
       "\n",
       "    .dataframe tbody tr th {\n",
       "        vertical-align: top;\n",
       "    }\n",
       "\n",
       "    .dataframe thead th {\n",
       "        text-align: right;\n",
       "    }\n",
       "</style>\n",
       "<table border=\"1\" class=\"dataframe\">\n",
       "  <thead>\n",
       "    <tr style=\"text-align: right;\">\n",
       "      <th></th>\n",
       "      <th>longitude</th>\n",
       "      <th>latitude</th>\n",
       "      <th>housing_median_age</th>\n",
       "      <th>total_rooms</th>\n",
       "      <th>total_bedrooms</th>\n",
       "      <th>population</th>\n",
       "      <th>households</th>\n",
       "      <th>median_income</th>\n",
       "      <th>median_house_value</th>\n",
       "    </tr>\n",
       "  </thead>\n",
       "  <tbody>\n",
       "    <tr>\n",
       "      <th>0</th>\n",
       "      <td>-122.23</td>\n",
       "      <td>37.88</td>\n",
       "      <td>41.0</td>\n",
       "      <td>880.0</td>\n",
       "      <td>129.0</td>\n",
       "      <td>322.0</td>\n",
       "      <td>126.0</td>\n",
       "      <td>8.3252</td>\n",
       "      <td>452600.0</td>\n",
       "    </tr>\n",
       "    <tr>\n",
       "      <th>1</th>\n",
       "      <td>-122.22</td>\n",
       "      <td>37.86</td>\n",
       "      <td>21.0</td>\n",
       "      <td>7099.0</td>\n",
       "      <td>1106.0</td>\n",
       "      <td>2401.0</td>\n",
       "      <td>1138.0</td>\n",
       "      <td>8.3014</td>\n",
       "      <td>358500.0</td>\n",
       "    </tr>\n",
       "    <tr>\n",
       "      <th>2</th>\n",
       "      <td>-122.24</td>\n",
       "      <td>37.85</td>\n",
       "      <td>52.0</td>\n",
       "      <td>1467.0</td>\n",
       "      <td>190.0</td>\n",
       "      <td>496.0</td>\n",
       "      <td>177.0</td>\n",
       "      <td>7.2574</td>\n",
       "      <td>352100.0</td>\n",
       "    </tr>\n",
       "    <tr>\n",
       "      <th>3</th>\n",
       "      <td>-122.25</td>\n",
       "      <td>37.85</td>\n",
       "      <td>52.0</td>\n",
       "      <td>1274.0</td>\n",
       "      <td>235.0</td>\n",
       "      <td>558.0</td>\n",
       "      <td>219.0</td>\n",
       "      <td>5.6431</td>\n",
       "      <td>341300.0</td>\n",
       "    </tr>\n",
       "    <tr>\n",
       "      <th>4</th>\n",
       "      <td>-122.25</td>\n",
       "      <td>37.85</td>\n",
       "      <td>52.0</td>\n",
       "      <td>1627.0</td>\n",
       "      <td>280.0</td>\n",
       "      <td>565.0</td>\n",
       "      <td>259.0</td>\n",
       "      <td>3.8462</td>\n",
       "      <td>342200.0</td>\n",
       "    </tr>\n",
       "  </tbody>\n",
       "</table>\n",
       "</div>"
      ],
      "text/plain": [
       "   longitude  latitude  housing_median_age  total_rooms  total_bedrooms  \\\n",
       "0    -122.23     37.88                41.0        880.0           129.0   \n",
       "1    -122.22     37.86                21.0       7099.0          1106.0   \n",
       "2    -122.24     37.85                52.0       1467.0           190.0   \n",
       "3    -122.25     37.85                52.0       1274.0           235.0   \n",
       "4    -122.25     37.85                52.0       1627.0           280.0   \n",
       "\n",
       "   population  households  median_income  median_house_value  \n",
       "0       322.0       126.0         8.3252            452600.0  \n",
       "1      2401.0      1138.0         8.3014            358500.0  \n",
       "2       496.0       177.0         7.2574            352100.0  \n",
       "3       558.0       219.0         5.6431            341300.0  \n",
       "4       565.0       259.0         3.8462            342200.0  "
      ]
     },
     "execution_count": 59,
     "metadata": {},
     "output_type": "execute_result"
    }
   ],
   "source": [
    "# checks that the data is still the same as original\n",
    "\n",
    "data.head()"
   ]
  },
  {
   "cell_type": "code",
   "execution_count": 60,
   "id": "783ee9fb-21b2-45c8-ae25-ef2690b1dbe8",
   "metadata": {},
   "outputs": [
    {
     "name": "stdout",
     "output_type": "stream",
     "text": [
      "seed=42, r=0, test=False, rmse=0.34\n",
      "\n"
     ]
    },
    {
     "data": {
      "text/plain": [
       "0.34"
      ]
     },
     "execution_count": 60,
     "metadata": {},
     "output_type": "execute_result"
    }
   ],
   "source": [
    "default_score = evaluation_pipeline(data)\n",
    "default_score"
   ]
  },
  {
   "cell_type": "code",
   "execution_count": 61,
   "id": "5c322763-bce3-4359-8711-f60687e6bc75",
   "metadata": {},
   "outputs": [
    {
     "name": "stdout",
     "output_type": "stream",
     "text": [
      "seed=0, r=0, test=False, rmse=0.33\n",
      "\n",
      "seed=1, r=0, test=False, rmse=0.35\n",
      "\n",
      "seed=2, r=0, test=False, rmse=0.34\n",
      "\n",
      "seed=3, r=0, test=False, rmse=0.34\n",
      "\n",
      "seed=4, r=0, test=False, rmse=0.34\n",
      "\n",
      "seed=5, r=0, test=False, rmse=0.34\n",
      "\n",
      "seed=6, r=0, test=False, rmse=0.33\n",
      "\n",
      "seed=7, r=0, test=False, rmse=0.34\n",
      "\n",
      "seed=8, r=0, test=False, rmse=0.34\n",
      "\n",
      "seed=9, r=0, test=False, rmse=0.35\n",
      "\n"
     ]
    }
   ],
   "source": [
    "seeds = [0, 1, 2, 3, 4, 5, 6, 7, 8, 9]\n",
    "scores = []\n",
    "\n",
    "for seed in seeds:\n",
    "    score = evaluation_pipeline(data, seed=seed)\n",
    "    scores.append(score)\n"
   ]
  },
  {
   "cell_type": "code",
   "execution_count": 62,
   "id": "a87bfc1f-c475-469a-84b2-f23af82e484d",
   "metadata": {},
   "outputs": [
    {
     "data": {
      "text/plain": [
       "{0: 0.33,\n",
       " 1: 0.35,\n",
       " 2: 0.34,\n",
       " 3: 0.34,\n",
       " 4: 0.34,\n",
       " 5: 0.34,\n",
       " 6: 0.33,\n",
       " 7: 0.34,\n",
       " 8: 0.34,\n",
       " 9: 0.35}"
      ]
     },
     "execution_count": 62,
     "metadata": {},
     "output_type": "execute_result"
    }
   ],
   "source": [
    "dict(zip(seeds, scores))"
   ]
  },
  {
   "cell_type": "code",
   "execution_count": 63,
   "id": "37da2f1f-5c8a-4b82-87d1-de7510b61dd1",
   "metadata": {},
   "outputs": [
    {
     "data": {
      "text/plain": [
       "0.006"
      ]
     },
     "execution_count": 63,
     "metadata": {},
     "output_type": "execute_result"
    }
   ],
   "source": [
    "round(np.std(scores), 3)"
   ]
  },
  {
   "cell_type": "markdown",
   "id": "d920b85f-628c-4b53-9a10-8591865893c9",
   "metadata": {},
   "source": [
    "**Answer**: 0.005"
   ]
  },
  {
   "cell_type": "markdown",
   "id": "576340f7-4fe3-47e7-859e-fa3eed6fc8bc",
   "metadata": {},
   "source": [
    "## Question 6\n",
    "\n",
    "* Split the dataset like previously, use seed 9.\n",
    "* Combine train and validation datasets.\n",
    "* Fill the missing values with 0 and train a model with r=0.001.\n",
    "* What's the RMSE on the test dataset?"
   ]
  },
  {
   "cell_type": "code",
   "execution_count": 64,
   "id": "ab139bee-ed55-4f1f-8f24-f184405b3369",
   "metadata": {},
   "outputs": [
    {
     "name": "stdout",
     "output_type": "stream",
     "text": [
      "seed=9, r=0.001, test=True, rmse=0.34\n",
      "\n"
     ]
    },
    {
     "data": {
      "text/plain": [
       "0.34"
      ]
     },
     "execution_count": 64,
     "metadata": {},
     "output_type": "execute_result"
    }
   ],
   "source": [
    "test_score = evaluation_pipeline(data, seed=9, r=0.001, test=True)\n",
    "test_score"
   ]
  },
  {
   "cell_type": "markdown",
   "id": "f1217266-485e-4d49-9a64-a728e9465dcc",
   "metadata": {},
   "source": [
    "**Answer**: 0.35"
   ]
  },
  {
   "cell_type": "code",
   "execution_count": null,
   "id": "85312085-2f47-4b89-9177-3a96fc810d2b",
   "metadata": {},
   "outputs": [],
   "source": []
  }
 ],
 "metadata": {
  "kernelspec": {
   "display_name": "Python 3 (ipykernel)",
   "language": "python",
   "name": "python3"
  },
  "language_info": {
   "codemirror_mode": {
    "name": "ipython",
    "version": 3
   },
   "file_extension": ".py",
   "mimetype": "text/x-python",
   "name": "python",
   "nbconvert_exporter": "python",
   "pygments_lexer": "ipython3",
   "version": "3.10.11"
  }
 },
 "nbformat": 4,
 "nbformat_minor": 5
}
